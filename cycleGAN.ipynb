{
  "cells": [
    {
      "cell_type": "markdown",
      "metadata": {
        "id": "view-in-github",
        "colab_type": "text"
      },
      "source": [
        "<a href=\"https://colab.research.google.com/github/Disha-Sikka/SAR-to-EO-CycleGAN/blob/main/cycleGAN.ipynb\" target=\"_parent\"><img src=\"https://colab.research.google.com/assets/colab-badge.svg\" alt=\"Open In Colab\"/></a>"
      ]
    },
    {
      "cell_type": "code",
      "execution_count": 1,
      "metadata": {
        "id": "5O0WzZ17LDUv"
      },
      "outputs": [],
      "source": [
        "# from google.colab import drive\n",
        "# drive.mount('/content/drive')\n"
      ]
    },
    {
      "cell_type": "markdown",
      "metadata": {
        "id": "acjJOSnyex6Q"
      },
      "source": [
        "# Copying Extracted files in Colab's Local Disk"
      ]
    },
    {
      "cell_type": "code",
      "execution_count": 2,
      "metadata": {
        "colab": {
          "base_uri": "https://localhost:8080/"
        },
        "id": "q1CywYH9ahp-",
        "outputId": "47893bfd-2b9f-455b-a2c0-db4c7ace0d78"
      },
      "outputs": [
        {
          "output_type": "stream",
          "name": "stdout",
          "text": [
            "Copying ROIs2017_winter_s1.tar.gz from Drive to Colab local disk...\n",
            "S1 file copied.\n",
            "Copying ROIs2017_winter_s2.tar.gz from Drive to Colab local disk...\n",
            "S2 file copied.\n",
            "Copying complete.\n"
          ]
        }
      ],
      "source": [
        "import shutil\n",
        "import os\n",
        "\n",
        "# store location of files in drive. So, that we can copy them\n",
        "drive_path_s1 = '/content/drive/MyDrive/CycleGAN/winter_s1'\n",
        "drive_path_s2 = '/content/drive/MyDrive/CycleGAN/winter_s2'\n",
        "\n",
        "Data_Root_Dir= '/content/my_sen12ms_data_subset'\n",
        "os.makedirs(Data_Root_Dir, exist_ok=True)\n",
        "\n",
        "# store location of colab's paths. Where you want to copy files\n",
        "colab_path_s1 = os.path.join(Data_Root_Dir, 'winter_s1')\n",
        "colab_path_s2 = os.path.join(Data_Root_Dir, 'winter_s2')\n",
        "\n",
        "print(\"Copying ROIs2017_winter_s1.tar.gz from Drive to Colab local disk...\")\n",
        "if os.path.exists(drive_path_s1):\n",
        "    shutil.copytree(drive_path_s1, colab_path_s1) # copytree --> is used to copy a folder while copy is used to copy a zip file\n",
        "    print(\"S1 file copied.\")\n",
        "else:\n",
        "    print(\"Wrong Path\")\n",
        "\n",
        "print(\"Copying ROIs2017_winter_s2.tar.gz from Drive to Colab local disk...\")\n",
        "if os.path.exists(drive_path_s2):\n",
        "    shutil.copytree(drive_path_s2, colab_path_s2)\n",
        "    print(\"S2 file copied.\")\n",
        "else:\n",
        "    print(\"Wrong Path\")\n",
        "\n",
        "print(\"Copying complete.\")"
      ]
    },
    {
      "cell_type": "markdown",
      "metadata": {
        "id": "lt6EuG5EpP59"
      },
      "source": [
        "# Importing Libraries"
      ]
    },
    {
      "cell_type": "code",
      "execution_count": 3,
      "metadata": {
        "colab": {
          "base_uri": "https://localhost:8080/"
        },
        "id": "R0gKf_UlpM8i",
        "outputId": "5080cbc8-925a-44a7-e188-c59e0b0f7541"
      },
      "outputs": [
        {
          "output_type": "stream",
          "name": "stdout",
          "text": [
            "Collecting rasterio\n",
            "  Downloading rasterio-1.4.3-cp311-cp311-manylinux_2_17_x86_64.manylinux2014_x86_64.whl.metadata (9.1 kB)\n",
            "Collecting affine (from rasterio)\n",
            "  Downloading affine-2.4.0-py3-none-any.whl.metadata (4.0 kB)\n",
            "Requirement already satisfied: attrs in /usr/local/lib/python3.11/dist-packages (from rasterio) (25.3.0)\n",
            "Requirement already satisfied: certifi in /usr/local/lib/python3.11/dist-packages (from rasterio) (2025.7.14)\n",
            "Requirement already satisfied: click>=4.0 in /usr/local/lib/python3.11/dist-packages (from rasterio) (8.2.1)\n",
            "Collecting cligj>=0.5 (from rasterio)\n",
            "  Downloading cligj-0.7.2-py3-none-any.whl.metadata (5.0 kB)\n",
            "Requirement already satisfied: numpy>=1.24 in /usr/local/lib/python3.11/dist-packages (from rasterio) (2.0.2)\n",
            "Collecting click-plugins (from rasterio)\n",
            "  Downloading click_plugins-1.1.1.2-py2.py3-none-any.whl.metadata (6.5 kB)\n",
            "Requirement already satisfied: pyparsing in /usr/local/lib/python3.11/dist-packages (from rasterio) (3.2.3)\n",
            "Downloading rasterio-1.4.3-cp311-cp311-manylinux_2_17_x86_64.manylinux2014_x86_64.whl (22.2 MB)\n",
            "\u001b[2K   \u001b[90m━━━━━━━━━━━━━━━━━━━━━━━━━━━━━━━━━━━━━━━━\u001b[0m \u001b[32m22.2/22.2 MB\u001b[0m \u001b[31m80.1 MB/s\u001b[0m eta \u001b[36m0:00:00\u001b[0m\n",
            "\u001b[?25hDownloading cligj-0.7.2-py3-none-any.whl (7.1 kB)\n",
            "Downloading affine-2.4.0-py3-none-any.whl (15 kB)\n",
            "Downloading click_plugins-1.1.1.2-py2.py3-none-any.whl (11 kB)\n",
            "Installing collected packages: cligj, click-plugins, affine, rasterio\n",
            "Successfully installed affine-2.4.0 click-plugins-1.1.1.2 cligj-0.7.2 rasterio-1.4.3\n"
          ]
        }
      ],
      "source": [
        "import os\n",
        "import glob\n",
        "import random\n",
        "import numpy as np\n",
        "from PIL import Image, UnidentifiedImageError\n",
        "from tqdm import tqdm\n",
        "!pip install rasterio\n",
        "import rasterio\n",
        "\n",
        "import torch\n",
        "import torch.nn as nn\n",
        "import torch.optim as optim\n",
        "from torch.utils.data import Dataset, DataLoader\n",
        "import torchvision.transforms as transforms\n",
        "import torchvision.utils as vutils\n",
        "import torch.nn.functional as F\n",
        "\n",
        "from skimage.metrics import structural_similarity as ssim\n",
        "from skimage.metrics import peak_signal_noise_ratio as psnr"
      ]
    },
    {
      "cell_type": "markdown",
      "metadata": {
        "id": "vxeNC3Lqucof"
      },
      "source": [
        "# Configuration\n",
        "\n",
        "- For defining the parameters. So, that we can easily change them when we want."
      ]
    },
    {
      "cell_type": "code",
      "execution_count": 4,
      "metadata": {
        "id": "Ga39ss3sphLn"
      },
      "outputs": [],
      "source": [
        "class Config:\n",
        "    # Data paths\n",
        "    data_root_dir='/content/my_sen12ms_data_subset'\n",
        "    SAR_DIR = 'winter_s1'\n",
        "    EO_DIR = 'winter_s2'\n",
        "\n",
        "    # Model parameters\n",
        "    INPUT_NC = 3 # Number of input channels for SAR (Sentinel-1 GRD usually has 2: VV, VH)\n",
        "    NGF = 64 # Number of generator filters in the first conv layer\n",
        "    NDF = 64 # Number of discriminator filters in the first conv layer\n",
        "    N_RESNET_BLOCKS = 6 # Number of ResNet blocks in the generator\n",
        "\n",
        "    # Training parameters\n",
        "    BATCH_SIZE = 1 # CycleGAN typically uses batch size 1\n",
        "    NUM_EPOCHS = 2\n",
        "    LR = 0.0002 # Learning rate\n",
        "    BETA1 = 0.5 # Adam optimizer beta1\n",
        "    LAMBDA_CYCLE = 10.0 # Weight for cycle consistency loss\n",
        "    LAMBDA_IDENTITY = 5.0 # Weight for identity mapping loss helps stabilize\n",
        "\n",
        "    # Image parameters\n",
        "    IMAGE_SIZE = 256\n",
        "    NUM_WORKERS = 4\n",
        "\n",
        "    # Output and logging\n",
        "    # Save outputs and checkpoints to Google Drive for persistence across sessions\n",
        "    OUTPUT_BASE_DIR = '/content/drive/MyDrive/CycleGAN/SAR_EO_Project_Outputs' # Base directory in Drive\n",
        "    OUTPUT_DIR = os.path.join(OUTPUT_BASE_DIR, 'output_cyclegan') # Specific output for images\n",
        "    CHECKPOINT_DIR = os.path.join(OUTPUT_BASE_DIR, 'checkpoints_cyclegan') # Specific output for models\n",
        "\n",
        "    SAVE_EPOCH_FREQ = 5 # Save model checkpoints every N epochs\n",
        "    PRINT_FREQ = 1 # Print training loss every N batches\n",
        "\n",
        "    # Device\n",
        "    DEVICE = torch.device('cuda' if torch.cuda.is_available() else 'cpu')\n",
        "\n",
        "    # EO Band Configurations (Sentinel-2 bands)\n",
        "    # B1 (Coastal Aerosol), B2 (Blue), B3 (Green), B4 (Red), B5 (Red Edge 1),\n",
        "    # B6 (Red Edge 2), B7 (Red Edge 3), B8 (NIR), B8A (NIR Narrow), B9 (Water Vapour),\n",
        "    # B10 (SWIR - Cirrus), B11 (SWIR 1), B12 (SWIR 2)\n",
        "    EO_BAND_CONFIGS = {\n",
        "        \"RGB\": [4, 3, 2], # B4, B3, B2 (Red, Green, Blue)\n",
        "        \"NIR_SWIR_RedEdge\": [8, 11, 5], # B8, B11, B5 (NIR, SWIR1, Red Edge 1)\n",
        "        \"RGB_NIR\": [4, 3, 2, 8] # B4, B3, B2, B8 (Red, Green, Blue, NIR)\n",
        "    }\n",
        "\n",
        "    CURRENT_EO_CONFIG_NAME = \"RGB\"\n",
        "    OUTPUT_NC = len(EO_BAND_CONFIGS[CURRENT_EO_CONFIG_NAME])\n",
        "\n",
        "\n",
        "# Initialize configuration\n",
        "config = Config()\n",
        "\n",
        "# Create output directories if they don't exist in Google Drive\n",
        "os.makedirs(config.OUTPUT_DIR, exist_ok=True)\n",
        "os.makedirs(config.CHECKPOINT_DIR, exist_ok=True)\n"
      ]
    },
    {
      "cell_type": "code",
      "execution_count": 5,
      "metadata": {
        "id": "Hx_jTwjxwKvs"
      },
      "outputs": [],
      "source": [
        "config = Config()\n",
        "\n",
        "# Create output directories if they don't exist in Google Drive\n",
        "os.makedirs(config.OUTPUT_DIR, exist_ok=True)\n",
        "os.makedirs(config.CHECKPOINT_DIR, exist_ok=True)\n"
      ]
    },
    {
      "cell_type": "markdown",
      "metadata": {
        "id": "scEuwapdmkoy"
      },
      "source": [
        "# DataLoader and Preprocessing Custom Class\n"
      ]
    },
    {
      "cell_type": "code",
      "execution_count": 6,
      "metadata": {
        "id": "9dlIpfH9ILjW"
      },
      "outputs": [],
      "source": [
        "class Sen12MSDataset(Dataset):\n",
        "  def __init__(self, root_dir, sar_dir, eo_dir, eo_bands, image_size=256):\n",
        "    self.sar_root = os.path.join(root_dir, sar_dir)\n",
        "    self.eo_root = os.path.join(root_dir, eo_dir)\n",
        "    self.eo_bands = eo_bands # List of band numbers (e.g., [4, 3, 2]) from Config\n",
        "    self.image_size = image_size\n",
        "\n",
        "    # Find all .tif files within the SAR root, recursively\n",
        "    self.sar_image_paths = sorted(glob.glob(os.path.join(self.sar_root, '**', '*.tif'), recursive=True))\n",
        "\n",
        "    # Find all .tif files within the EO root, recursively\n",
        "    self.eo_image_paths = sorted(glob.glob(os.path.join(self.eo_root, '**', '*.tif'), recursive=True))\n",
        "\n",
        "    # Filter out unreadable/problematic files during initialization\n",
        "    self.sar_image_paths = self._filter_unreadable_images(self.sar_image_paths, \"SAR\")\n",
        "    self.eo_image_paths = self._filter_unreadable_images(self.eo_image_paths, \"EO\")\n",
        "\n",
        "\n",
        "    self.pairs = self._match_sar_eo_pairs()\n",
        "\n",
        "\n",
        "    print(f\"Found {len(self.pairs)} matched SAR-EO pairs.\")\n",
        "    if len(self.pairs) == 0:\n",
        "        print(\"WARNING: No SAR-EO pairs found. Please check your data paths and extraction.\")\n",
        "        print(f\"SAR root: {self.sar_root}\")\n",
        "        print(f\"EO root: {self.eo_root}\")\n",
        "        print(f\"Example SAR path search: {os.path.join(self.sar_root, '**', '*.tif')}\")\n",
        "        print(f\"Example EO path search: {os.path.join(self.eo_root, '**', '*.tif')}\")\n",
        "\n",
        "\n",
        "  def _filter_unreadable_images(self, image_paths, image_type=\"Image\"):\n",
        "        \"\"\"\n",
        "        Checks if images are readable by rasterio and filters out unreadable ones.\n",
        "        \"\"\"\n",
        "        readable_paths = []\n",
        "        for path in tqdm(image_paths, desc=f\"Checking {image_type} readability\"):\n",
        "            try:\n",
        "                with rasterio.open(path) as src:\n",
        "                    # Try to read a band to ensure it's truly readable\n",
        "                    _ = src.read(1)\n",
        "                readable_paths.append(path)\n",
        "            except Exception as e: # Catch broader exceptions for rasterio issues\n",
        "                print(f\"Skipping unreadable {image_type} file: {path} (Error: {e})\")\n",
        "        return readable_paths\n",
        "\n",
        "\n",
        "  def _match_sar_eo_pairs(self):\n",
        "      \"\"\"\n",
        "      Creates pseudo-pairs for unpaired training. Each SAR image is paired with a random EO image.\n",
        "      This ensures the dataset has a non-zero length and provides data for training.\n",
        "      \"\"\"\n",
        "      if not self.sar_image_paths or not self.eo_image_paths:\n",
        "          return [] # No data found\n",
        "\n",
        "      matched_pairs = []\n",
        "      for sar_path in self.sar_image_paths:\n",
        "          random_eo_path = random.choice(self.eo_image_paths)\n",
        "          matched_pairs.append((sar_path, random_eo_path))\n",
        "\n",
        "      return matched_pairs\n",
        "\n",
        "\n",
        "  def __len__(self):\n",
        "      return len(self.pairs)\n",
        "\n",
        "  def __getitem__(self, idx):\n",
        "      sar_path, eo_path = self.pairs[idx]\n",
        "\n",
        "      # --- Load and Preprocess SAR Image ---\n",
        "     # --- Load and Preprocess SAR Image ---\n",
        "      with rasterio.open(sar_path) as src:\n",
        "          sar_image_np_raw = src.read().astype(np.float32) # Read all bands, convert to float32\n",
        "\n",
        "      # --- NEW ROBUST SAR CHANNEL HANDLING ---\n",
        "      # Ensure sar_image_np has exactly config.INPUT_NC channels (which is 2)\n",
        "      if sar_image_np_raw.shape[0] == config.INPUT_NC:\n",
        "          sar_image_np = sar_image_np_raw # Perfect match\n",
        "      elif sar_image_np_raw.shape[0] == 1 and config.INPUT_NC == 2:\n",
        "      #     # If 1-channel, but 2 expected, repeat it (e.g., VV -> VV,VV)\n",
        "          sar_image_np = np.repeat(sar_image_np_raw, 2, axis=0)\n",
        "          print(f\"Warning: SAR image {os.path.basename(sar_path)} is 1-channel ({sar_image_np_raw.shape[0]} channels), but INPUT_NC is {config.INPUT_NC}. Repeating channel.\")\n",
        "      elif sar_image_np_raw.shape[0] == 3 and config.INPUT_NC == 2:\n",
        "      #     # If 3-channel (e.g., RGB), but 2 expected, take first 2 channels\n",
        "          sar_image_np = sar_image_np_raw[:2, :, :]\n",
        "          print(f\"Warning: SAR image {os.path.basename(sar_path)} is 3-channel, but INPUT_NC is {config.INPUT_NC}. Taking first 2 channels.\")\n",
        "      elif sar_image_np_raw.shape[0] > config.INPUT_NC:\n",
        "      #     # If more channels than expected (and not 3-channel handled above), take the first INPUT_NC channels\n",
        "          sar_image_np = sar_image_np_raw[:config.INPUT_NC, :, :]\n",
        "          print(f\"Warning: SAR image {os.path.basename(sar_path)} has {sar_image_np_raw.shape[0]} channels, but INPUT_NC is {config.INPUT_NC}. Taking first {config.INPUT_NC} channels.\")\n",
        "      else: # sar_image_np_raw.shape[0] < config.INPUT_NC\n",
        "      #     # Pad with zeros if fewer channels than expected\n",
        "          padding_needed = config.INPUT_NC - sar_image_np_raw.shape[0]\n",
        "          sar_image_np = np.pad(sar_image_np_raw, ((0, padding_needed), (0,0), (0,0)), mode='constant')\n",
        "          print(f\"Warning: SAR image {os.path.basename(sar_path)} has {sar_image_np_raw.shape[0]} channels, but INPUT_NC is {config.INPUT_NC}. Padding with zeros.\")\n",
        "\n",
        "\n",
        "      sar_image_tensor = torch.from_numpy(sar_image_np).float()\n",
        "      sar_image_tensor = torch.nan_to_num(sar_image_tensor, nan=0.0, posinf=0.0, neginf=0.0)\n",
        "\n",
        "      sar_image_tensor = F.interpolate(sar_image_tensor.unsqueeze(0), size=(self.image_size, self.image_size), mode='bicubic', align_corners=False).squeeze(0)\n",
        "\n",
        "      sar_min = sar_image_tensor.min()\n",
        "      sar_max = sar_image_tensor.max()\n",
        "      if sar_max > sar_min:\n",
        "            sar_image_tensor = (sar_image_tensor - sar_min) / (sar_max - sar_min) # Scale to [0, 1]\n",
        "      else:\n",
        "            sar_image_tensor = torch.zeros_like(sar_image_tensor)\n",
        "      sar_image_tensor = sar_image_tensor * 2.0 - 1.0 # Scale to [-1, 1]\n",
        "\n",
        "      # Load and Preprocess EO Image (3-channel RGB .tif)\n",
        "      with rasterio.open(eo_path) as src:\n",
        "            eo_image_np = src.read().astype(np.float32) # Read all bands, convert to float32\n",
        "            # src.read() reads (C, H, W) directly.\n",
        "\n",
        "      eo_image_tensor_full = torch.from_numpy(eo_image_np).float()\n",
        "\n",
        "      # find this index and band number using QGIS\n",
        "      band_number_to_channel_index = {\n",
        "          4: 0, # Sentinel-2 Band 4 (Red) is at channel index 0\n",
        "          3: 1, # Sentinel-2 Band 3 (Green) is at channel index 1\n",
        "          2: 2, # Sentinel-2 Band 2 (Blue) is at channel index 2\n",
        "      }\n",
        "\n",
        "      selected_eo_bands_tensors = []\n",
        "      for band_num in self.eo_bands: # Iterate through desired band numbers from Config (e.g., 4, 3, 2)\n",
        "          channel_idx = band_number_to_channel_index.get(band_num, -1)\n",
        "\n",
        "          if channel_idx == -1 or channel_idx >= eo_image_tensor_full.shape[0]:\n",
        "              print(f\"Warning: Desired band B{band_num} not found or index out of range in EO image {os.path.basename(eo_path)}. Filling with zeros.\")\n",
        "              # Create a zero-filled channel if the band is not present in the loaded TIFF\n",
        "              selected_eo_bands_tensors.append(torch.zeros(1, eo_image_tensor_full.shape[1], eo_image_tensor_full.shape[2], device=config.DEVICE))\n",
        "          else:\n",
        "              selected_eo_bands_tensors.append(eo_image_tensor_full[channel_idx:channel_idx+1, :, :])\n",
        "\n",
        "      if not selected_eo_bands_tensors:\n",
        "          print(f\"Error: No valid bands selected for EO image {os.path.basename(eo_path)}. Returning zeros.\")\n",
        "          eo_image_tensor = torch.zeros(config.OUTPUT_NC, self.image_size, self.image_size, device=config.DEVICE)\n",
        "      else:\n",
        "          eo_image_tensor = torch.cat(selected_eo_bands_tensors, dim=0)\n",
        "\n",
        "      # Ensure the final EO tensor has the correct number of channels (OUTPUT_NC)\n",
        "      if eo_image_tensor.shape[0] != config.OUTPUT_NC:\n",
        "          print(f\"Error: Final EO tensor has {eo_image_tensor.shape[0]} channels, but expected {config.OUTPUT_NC}. This indicates an issue with band selection or config.OUTPUT_NC.\")\n",
        "          if eo_image_tensor.shape[0] < config.OUTPUT_NC:\n",
        "              padding_needed = config.OUTPUT_NC - eo_image_tensor.shape[0]\n",
        "              eo_image_tensor = torch.cat([eo_image_tensor, torch.zeros(padding_needed, eo_image_tensor.shape[1], eo_image_tensor.shape[2], device=config.DEVICE)], dim=0)\n",
        "          else:\n",
        "              eo_image_tensor = eo_image_tensor[:config.OUTPUT_NC, :, :]\n",
        "\n",
        "\n",
        "      # Normalize EO to [-1, 1]\n",
        "      eo_max_val = 10000.0\n",
        "      eo_image_tensor = torch.clamp(eo_image_tensor, 0, eo_max_val)\n",
        "      eo_image_tensor = (eo_image_tensor / eo_max_val) * 2.0 - 1.0\n",
        "\n",
        "      eo_image_tensor = F.interpolate(eo_image_tensor.unsqueeze(0), size=(self.image_size, self.image_size), mode='bicubic', align_corners=False).squeeze(0)\n",
        "\n",
        "      return sar_image_tensor, eo_image_tensor"
      ]
    },
    {
      "cell_type": "code",
      "execution_count": 7,
      "metadata": {
        "id": "ixHuQGmpMSqe"
      },
      "outputs": [],
      "source": [
        "# Helper function for Convolutional Block\n",
        "def conv_block(in_channels, out_channels, kernel_size, stride, padding, use_bias=False, norm_layer=nn.InstanceNorm2d, activation=nn.ReLU(True)):\n",
        "    \"\"\"A convolutional block with Conv2d, Normalization, and Activation.\"\"\"\n",
        "    layers = [\n",
        "        nn.Conv2d(in_channels, out_channels, kernel_size, stride, padding, bias=use_bias)\n",
        "    ]\n",
        "    if norm_layer:\n",
        "        layers.append(norm_layer(out_channels))\n",
        "    if activation:\n",
        "        layers.append(activation)\n",
        "    return nn.Sequential(*layers)\n",
        "\n",
        "# Helper function for Transposed Convolutional Block (for upsampling)\n",
        "def deconv_block(in_channels, out_channels, kernel_size, stride, padding, output_padding, use_bias=False, norm_layer=nn.InstanceNorm2d, activation=nn.ReLU(True)):\n",
        "    \"\"\"A transposed convolutional block with ConvTranspose2d, Normalization, and Activation.\"\"\"\n",
        "    layers = [\n",
        "        nn.ConvTranspose2d(in_channels, out_channels, kernel_size, stride, padding, output_padding, bias=use_bias)\n",
        "    ]\n",
        "    if norm_layer:\n",
        "        layers.append(norm_layer(out_channels))\n",
        "    if activation:\n",
        "        layers.append(activation)\n",
        "    return nn.Sequential(*layers)\n"
      ]
    },
    {
      "cell_type": "markdown",
      "metadata": {
        "id": "ZAOBjmLjDiRL"
      },
      "source": [
        "# Class ResNet\n"
      ]
    },
    {
      "cell_type": "code",
      "execution_count": 8,
      "metadata": {
        "id": "kQgQyMakAnHY"
      },
      "outputs": [],
      "source": [
        "class ResnetBlock(nn.Module):\n",
        "    def __init__(self, dim, norm_layer=nn.InstanceNorm2d, use_bias=False):\n",
        "        super(ResnetBlock, self).__init__()\n",
        "        self.conv_block = nn.Sequential(\n",
        "            nn.ReflectionPad2d(1),\n",
        "            conv_block(dim, dim, kernel_size=3, stride=1, padding=0, use_bias=use_bias, norm_layer=norm_layer),\n",
        "            nn.Dropout(0.5), # Added dropout for regularization\n",
        "            nn.ReflectionPad2d(1),\n",
        "            conv_block(dim, dim, kernel_size=3, stride=1, padding=0, use_bias=use_bias, norm_layer=norm_layer, activation=None) # No activation after second conv\n",
        "        )\n",
        "\n",
        "    def forward(self, x):\n",
        "        return x + self.conv_block(x) # Residual connection\n"
      ]
    },
    {
      "cell_type": "markdown",
      "metadata": {
        "id": "H4z_qi-BHRcT"
      },
      "source": [
        "# Class Generator\n",
        "- U-Net Based\n",
        "- Translates images from Domain A to Domain B\n",
        "- In this first we downsample the image, than pass the image through ResNet Block, than we decode the image by upscaling it and adding a conv layer which converts it to RGB format."
      ]
    },
    {
      "cell_type": "code",
      "execution_count": 9,
      "metadata": {
        "id": "dCXifUd9HP5n"
      },
      "outputs": [],
      "source": [
        "class Generator(nn.Module):\n",
        "    \"\"\"\n",
        "    Generator model (U-Net based).\n",
        "    Translates images from domain A to domain B.\n",
        "    \"\"\"\n",
        "    def __init__(self, input_nc, output_nc, ngf=64, n_blocks=9, norm_layer=nn.InstanceNorm2d):\n",
        "        super(Generator, self).__init__()\n",
        "        use_bias = norm_layer == nn.InstanceNorm2d\n",
        "\n",
        "        model = [\n",
        "            nn.ReflectionPad2d(3),\n",
        "            conv_block(input_nc, ngf, kernel_size=7, stride=1, padding=0, use_bias=use_bias, norm_layer=norm_layer)\n",
        "        ]\n",
        "\n",
        "        # Downsampling\n",
        "        n_downsampling = 2\n",
        "        for i in range(n_downsampling):\n",
        "            mult = 2 ** i\n",
        "            model += [\n",
        "                conv_block(ngf * mult, ngf * mult * 2, kernel_size=3, stride=2, padding=1, use_bias=use_bias, norm_layer=norm_layer)\n",
        "            ]\n",
        "\n",
        "        # ResNet blocks\n",
        "        mult = 2 ** n_downsampling\n",
        "        for i in range(n_blocks):\n",
        "            model += [ResnetBlock(ngf * mult, norm_layer=norm_layer, use_bias=use_bias)]\n",
        "\n",
        "        # Upsampling\n",
        "        for i in range(n_downsampling):\n",
        "            mult = 2 ** (n_downsampling - i)\n",
        "            model += [\n",
        "                deconv_block(ngf * mult, int(ngf * mult / 2), kernel_size=3, stride=2, padding=1, output_padding=1, use_bias=use_bias, norm_layer=norm_layer)\n",
        "            ]\n",
        "\n",
        "        model += [\n",
        "            nn.ReflectionPad2d(3),\n",
        "            nn.Conv2d(ngf, output_nc, kernel_size=7, padding=0),\n",
        "            nn.Tanh() # Output activation to map to [-1, 1]\n",
        "        ]\n",
        "        self.model = nn.Sequential(*model)\n",
        "\n",
        "    def forward(self, input):\n",
        "        return self.model(input)\n"
      ]
    },
    {
      "cell_type": "markdown",
      "metadata": {
        "id": "Pq6-LqHnLaVS"
      },
      "source": [
        "# Discriminator Class\n",
        "\n",
        "- PatchGAN based\n",
        "- Classifies whether the provided image is real or fake\n",
        "- Convulational layer and Normalization while downscaling.\n",
        "- At last layer, Conv layer and Sigmoid"
      ]
    },
    {
      "cell_type": "code",
      "execution_count": 10,
      "metadata": {
        "id": "phRrfhwUIXAj"
      },
      "outputs": [],
      "source": [
        "\n",
        "class Discriminator(nn.Module):\n",
        "    \"\"\"\n",
        "    Discriminator model (PatchGAN based).\n",
        "    Classifies image patches as real or fake.\n",
        "    \"\"\"\n",
        "    def __init__(self, input_nc, ndf=64, n_layers=3, norm_layer=nn.InstanceNorm2d):\n",
        "        super(Discriminator, self).__init__()\n",
        "        use_bias = norm_layer == nn.InstanceNorm2d\n",
        "\n",
        "        kw = 4 # Kernel width/height\n",
        "        padw = 1 # Padding\n",
        "\n",
        "        model = [\n",
        "            nn.Conv2d(input_nc, ndf, kernel_size=kw, stride=2, padding=padw),\n",
        "            nn.LeakyReLU(0.2, True) # Leaky ReLU prevents dying ReLU problems and allow gradients to flow for negative inputs\n",
        "        ]\n",
        "\n",
        "        for i in range(1, n_layers):\n",
        "            mult = 2 ** i\n",
        "            model += [\n",
        "                conv_block(ndf * mult // 2, ndf * mult, kernel_size=kw, stride=2, padding=padw, use_bias=use_bias, norm_layer=norm_layer, activation=nn.LeakyReLU(0.2, True))\n",
        "            ]\n",
        "\n",
        "        mult = 2 ** n_layers\n",
        "        model += [\n",
        "            conv_block(ndf * mult // 2, ndf * mult, kernel_size=kw, stride=1, padding=padw, use_bias=use_bias, norm_layer=norm_layer, activation=nn.LeakyReLU(0.2, True))\n",
        "        ]\n",
        "\n",
        "        model += [\n",
        "            nn.Conv2d(ndf * mult, 1, kernel_size=kw, stride=1, padding=padw) # Output 1-channel prediction map\n",
        "        ]\n",
        "        self.model = nn.Sequential(*model)\n",
        "\n",
        "    def forward(self, input):\n",
        "        return self.model(input)\n"
      ]
    },
    {
      "cell_type": "markdown",
      "metadata": {
        "id": "vhZFraNuUcW1"
      },
      "source": [
        "# Adversarial Loss Function\n",
        "\n",
        "- It tells how well discriminator is working in distinguishing real and fake.\n",
        "- It also tells how well generator is working in translating the image from one domain to other domain.\n"
      ]
    },
    {
      "cell_type": "code",
      "execution_count": 11,
      "metadata": {
        "id": "CxqMQN9DM9YJ"
      },
      "outputs": [],
      "source": [
        "class GANLoss(nn.Module):\n",
        "    \"\"\"\n",
        "    Adversarial Loss calculation of discriminator and generator functions. Loss Calculated using mean square\n",
        "    \"\"\"\n",
        "    def __init__(self, gan_mode='mse', target_real_label=1.0, target_fake_label=0.0):\n",
        "        super(GANLoss, self).__init__()\n",
        "        self.register_buffer('real_label', torch.tensor(target_real_label))\n",
        "        self.register_buffer('fake_label', torch.tensor(target_fake_label))\n",
        "        self.gan_mode = gan_mode\n",
        "        if gan_mode == 'lsgan': # Least Squares GAN\n",
        "            self.loss = nn.MSELoss()\n",
        "        elif gan_mode == 'vanilla': # Standard GAN (Binary Cross Entropy)\n",
        "            self.loss = nn.BCEWithLogitsLoss()\n",
        "        else:\n",
        "            raise NotImplementedError(f'GAN mode {gan_mode} not implemented.')\n",
        "\n",
        "    def get_target_tensor(self, prediction, target_is_real):\n",
        "        \"\"\"Creates label tensors with the same size as the input prediction.\"\"\"\n",
        "        if target_is_real:\n",
        "            target_tensor = self.real_label\n",
        "        else:\n",
        "            target_tensor = self.fake_label\n",
        "        return target_tensor.expand_as(prediction)\n",
        "\n",
        "    def __call__(self, prediction, target_is_real):\n",
        "        target_tensor = self.get_target_tensor(prediction, target_is_real)\n",
        "        return self.loss(prediction, target_tensor)\n"
      ]
    },
    {
      "cell_type": "markdown",
      "metadata": {
        "id": "Qr-TotPiXq_t"
      },
      "source": [
        "# Cycle Consistency Loss\n",
        "\n",
        "- It calculates the loss while translating SAR to EO and than back to SAR\n",
        "- Mean Absolute Error"
      ]
    },
    {
      "cell_type": "code",
      "execution_count": 12,
      "metadata": {
        "id": "DUzxHls7W7m1"
      },
      "outputs": [],
      "source": [
        "class CycleConsistencyLoss(nn.Module):\n",
        "    \"\"\"\n",
        "    L1 loss for cycle consistency.\n",
        "    \"\"\"\n",
        "    def __init__(self, lambda_cycle=10.0): # higher the lambda--> higher is the consistency of cycle\n",
        "        super(CycleConsistencyLoss, self).__init__()\n",
        "        self.lambda_cycle = lambda_cycle\n",
        "        self.loss = nn.L1Loss() # because it encourages pixel-wise accuracy\n",
        "\n",
        "    def forward(self, real_image, cycled_image):\n",
        "        return self.loss(real_image, cycled_image) * self.lambda_cycle\n"
      ]
    },
    {
      "cell_type": "markdown",
      "metadata": {
        "id": "zWr4O3VwdZ8Z"
      },
      "source": [
        "# Identity Loss\n",
        "\n",
        "- Optional\n",
        "- Done for colour preservation\n",
        "- And training Stability\n"
      ]
    },
    {
      "cell_type": "code",
      "execution_count": 13,
      "metadata": {
        "id": "SJpSaV8GalYo"
      },
      "outputs": [],
      "source": [
        "class IdentityLoss(nn.Module):\n",
        "    \"\"\"\n",
        "    L1 loss for identity mapping.\n",
        "    Encourages generators to preserve color composition when input is already from the target domain.\n",
        "    \"\"\"\n",
        "    def __init__(self, lambda_identity=5.0):\n",
        "        super(IdentityLoss, self).__init__()\n",
        "        self.lambda_identity = lambda_identity\n",
        "        self.loss = nn.L1Loss()\n",
        "\n",
        "    def forward(self, real_image, identity_image):\n",
        "        return self.loss(real_image, identity_image) * self.lambda_identity"
      ]
    },
    {
      "cell_type": "markdown",
      "metadata": {
        "id": "gZAMJJrzmV0q"
      },
      "source": [
        "# Utilities for Postprocessing and Metrics\n",
        "\n",
        "- To convert pixels value from the range [-1,1] to [0,1] or [0,255]\n",
        "- For showing the images SAR and generated EO side by side.\n",
        "- To measure the similarity between two images.\n",
        "- To calculate peak-signal-to-noise (PSNR) ratio.\n",
        "- To calculate NDVI from EO image"
      ]
    },
    {
      "cell_type": "code",
      "execution_count": 14,
      "metadata": {
        "id": "t4EtYp_mmXF2"
      },
      "outputs": [],
      "source": [
        "def denormalize_image(tensor):\n",
        "    \"\"\"\n",
        "    Denormalizes a tensor from [-1, 1] to [0, 1].\n",
        "    Args:\n",
        "        tensor (torch.Tensor): Image tensor in range [-1, 1].\n",
        "    Returns:\n",
        "        torch.Tensor: Image tensor in range [0, 1].\n",
        "    \"\"\"\n",
        "    return (tensor + 1) / 2.0\n",
        "\n",
        "def save_combined_image(sar_img, gen_eo_img, real_eo_img, filename):\n",
        "    \"\"\"\n",
        "    Combines Real SAR, Generated EO, and Real EO images side-by-side and saves them.\n",
        "    Assumes inputs are already denormalized to [0, 1].\n",
        "    \"\"\"\n",
        "    if sar_img.shape[1] == 2: # Check channel dimension (N, C, H, W)\n",
        "        sar_img_display = sar_img.mean(dim=1, keepdim=True).repeat(1, 3, 1, 1) # Convert to grayscale 3-channel\n",
        "    else:\n",
        "        sar_img_display = sar_img.repeat(1, 3, 1, 1) if sar_img.shape[1] == 1 else sar_img\n",
        "\n",
        "    # For EO, if it has 4 channels (RGB+NIR), select RGB for display\n",
        "    if gen_eo_img.shape[1] == 4:\n",
        "        gen_eo_img_display = gen_eo_img[:, :3, :, :] # Take first 3 channels (RGB)\n",
        "        real_eo_img_display = real_eo_img[:, :3, :, :]\n",
        "    else:\n",
        "        gen_eo_img_display = gen_eo_img\n",
        "        real_eo_img_display = real_eo_img\n",
        "\n",
        "    # Concatenate images horizontally\n",
        "    combined_image = torch.cat([sar_img_display, gen_eo_img_display, real_eo_img_display], dim=3) # Concatenate along width\n",
        "    vutils.save_image(combined_image, filename, normalize=True, nrow=1) # normalize=True scales each image in the grid to [0,1]ng)\n",
        "\n",
        "def calculate_ssim(img1, img2, data_range=1.0): # Removed multichannel parameter from signature\n",
        "    \"\"\"\n",
        "    Calculates SSIM between two images.\n",
        "    Args:\n",
        "        img1 (torch.Tensor): First image (N, C, H, W) or (C, H, W) in range [0,1].\n",
        "        img2 (torch.Tensor): Second image (N, C, H, W) or (C, H, W) in range [0,1].\n",
        "        data_range (float): The range of the data (e.g., 1.0 for [0,1], 255 for [0,255]).\n",
        "    Returns:\n",
        "        float: SSIM score.\n",
        "    \"\"\"\n",
        "    # Ensure inputs are (H, W) for grayscale or (H, W, C) for multichannel\n",
        "    # Squeeze batch dimension if present, move to CPU, convert to numpy\n",
        "    img1_np = img1.squeeze().cpu().numpy()\n",
        "    img2_np = img2.squeeze().cpu().numpy()\n",
        "\n",
        "    _multichannel = False\n",
        "    _channel_axis = None\n",
        "\n",
        "    if img1_np.ndim == 3: # If it has 3 dimensions (C, H, W) or (H, W, C)\n",
        "        if img1_np.shape[0] in [1, 3, 4]: # Common channel counts for C,H,W\n",
        "            # Assume (C, H, W) and transpose to (H, W, C)\n",
        "            img1_np = np.transpose(img1_np, (1, 2, 0))\n",
        "            img2_np = np.transpose(img2_np, (1, 2, 0))\n",
        "            if img1_np.shape[2] > 1: # If more than 1 channel after transpose\n",
        "                _multichannel = True\n",
        "                _channel_axis = -1 # Channels are now the last dimension\n",
        "        elif img1_np.shape[2] in [1, 3, 4]: # Assume (H, W, C)\n",
        "            if img1_np.shape[2] > 1:\n",
        "                _multichannel = True\n",
        "                _channel_axis = -1\n",
        "        # If it's 3D but not a common image shape, treat as grayscale (H,W,1)\n",
        "        elif img1_np.shape[0] > 1 and img1_np.shape[1] > 1 and img1_np.shape[2] == 1: # (H, W, 1)\n",
        "             _multichannel = False\n",
        "    elif img1_np.ndim == 2: # Grayscale (H, W)\n",
        "        _multichannel = False\n",
        "\n",
        "    # Use channel_axis for multichannel images\n",
        "    if _multichannel:\n",
        "        return ssim(im1=img1_np, im2=img2_np, data_range=data_range, channel_axis=_channel_axis)\n",
        "    else:\n",
        "        return ssim(im1=img1_np, im2=img2_np, data_range=data_range)\n",
        "\n",
        "def calculate_psnr(img1, img2, data_range=1.0):\n",
        "    \"\"\"\n",
        "    Calculates PSNR between two images.\n",
        "    Args:\n",
        "        img1 (torch.Tensor): First image (N, C, H, W) or (C, H, W) in range [0,1].\n",
        "        img2 (torch.Tensor): Second image (N, C, H, W) or (C, H, W) in range [0,1].\n",
        "        data_range (float): The range of the data (e.g., 1.0 for [0,1], 255 for [0,255]).\n",
        "    Returns:\n",
        "        float: PSNR score.\n",
        "    \"\"\"\n",
        "    # Ensure inputs are (H, W) for grayscale or (H, W, C) for multichannel\n",
        "    # Squeeze batch dimension if present, move to CPU, convert to numpy\n",
        "    img1_np = img1.squeeze().cpu().numpy()\n",
        "    img2_np = img2.squeeze().cpu().numpy()\n",
        "\n",
        "    # If it's 3D (C, H, W), transpose to (H, W, C) for consistency (though PSNR doesn't strictly need it)\n",
        "    if img1_np.ndim == 3 and img1_np.shape[0] in [1, 3, 4]:\n",
        "        img1_np = np.transpose(img1_np, (1, 2, 0))\n",
        "        img2_np = np.transpose(img2_np, (1, 2, 0))\n",
        "    # If it's (H, W, 1), remove the last dim for grayscale PSNR\n",
        "    elif img1_np.ndim == 3 and img1_np.shape[2] == 1:\n",
        "        img1_np = img1_np[:, :, 0]\n",
        "        img2_np = img2_np[:, :, 0]\n",
        "\n",
        "    # CORRECTED: Pass positional arguments\n",
        "    return psnr(img1_np, img2_np, data_range=data_range)\n",
        "\n",
        "def calculate_ndvi(eo_image_tensor, eo_band_config):\n",
        "    \"\"\"\n",
        "    Calculates Normalized Difference Vegetation Index (NDVI) from an EO image tensor.\n",
        "    NDVI = (NIR - Red) / (NIR + Red)\n",
        "    Args:\n",
        "        eo_image_tensor (torch.Tensor): EO image tensor (C, H, W) in range [0, 1].\n",
        "                                        Assumes NIR and Red bands are present.\n",
        "        eo_band_config (list): List of band indices used for the EO image.\n",
        "    Returns:\n",
        "        torch.Tensor: NDVI map (1, H, W) in range [-1, 1].\n",
        "                      Returns None if required bands are not present.\n",
        "    \"\"\"\n",
        "    # Find indices of NIR (B8) and Red (B4) in the current EO band configuration\n",
        "    try:\n",
        "        nir_idx = eo_band_config.index(8) # Sentinel-2 B8 is NIR\n",
        "        red_idx = eo_band_config.index(4) # Sentinel-2 B4 is Red\n",
        "    except ValueError:\n",
        "        print(\"Warning: NIR (B8) or Red (B4) band not found in current EO configuration. Cannot calculate NDVI.\")\n",
        "        return None\n",
        "\n",
        "    nir_band = eo_image_tensor[nir_idx, :, :]\n",
        "    red_band = eo_image_tensor[red_idx, :, :]\n",
        "\n",
        "    # Avoid division by zero\n",
        "    denominator = nir_band + red_band\n",
        "    # Add a small epsilon to avoid division by zero\n",
        "    epsilon = 1e-6\n",
        "    ndvi = (nir_band - red_band) / (denominator + epsilon)\n",
        "\n",
        "    return ndvi.unsqueeze(0) # Add channel dimension back"
      ]
    },
    {
      "cell_type": "markdown",
      "metadata": {
        "id": "XU5QaPWyvj3P"
      },
      "source": [
        "# Training Funtion"
      ]
    },
    {
      "cell_type": "code",
      "execution_count": 15,
      "metadata": {
        "id": "4-4TWWO7veUF"
      },
      "outputs": [],
      "source": [
        "\n",
        "def train_cyclegan():\n",
        "    \"\"\"\n",
        "    Main function to design and train the CycleGAN model.\n",
        "    \"\"\"\n",
        "    print(f\"Using device: {config.DEVICE}\")\n",
        "    print(f\"Current EO Output Configuration: {config.CURRENT_EO_CONFIG_NAME} (Bands: {config.EO_BAND_CONFIGS[config.CURRENT_EO_CONFIG_NAME]})\")\n",
        "    print(f\"Input Channels (SAR): {config.INPUT_NC}\")\n",
        "    print(f\"Output Channels (EO): {config.OUTPUT_NC}\")\n",
        "\n",
        "    # Initialize Dataset and DataLoader\n",
        "    dataset = Sen12MSDataset(\n",
        "        root_dir=config.data_root_dir,\n",
        "        sar_dir=config.SAR_DIR,\n",
        "        eo_dir=config.EO_DIR,\n",
        "        eo_bands=config.EO_BAND_CONFIGS[config.CURRENT_EO_CONFIG_NAME],\n",
        "        image_size=config.IMAGE_SIZE\n",
        "    )\n",
        "    dataloader = DataLoader(dataset, batch_size=config.BATCH_SIZE, shuffle=True, num_workers=config.NUM_WORKERS)\n",
        "\n",
        "    # Initialize Generators and Discriminators\n",
        "    # G_A: SAR -> EO, G_B: EO -> SAR\n",
        "    G_A = Generator(config.INPUT_NC, config.OUTPUT_NC, config.NGF, config.N_RESNET_BLOCKS).to(config.DEVICE)\n",
        "    G_B = Generator(config.OUTPUT_NC, config.INPUT_NC, config.NGF, config.N_RESNET_BLOCKS).to(config.DEVICE)\n",
        "    # D_A: Discriminates real EO vs fake EO, D_B: Discriminates real SAR vs fake SAR\n",
        "    D_A = Discriminator(config.OUTPUT_NC, config.NDF).to(config.DEVICE)\n",
        "    D_B = Discriminator(config.INPUT_NC, config.NDF).to(config.DEVICE)\n",
        "\n",
        "    # Initialize Optimizers\n",
        "    optimizer_G = optim.Adam(list(G_A.parameters()) + list(G_B.parameters()), lr=config.LR, betas=(config.BETA1, 0.999))\n",
        "    optimizer_D_A = optim.Adam(D_A.parameters(), lr=config.LR, betas=(config.BETA1, 0.999))\n",
        "    optimizer_D_B = optim.Adam(D_B.parameters(), lr=config.LR, betas=(config.BETA1, 0.999))\n",
        "\n",
        "    # Initialize Loss Functions\n",
        "    criterion_GAN = GANLoss(gan_mode='lsgan').to(config.DEVICE)\n",
        "    criterion_cycle = CycleConsistencyLoss(lambda_cycle=config.LAMBDA_CYCLE).to(config.DEVICE)\n",
        "    criterion_identity = IdentityLoss(lambda_identity=config.LAMBDA_IDENTITY).to(config.DEVICE)\n",
        "\n",
        "    # Training Loop\n",
        "    print(\"Starting Training Loop...\")\n",
        "    for epoch in range(config.NUM_EPOCHS):\n",
        "        G_A.train()\n",
        "        G_B.train()\n",
        "        D_A.train()\n",
        "        D_B.train()\n",
        "\n",
        "        for i, (real_sar, real_eo) in enumerate(tqdm(dataloader, desc=f\"Epoch {epoch+1}/{config.NUM_EPOCHS}\")):\n",
        "            real_sar = real_sar.to(config.DEVICE)\n",
        "            real_eo = real_eo.to(config.DEVICE)\n",
        "\n",
        "            # --- Train Generators G_A and G_B ---\n",
        "            optimizer_G.zero_grad()\n",
        "\n",
        "            # Identity loss (helps preserve color composition)\n",
        "            # G_A is SAR -> EO. Identity loss should be G_A(real_eo) compared to real_eo\n",
        "            identity_eo = G_A(real_eo)\n",
        "            loss_identity_A = criterion_identity(identity_eo, real_eo)\n",
        "\n",
        "            # G_B is EO -> SAR. Identity loss should be G_B(real_sar) compared to real_sar\n",
        "            identity_sar = G_B(real_sar)\n",
        "            loss_identity_B = criterion_identity(identity_sar, real_sar)\n",
        "\n",
        "\n",
        "            # GAN loss D_A(G_A(real_sar))\n",
        "            fake_eo = G_A(real_sar)\n",
        "            pred_fake_eo = D_A(fake_eo)\n",
        "            loss_GAN_A = criterion_GAN(pred_fake_eo, True) # G_A wants to fool D_A\n",
        "\n",
        "            # GAN loss D_B(G_B(real_eo))\n",
        "            fake_sar = G_B(real_eo)\n",
        "            pred_fake_sar = D_B(fake_sar)\n",
        "            loss_GAN_B = criterion_GAN(pred_fake_sar, True) # G_B wants to fool D_B\n",
        "\n",
        "            # Cycle consistency loss\n",
        "            # Cycle SAR -> EO -> SAR\n",
        "            cycled_sar = G_B(fake_eo)\n",
        "            loss_cycle_sar = criterion_cycle(cycled_sar, real_sar)\n",
        "            # Cycle EO -> SAR -> EO\n",
        "            cycled_eo = G_A(fake_sar)\n",
        "            loss_cycle_eo = criterion_cycle(cycled_eo, real_eo)\n",
        "\n",
        "            # # Total Generator Loss\n",
        "            loss_G = loss_GAN_A + loss_GAN_B + loss_cycle_sar + loss_cycle_eo + \\\n",
        "                     loss_identity_A + loss_identity_B\n",
        "            loss_G.backward()\n",
        "            optimizer_G.step()\n",
        "\n",
        "            # # --- Train Discriminator D_A (real EO vs fake EO) ---\n",
        "            optimizer_D_A.zero_grad()\n",
        "            # # Real loss\n",
        "            pred_real_eo = D_A(real_eo)\n",
        "            loss_D_A_real = criterion_GAN(pred_real_eo, True)\n",
        "            # # Fake loss (detach fake_eo to stop gradients from flowing to G_A)\n",
        "            pred_fake_eo = D_A(fake_eo.detach())\n",
        "            loss_D_A_fake = criterion_GAN(pred_fake_eo, False)\n",
        "            # Total D_A loss\n",
        "            loss_D_A = (loss_D_A_real + loss_D_A_fake) * 0.5\n",
        "            loss_D_A.backward()\n",
        "            optimizer_D_A.step()\n",
        "\n",
        "            # # --- Train Discriminator D_B (real SAR vs fake SAR) ---\n",
        "            optimizer_D_B.zero_grad()\n",
        "            # # Real loss\n",
        "            pred_real_sar = D_B(real_sar)\n",
        "            loss_D_B_real = criterion_GAN(pred_real_sar, True)\n",
        "            # Fake loss (detach fake_sar to stop gradients from flowing to G_B)\n",
        "            pred_fake_sar = D_B(fake_sar.detach())\n",
        "            loss_D_B_fake = criterion_GAN(pred_fake_sar, False)\n",
        "            # Total D_B loss\n",
        "            loss_D_B = (loss_D_B_real + loss_D_B_fake) * 0.5\n",
        "            loss_D_B.backward()\n",
        "            optimizer_D_B.step()\n",
        "\n",
        "            if i % config.PRINT_FREQ == 0:\n",
        "                tqdm.write(f\"Epoch [{epoch+1}/{config.NUM_EPOCHS}], Step [{i}/{len(dataloader)}]\\n\"\n",
        "                           f\"Loss_G: {loss_G.item():.4f} | Loss_G_GAN_A: {loss_GAN_A.item():.4f} | Loss_G_GAN_B: {loss_GAN_B.item():.4f}\\n\"\n",
        "                           f\"Loss_cycle_SAR: {loss_cycle_sar.item():.4f} | Loss_cycle_EO: {loss_cycle_eo.item():.4f}\\n\"\n",
        "                           f\"Loss_identity_A: {loss_identity_A.item():.4f} | Loss_identity_B: {loss_identity_B.item():.4f}\\n\"\n",
        "                           f\"Loss_D_A: {loss_D_A.item():.4f} | Loss_D_B: {loss_D_B.item():.4f}\")\n",
        "\n",
        "        # --- Save generated images and evaluate metrics at end of epoch ---\n",
        "        G_A.eval()\n",
        "        G_B.eval()\n",
        "        with torch.no_grad():\n",
        "            # Get a batch for visualization and metric calculation\n",
        "            # Use a fixed batch for consistency in visualization\n",
        "            try:\n",
        "                # Try to get a new sample, or reuse the first one if dataloader is exhausted\n",
        "                dataloader_eval = DataLoader(dataset, batch_size=config.BATCH_SIZE, shuffle=False, num_workers=config.NUM_WORKERS)\n",
        "                sample_sar, sample_eo = next(iter(dataloader_eval))\n",
        "            except StopIteration:\n",
        "                 print(\"Warning: Dataloader exhausted during evaluation. This should not happen with shuffle=False.\")\n",
        "                 # If still no data, use dummy tensors or skip evaluation\n",
        "                 if len(dataset) == 0:\n",
        "                     print(\"Error: Dataset is empty. Skipping evaluation.\")\n",
        "                     continue\n",
        "                 # Fallback: Use the first sample if available\n",
        "                 sample_sar, sample_eo = dataset[0]\n",
        "                 sample_sar = sample_sar.unsqueeze(0) # Add batch dimension\n",
        "                 sample_eo = sample_eo.unsqueeze(0) # Add batch dimension\n",
        "\n",
        "\n",
        "            sample_sar = sample_sar.to(config.DEVICE)\n",
        "            sample_eo = sample_eo.to(config.DEVICE)\n",
        "\n",
        "            # Generate fake EO from real SAR\n",
        "            generated_eo = G_A(sample_sar)\n",
        "            # Cycle back to SAR\n",
        "            cycled_sar_from_eo = G_B(generated_eo)\n",
        "\n",
        "            # Generate fake SAR from real EO\n",
        "            generated_sar = G_B(sample_eo)\n",
        "            # Cycle back to EO\n",
        "            cycled_eo_from_sar = G_A(generated_sar)\n",
        "\n",
        "            # Denormalize for saving and metric calculation (from [-1, 1] to [0, 1])\n",
        "            real_sar_display = denormalize_image(sample_sar)\n",
        "            real_eo_display = denormalize_image(sample_eo)\n",
        "            generated_eo_display = denormalize_image(generated_eo)\n",
        "            cycled_sar_display = denormalize_image(cycled_sar_from_eo)\n",
        "            generated_sar_display = denormalize_image(generated_sar)\n",
        "            cycled_eo_display = denormalize_image(cycled_eo_from_sar)\n",
        "\n",
        "            # Save sample images\n",
        "            # Need to adjust save_combined_image or use vutils.save_image directly for single images\n",
        "            # vutils.save_image expects a grid, so create a grid of 1 image or save individually\n",
        "            vutils.save_image(real_sar_display, os.path.join(config.OUTPUT_DIR, f\"epoch_{epoch+1}_real_sar.png\"), normalize=True)\n",
        "            vutils.save_image(real_eo_display, os.path.join(config.OUTPUT_DIR, f\"epoch_{epoch+1}_{config.CURRENT_EO_CONFIG_NAME}_real_eo.png\"), normalize=True)\n",
        "            vutils.save_image(generated_eo_display, os.path.join(config.OUTPUT_DIR, f\"epoch_{epoch+1}_{config.CURRENT_EO_CONFIG_NAME}_generated_eo.png\"), normalize=True)\n",
        "            vutils.save_image(cycled_sar_display, os.path.join(config.OUTPUT_DIR, f\"epoch_{epoch+1}_cycled_sar.png\"), normalize=True)\n",
        "            vutils.save_image(generated_sar_display, os.path.join(config.OUTPUT_DIR, f\"epoch_{epoch+1}_generated_sar.png\"), normalize=True)\n",
        "            vutils.save_image(cycled_eo_display, os.path.join(config.OUTPUT_DIR, f\"epoch_{epoch+1}_cycled_eo.png\"), normalize=True)\n",
        "\n",
        "\n",
        "            # --- Calculate Performance Metrics ---\n",
        "            # For SSIM/PSNR, compare generated_eo with real_eo\n",
        "\n",
        "            # SSIM and PSNR for SAR -> EO translation\n",
        "            # Ensure images are (C, H, W) or (H, W) numpy arrays for SSIM/PSNR\n",
        "            ssim_score = calculate_ssim(generated_eo_display[0], real_eo_display[0])\n",
        "            psnr_score = calculate_psnr(generated_eo_display[0], real_eo_display[0])\n",
        "            print(f\"Epoch {epoch+1} Metrics (SAR -> EO):\")\n",
        "            print(f\"  SSIM: {ssim_score:.4f}\")\n",
        "            print(f\"  PSNR: {psnr_score:.4f}\")\n",
        "\n",
        "            # NDVI calculation for generated EO and real EO\n",
        "            # NDVI requires NIR (B8) and Red (B4) bands\n",
        "            if 8 in config.EO_BAND_CONFIGS[config.CURRENT_EO_CONFIG_NAME] and \\\n",
        "               4 in config.EO_BAND_CONFIGS[config.CURRENT_EO_CONFIG_NAME]:\n",
        "\n",
        "                # Calculate NDVI for real EO (take the first image in the batch)\n",
        "                real_ndvi = calculate_ndvi(real_eo_display[0], config.EO_BAND_CONFIGS[config.CURRENT_EO_CONFIG_NAME])\n",
        "                # Calculate NDVI for generated EO (take the first image in the batch)\n",
        "                generated_ndvi = calculate_ndvi(generated_eo_display[0], config.EO_BAND_CONFIGS[config.CURRENT_EO_CONFIG_NAME])\n",
        "\n",
        "                if real_ndvi is not None and generated_ndvi is not None:\n",
        "                    # Save NDVI maps visualize as grayscale images\n",
        "                    vutils.save_image(real_ndvi, os.path.join(config.OUTPUT_DIR, f\"epoch_{epoch+1}_real_ndvi.png\"), normalize=True)\n",
        "                    vutils.save_image(generated_ndvi, os.path.join(config.OUTPUT_DIR, f\"epoch_{epoch+1}_generated_ndvi.png\"), normalize=True)\n",
        "\n",
        "\n",
        "                    ndvi_ssim = calculate_ssim(generated_ndvi[0], real_ndvi[0], data_range=2.0) # NDVI range is [-1, 1]\n",
        "                    ndvi_psnr = calculate_psnr(generated_ndvi[0], real_ndvi[0], data_range=2.0)\n",
        "                    print(f\"  NDVI SSIM: {ndvi_ssim:.4f}\")\n",
        "                    print(f\"  NDVI PSNR: {ndvi_psnr:.4f}\")\n",
        "            else:\n",
        "                print(\"  NDVI not calculated: Required NIR (B8) or Red (B4) band missing in current EO configuration.\")\n",
        "\n",
        "\n",
        "        # Save model checkpoints\n",
        "        if (epoch + 1) % config.SAVE_EPOCH_FREQ == 0:\n",
        "            # Checkpoint directory is already set to Drive path in Config\n",
        "            torch.save(G_A.state_dict(), os.path.join(config.CHECKPOINT_DIR, f'G_A_epoch_{epoch+1}.pth'))\n",
        "            torch.save(G_B.state_dict(), os.path.join(config.CHECKPOINT_DIR, f'G_B_epoch_{epoch+1}.pth'))\n",
        "            torch.save(D_A.state_dict(), os.path.join(config.CHECKPOINT_DIR, f'D_A_epoch_{epoch+1}.pth'))\n",
        "            torch.save(D_B.state_dict(), os.path.join(config.CHECKPOINT_DIR, f'D_B_epoch_{epoch+1}.pth'))\n",
        "            print(f\"Models saved after epoch {epoch+1}\")\n",
        "\n",
        "    print(\"Training Complete!\")"
      ]
    },
    {
      "cell_type": "markdown",
      "metadata": {
        "id": "sh6EFsQSxgu1"
      },
      "source": [
        "# To Run"
      ]
    },
    {
      "cell_type": "code",
      "execution_count": null,
      "metadata": {
        "colab": {
          "background_save": true,
          "base_uri": "https://localhost:8080/"
        },
        "id": "teQJ8kSwxTgI",
        "outputId": "1bd7d9de-1094-43ef-e2a8-1ae2f6a46f1b"
      },
      "outputs": [
        {
          "output_type": "stream",
          "name": "stdout",
          "text": [
            "Using device: cpu\n",
            "Current EO Output Configuration: RGB (Bands: [4, 3, 2])\n",
            "Input Channels (SAR): 3\n",
            "Output Channels (EO): 3\n"
          ]
        },
        {
          "output_type": "stream",
          "name": "stderr",
          "text": [
            "Checking SAR readability: 100%|██████████| 1947/1947 [00:31<00:00, 61.94it/s]\n",
            "Checking EO readability: 100%|██████████| 1951/1951 [00:36<00:00, 53.86it/s]\n",
            "/usr/local/lib/python3.11/dist-packages/torch/utils/data/dataloader.py:624: UserWarning: This DataLoader will create 4 worker processes in total. Our suggested max number of worker in current system is 2, which is smaller than what this DataLoader is going to create. Please be aware that excessive worker creation might get DataLoader running slow or even freeze, lower the worker number to avoid potential slowness/freeze if necessary.\n",
            "  warnings.warn(\n"
          ]
        },
        {
          "output_type": "stream",
          "name": "stdout",
          "text": [
            "Found 1947 matched SAR-EO pairs.\n",
            "Starting Training Loop...\n"
          ]
        },
        {
          "output_type": "stream",
          "name": "stderr",
          "text": [
            "\rEpoch 1/3:   0%|          | 0/1947 [00:00<?, ?it/s]"
          ]
        },
        {
          "output_type": "stream",
          "name": "stdout",
          "text": [
            "Warning: SAR image ROIs2017_winter_s1_8_p330.tif has 2 channels, but INPUT_NC is 3. Padding with zeros.Warning: SAR image ROIs2017_winter_s1_21_p645.tif has 2 channels, but INPUT_NC is 3. Padding with zeros.\n",
            "Warning: SAR image ROIs2017_winter_s1_22_p80.tif has 2 channels, but INPUT_NC is 3. Padding with zeros.\n",
            "Warning: SAR image ROIs2017_winter_s1_22_p230.tif has 2 channels, but INPUT_NC is 3. Padding with zeros.\n",
            "\n",
            "Warning: SAR image ROIs2017_winter_s1_8_p204.tif has 2 channels, but INPUT_NC is 3. Padding with zeros.\n",
            "Warning: SAR image ROIs2017_winter_s1_8_p54.tif has 2 channels, but INPUT_NC is 3. Padding with zeros.\n",
            "Warning: SAR image ROIs2017_winter_s1_22_p487.tif has 2 channels, but INPUT_NC is 3. Padding with zeros.\n",
            "Warning: SAR image ROIs2017_winter_s1_21_p69.tif has 2 channels, but INPUT_NC is 3. Padding with zeros.\n",
            "Warning: SAR image ROIs2017_winter_s1_8_p289.tif has 2 channels, but INPUT_NC is 3. Padding with zeros.\n"
          ]
        },
        {
          "output_type": "stream",
          "name": "stderr",
          "text": [
            "Epoch 1/3:   0%|          | 1/1947 [00:34<18:43:27, 34.64s/it]"
          ]
        },
        {
          "output_type": "stream",
          "name": "stdout",
          "text": [
            "Warning: SAR image ROIs2017_winter_s1_22_p736.tif has 2 channels, but INPUT_NC is 3. Padding with zeros.\n",
            "Epoch [1/3], Step [0/1947]\n",
            "Loss_G: 24.0606 | Loss_G_GAN_A: 1.2888 | Loss_G_GAN_B: 1.3854\n",
            "Loss_cycle_SAR: 6.6160 | Loss_cycle_EO: 7.6604\n",
            "Loss_identity_A: 3.8285 | Loss_identity_B: 3.2814\n",
            "Loss_D_A: 0.5800 | Loss_D_B: 0.7643\n"
          ]
        },
        {
          "output_type": "stream",
          "name": "stderr",
          "text": [
            "Epoch 1/3:   0%|          | 2/1947 [01:07<18:11:37, 33.67s/it]"
          ]
        },
        {
          "output_type": "stream",
          "name": "stdout",
          "text": [
            "Warning: SAR image ROIs2017_winter_s1_8_p518.tif has 2 channels, but INPUT_NC is 3. Padding with zeros.\n",
            "Epoch [1/3], Step [1/1947]\n",
            "Loss_G: 17.2135 | Loss_G_GAN_A: 0.4210 | Loss_G_GAN_B: 0.5040\n",
            "Loss_cycle_SAR: 4.7992 | Loss_cycle_EO: 6.0440\n",
            "Loss_identity_A: 3.0486 | Loss_identity_B: 2.3967\n",
            "Loss_D_A: 0.6394 | Loss_D_B: 0.4114\n"
          ]
        },
        {
          "output_type": "stream",
          "name": "stderr",
          "text": [
            "Epoch 1/3:   0%|          | 3/1947 [01:39<17:47:40, 32.95s/it]"
          ]
        },
        {
          "output_type": "stream",
          "name": "stdout",
          "text": [
            "Warning: SAR image ROIs2017_winter_s1_8_p832.tif has 2 channels, but INPUT_NC is 3. Padding with zeros.\n",
            "Epoch [1/3], Step [2/1947]\n",
            "Loss_G: 14.3238 | Loss_G_GAN_A: 0.5614 | Loss_G_GAN_B: 0.9299\n",
            "Loss_cycle_SAR: 4.4303 | Loss_cycle_EO: 4.0283\n",
            "Loss_identity_A: 2.1385 | Loss_identity_B: 2.2355\n",
            "Loss_D_A: 0.2984 | Loss_D_B: 2.3318\n"
          ]
        },
        {
          "output_type": "stream",
          "name": "stderr",
          "text": [
            "Epoch 1/3:   0%|          | 4/1947 [02:10<17:17:23, 32.03s/it]"
          ]
        },
        {
          "output_type": "stream",
          "name": "stdout",
          "text": [
            "Warning: SAR image ROIs2017_winter_s1_22_p184.tif has 2 channels, but INPUT_NC is 3. Padding with zeros.\n",
            "Epoch [1/3], Step [3/1947]\n",
            "Loss_G: 8.0642 | Loss_G_GAN_A: 0.8141 | Loss_G_GAN_B: 0.2236\n",
            "Loss_cycle_SAR: 2.9243 | Loss_cycle_EO: 1.7546\n",
            "Loss_identity_A: 0.8780 | Loss_identity_B: 1.4696\n",
            "Loss_D_A: 0.2569 | Loss_D_B: 0.4634\n"
          ]
        },
        {
          "output_type": "stream",
          "name": "stderr",
          "text": [
            "Epoch 1/3:   0%|          | 5/1947 [02:42<17:21:14, 32.17s/it]"
          ]
        },
        {
          "output_type": "stream",
          "name": "stdout",
          "text": [
            "Warning: SAR image ROIs2017_winter_s1_21_p408.tif has 2 channels, but INPUT_NC is 3. Padding with zeros.\n",
            "Epoch [1/3], Step [4/1947]\n",
            "Loss_G: 8.5533 | Loss_G_GAN_A: 0.8813 | Loss_G_GAN_B: 1.5381\n",
            "Loss_cycle_SAR: 2.6046 | Loss_cycle_EO: 1.4788\n",
            "Loss_identity_A: 0.7487 | Loss_identity_B: 1.3018\n",
            "Loss_D_A: 0.1198 | Loss_D_B: 1.5386\n"
          ]
        },
        {
          "output_type": "stream",
          "name": "stderr",
          "text": [
            "Epoch 1/3:   0%|          | 6/1947 [03:14<17:20:07, 32.15s/it]"
          ]
        },
        {
          "output_type": "stream",
          "name": "stdout",
          "text": [
            "Warning: SAR image ROIs2017_winter_s1_21_p633.tif has 2 channels, but INPUT_NC is 3. Padding with zeros.\n",
            "Epoch [1/3], Step [5/1947]\n",
            "Loss_G: 8.4964 | Loss_G_GAN_A: 0.8748 | Loss_G_GAN_B: 2.0791\n",
            "Loss_cycle_SAR: 2.6172 | Loss_cycle_EO: 1.0652\n",
            "Loss_identity_A: 0.5419 | Loss_identity_B: 1.3183\n",
            "Loss_D_A: 0.1548 | Loss_D_B: 2.0504\n"
          ]
        },
        {
          "output_type": "stream",
          "name": "stderr",
          "text": [
            "Epoch 1/3:   0%|          | 7/1947 [03:46<17:15:23, 32.02s/it]"
          ]
        },
        {
          "output_type": "stream",
          "name": "stdout",
          "text": [
            "Warning: SAR image ROIs2017_winter_s1_22_p672.tif has 2 channels, but INPUT_NC is 3. Padding with zeros.\n",
            "Epoch [1/3], Step [6/1947]\n",
            "Loss_G: 7.7660 | Loss_G_GAN_A: 0.7211 | Loss_G_GAN_B: 0.7953\n",
            "Loss_cycle_SAR: 2.1546 | Loss_cycle_EO: 2.0033\n",
            "Loss_identity_A: 1.0046 | Loss_identity_B: 1.0871\n",
            "Loss_D_A: 0.1303 | Loss_D_B: 0.4356\n"
          ]
        },
        {
          "output_type": "stream",
          "name": "stderr",
          "text": [
            "Epoch 1/3:   0%|          | 8/1947 [04:17<17:06:08, 31.75s/it]"
          ]
        },
        {
          "output_type": "stream",
          "name": "stdout",
          "text": [
            "Warning: SAR image ROIs2017_winter_s1_21_p343.tif has 2 channels, but INPUT_NC is 3. Padding with zeros.\n",
            "Epoch [1/3], Step [7/1947]\n",
            "Loss_G: 6.4785 | Loss_G_GAN_A: 0.8038 | Loss_G_GAN_B: 0.8063\n",
            "Loss_cycle_SAR: 2.3427 | Loss_cycle_EO: 0.8885\n",
            "Loss_identity_A: 0.4669 | Loss_identity_B: 1.1704\n",
            "Loss_D_A: 0.0844 | Loss_D_B: 0.4005\n"
          ]
        },
        {
          "output_type": "stream",
          "name": "stderr",
          "text": [
            "Epoch 1/3:   0%|          | 9/1947 [04:48<16:57:21, 31.50s/it]"
          ]
        },
        {
          "output_type": "stream",
          "name": "stdout",
          "text": [
            "Warning: SAR image ROIs2017_winter_s1_21_p676.tif has 2 channels, but INPUT_NC is 3. Padding with zeros.\n",
            "Epoch [1/3], Step [8/1947]\n",
            "Loss_G: 7.2132 | Loss_G_GAN_A: 0.8559 | Loss_G_GAN_B: 0.5599\n",
            "Loss_cycle_SAR: 1.8194 | Loss_cycle_EO: 2.0011\n",
            "Loss_identity_A: 1.0754 | Loss_identity_B: 0.9014\n",
            "Loss_D_A: 0.1461 | Loss_D_B: 0.3614\n"
          ]
        },
        {
          "output_type": "stream",
          "name": "stderr",
          "text": [
            "Epoch 1/3:   1%|          | 10/1947 [05:20<16:55:44, 31.46s/it]"
          ]
        },
        {
          "output_type": "stream",
          "name": "stdout",
          "text": [
            "Warning: SAR image ROIs2017_winter_s1_8_p506.tif has 2 channels, but INPUT_NC is 3. Padding with zeros.\n",
            "Epoch [1/3], Step [9/1947]\n",
            "Loss_G: 7.0045 | Loss_G_GAN_A: 0.9624 | Loss_G_GAN_B: 0.4900\n",
            "Loss_cycle_SAR: 2.7802 | Loss_cycle_EO: 0.9285\n",
            "Loss_identity_A: 0.4292 | Loss_identity_B: 1.4142\n",
            "Loss_D_A: 0.1203 | Loss_D_B: 0.3730\n"
          ]
        },
        {
          "output_type": "stream",
          "name": "stderr",
          "text": [
            "Epoch 1/3:   1%|          | 11/1947 [05:52<17:07:21, 31.84s/it]"
          ]
        },
        {
          "output_type": "stream",
          "name": "stdout",
          "text": [
            "Warning: SAR image ROIs2017_winter_s1_22_p289.tif has 2 channels, but INPUT_NC is 3. Padding with zeros.\n",
            "Epoch [1/3], Step [10/1947]\n",
            "Loss_G: 5.3799 | Loss_G_GAN_A: 0.8212 | Loss_G_GAN_B: 0.3679\n",
            "Loss_cycle_SAR: 1.9790 | Loss_cycle_EO: 0.7783\n",
            "Loss_identity_A: 0.4399 | Loss_identity_B: 0.9936\n",
            "Loss_D_A: 0.0840 | Loss_D_B: 0.2704\n"
          ]
        },
        {
          "output_type": "stream",
          "name": "stderr",
          "text": [
            "Epoch 1/3:   1%|          | 12/1947 [06:23<16:56:45, 31.53s/it]"
          ]
        },
        {
          "output_type": "stream",
          "name": "stdout",
          "text": [
            "Warning: SAR image ROIs2017_winter_s1_8_p225.tif has 2 channels, but INPUT_NC is 3. Padding with zeros.\n",
            "Epoch [1/3], Step [11/1947]\n",
            "Loss_G: 6.4963 | Loss_G_GAN_A: 0.9013 | Loss_G_GAN_B: 0.3707\n",
            "Loss_cycle_SAR: 1.6266 | Loss_cycle_EO: 1.7039\n",
            "Loss_identity_A: 1.0966 | Loss_identity_B: 0.7971\n",
            "Loss_D_A: 0.0996 | Loss_D_B: 0.2387\n"
          ]
        },
        {
          "output_type": "stream",
          "name": "stderr",
          "text": [
            "Epoch 1/3:   1%|          | 13/1947 [06:55<17:00:54, 31.67s/it]"
          ]
        },
        {
          "output_type": "stream",
          "name": "stdout",
          "text": [
            "Warning: SAR image ROIs2017_winter_s1_21_p557.tif has 2 channels, but INPUT_NC is 3. Padding with zeros.\n",
            "Epoch [1/3], Step [12/1947]\n",
            "Loss_G: 5.6980 | Loss_G_GAN_A: 1.0418 | Loss_G_GAN_B: 0.3877\n",
            "Loss_cycle_SAR: 1.7557 | Loss_cycle_EO: 0.9362\n",
            "Loss_identity_A: 0.7004 | Loss_identity_B: 0.8762\n",
            "Loss_D_A: 0.1085 | Loss_D_B: 0.2568\n"
          ]
        },
        {
          "output_type": "stream",
          "name": "stderr",
          "text": [
            "Epoch 1/3:   1%|          | 14/1947 [07:27<17:00:18, 31.67s/it]"
          ]
        },
        {
          "output_type": "stream",
          "name": "stdout",
          "text": [
            "Warning: SAR image ROIs2017_winter_s1_8_p601.tif has 2 channels, but INPUT_NC is 3. Padding with zeros.\n",
            "Epoch [1/3], Step [13/1947]\n",
            "Loss_G: 8.7899 | Loss_G_GAN_A: 1.1440 | Loss_G_GAN_B: 0.4041\n",
            "Loss_cycle_SAR: 2.0697 | Loss_cycle_EO: 2.8549\n",
            "Loss_identity_A: 1.2930 | Loss_identity_B: 1.0241\n",
            "Loss_D_A: 0.0669 | Loss_D_B: 0.2700\n"
          ]
        },
        {
          "output_type": "stream",
          "name": "stderr",
          "text": [
            "Epoch 1/3:   1%|          | 15/1947 [08:01<17:20:33, 32.32s/it]"
          ]
        },
        {
          "output_type": "stream",
          "name": "stdout",
          "text": [
            "Warning: SAR image ROIs2017_winter_s1_8_p217.tif has 2 channels, but INPUT_NC is 3. Padding with zeros.\n",
            "Epoch [1/3], Step [14/1947]\n",
            "Loss_G: 5.6474 | Loss_G_GAN_A: 0.6104 | Loss_G_GAN_B: 0.3707\n",
            "Loss_cycle_SAR: 2.0533 | Loss_cycle_EO: 1.0525\n",
            "Loss_identity_A: 0.5259 | Loss_identity_B: 1.0346\n",
            "Loss_D_A: 0.1821 | Loss_D_B: 0.2466\n"
          ]
        },
        {
          "output_type": "stream",
          "name": "stderr",
          "text": [
            "Epoch 1/3:   1%|          | 16/1947 [08:33<17:20:08, 32.32s/it]"
          ]
        },
        {
          "output_type": "stream",
          "name": "stdout",
          "text": [
            "Warning: SAR image ROIs2017_winter_s1_22_p483.tif has 2 channels, but INPUT_NC is 3. Padding with zeros.\n",
            "Epoch [1/3], Step [15/1947]\n",
            "Loss_G: 8.1877 | Loss_G_GAN_A: 0.7984 | Loss_G_GAN_B: 0.4326\n",
            "Loss_cycle_SAR: 2.0404 | Loss_cycle_EO: 2.6934\n",
            "Loss_identity_A: 1.2395 | Loss_identity_B: 0.9833\n",
            "Loss_D_A: 0.1900 | Loss_D_B: 0.2270\n"
          ]
        },
        {
          "output_type": "stream",
          "name": "stderr",
          "text": [
            "Epoch 1/3:   1%|          | 17/1947 [09:07<17:36:27, 32.84s/it]"
          ]
        },
        {
          "output_type": "stream",
          "name": "stdout",
          "text": [
            "Warning: SAR image ROIs2017_winter_s1_21_p275.tif has 2 channels, but INPUT_NC is 3. Padding with zeros.\n",
            "Epoch [1/3], Step [16/1947]\n",
            "Loss_G: 5.6605 | Loss_G_GAN_A: 0.8815 | Loss_G_GAN_B: 0.4458\n",
            "Loss_cycle_SAR: 1.6367 | Loss_cycle_EO: 1.3308\n",
            "Loss_identity_A: 0.5696 | Loss_identity_B: 0.7961\n",
            "Loss_D_A: 0.2050 | Loss_D_B: 0.2263\n"
          ]
        },
        {
          "output_type": "stream",
          "name": "stderr",
          "text": [
            "Epoch 1/3:   1%|          | 18/1947 [09:43<18:07:57, 33.84s/it]"
          ]
        },
        {
          "output_type": "stream",
          "name": "stdout",
          "text": [
            "Warning: SAR image ROIs2017_winter_s1_8_p473.tif has 2 channels, but INPUT_NC is 3. Padding with zeros.\n",
            "Epoch [1/3], Step [17/1947]\n",
            "Loss_G: 7.1261 | Loss_G_GAN_A: 0.9069 | Loss_G_GAN_B: 0.4040\n",
            "Loss_cycle_SAR: 1.6562 | Loss_cycle_EO: 2.1387\n",
            "Loss_identity_A: 1.2034 | Loss_identity_B: 0.8169\n",
            "Loss_D_A: 0.1293 | Loss_D_B: 0.2108\n"
          ]
        },
        {
          "output_type": "stream",
          "name": "stderr",
          "text": [
            "Epoch 1/3:   1%|          | 19/1947 [10:16<17:56:42, 33.51s/it]"
          ]
        },
        {
          "output_type": "stream",
          "name": "stdout",
          "text": [
            "Warning: SAR image ROIs2017_winter_s1_8_p801.tif has 2 channels, but INPUT_NC is 3. Padding with zeros.\n",
            "Epoch [1/3], Step [18/1947]\n",
            "Loss_G: 6.7099 | Loss_G_GAN_A: 1.0442 | Loss_G_GAN_B: 0.3929\n",
            "Loss_cycle_SAR: 2.0411 | Loss_cycle_EO: 1.3952\n",
            "Loss_identity_A: 0.8111 | Loss_identity_B: 1.0254\n",
            "Loss_D_A: 0.0714 | Loss_D_B: 0.2140\n"
          ]
        },
        {
          "output_type": "stream",
          "name": "stderr",
          "text": [
            "Epoch 1/3:   1%|          | 20/1947 [10:48<17:39:20, 32.98s/it]"
          ]
        },
        {
          "output_type": "stream",
          "name": "stdout",
          "text": [
            "Warning: SAR image ROIs2017_winter_s1_8_p181.tif has 2 channels, but INPUT_NC is 3. Padding with zeros.\n",
            "Epoch [1/3], Step [19/1947]\n",
            "Loss_G: 8.1717 | Loss_G_GAN_A: 0.9322 | Loss_G_GAN_B: 0.4453\n",
            "Loss_cycle_SAR: 1.9640 | Loss_cycle_EO: 2.6882\n",
            "Loss_identity_A: 1.1920 | Loss_identity_B: 0.9501\n",
            "Loss_D_A: 0.0814 | Loss_D_B: 0.1899\n"
          ]
        },
        {
          "output_type": "stream",
          "name": "stderr",
          "text": [
            "Epoch 1/3:   1%|          | 21/1947 [11:19<17:25:21, 32.57s/it]"
          ]
        },
        {
          "output_type": "stream",
          "name": "stdout",
          "text": [
            "Warning: SAR image ROIs2017_winter_s1_22_p761.tif has 2 channels, but INPUT_NC is 3. Padding with zeros.\n",
            "Epoch [1/3], Step [20/1947]\n",
            "Loss_G: 6.4532 | Loss_G_GAN_A: 0.8630 | Loss_G_GAN_B: 0.4957\n",
            "Loss_cycle_SAR: 2.4052 | Loss_cycle_EO: 0.7636\n",
            "Loss_identity_A: 0.7240 | Loss_identity_B: 1.2016\n",
            "Loss_D_A: 0.1284 | Loss_D_B: 0.1497\n"
          ]
        },
        {
          "output_type": "stream",
          "name": "stderr",
          "text": [
            "Epoch 1/3:   1%|          | 22/1947 [11:51<17:15:43, 32.28s/it]"
          ]
        },
        {
          "output_type": "stream",
          "name": "stdout",
          "text": [
            "Warning: SAR image ROIs2017_winter_s1_21_p216.tif has 2 channels, but INPUT_NC is 3. Padding with zeros.\n",
            "Epoch [1/3], Step [21/1947]\n",
            "Loss_G: 8.9481 | Loss_G_GAN_A: 0.7805 | Loss_G_GAN_B: 0.4728\n",
            "Loss_cycle_SAR: 2.7879 | Loss_cycle_EO: 2.5597\n",
            "Loss_identity_A: 0.9777 | Loss_identity_B: 1.3695\n",
            "Loss_D_A: 0.0516 | Loss_D_B: 0.1778\n"
          ]
        },
        {
          "output_type": "stream",
          "name": "stderr",
          "text": [
            "Epoch 1/3:   1%|          | 23/1947 [12:23<17:15:10, 32.28s/it]"
          ]
        },
        {
          "output_type": "stream",
          "name": "stdout",
          "text": [
            "Warning: SAR image ROIs2017_winter_s1_8_p304.tif has 2 channels, but INPUT_NC is 3. Padding with zeros.\n",
            "Epoch [1/3], Step [22/1947]\n",
            "Loss_G: 4.7674 | Loss_G_GAN_A: 0.8333 | Loss_G_GAN_B: 0.4339\n",
            "Loss_cycle_SAR: 1.5882 | Loss_cycle_EO: 0.7200\n",
            "Loss_identity_A: 0.4083 | Loss_identity_B: 0.7837\n",
            "Loss_D_A: 0.1091 | Loss_D_B: 0.1666\n"
          ]
        },
        {
          "output_type": "stream",
          "name": "stderr",
          "text": [
            "Epoch 1/3:   1%|          | 24/1947 [12:55<17:13:49, 32.26s/it]"
          ]
        },
        {
          "output_type": "stream",
          "name": "stdout",
          "text": [
            "Warning: SAR image ROIs2017_winter_s1_8_p101.tif has 2 channels, but INPUT_NC is 3. Padding with zeros.\n",
            "Epoch [1/3], Step [23/1947]\n",
            "Loss_G: 4.9992 | Loss_G_GAN_A: 0.5243 | Loss_G_GAN_B: 0.4418\n",
            "Loss_cycle_SAR: 1.8203 | Loss_cycle_EO: 0.7730\n",
            "Loss_identity_A: 0.5545 | Loss_identity_B: 0.8853\n",
            "Loss_D_A: 0.1126 | Loss_D_B: 0.1770\n"
          ]
        },
        {
          "output_type": "stream",
          "name": "stderr",
          "text": [
            "Epoch 1/3:   1%|▏         | 25/1947 [13:27<17:06:03, 32.03s/it]"
          ]
        },
        {
          "output_type": "stream",
          "name": "stdout",
          "text": [
            "Warning: SAR image ROIs2017_winter_s1_8_p440.tif has 2 channels, but INPUT_NC is 3. Padding with zeros.\n",
            "Epoch [1/3], Step [24/1947]\n",
            "Loss_G: 8.0985 | Loss_G_GAN_A: 0.7940 | Loss_G_GAN_B: 0.3198\n",
            "Loss_cycle_SAR: 1.5591 | Loss_cycle_EO: 3.2633\n",
            "Loss_identity_A: 1.3887 | Loss_identity_B: 0.7735\n",
            "Loss_D_A: 0.2413 | Loss_D_B: 0.2462\n"
          ]
        },
        {
          "output_type": "stream",
          "name": "stderr",
          "text": [
            "Epoch 1/3:   1%|▏         | 26/1947 [13:59<17:07:56, 32.11s/it]"
          ]
        },
        {
          "output_type": "stream",
          "name": "stdout",
          "text": [
            "Warning: SAR image ROIs2017_winter_s1_8_p823.tif has 2 channels, but INPUT_NC is 3. Padding with zeros.\n",
            "Epoch [1/3], Step [25/1947]\n",
            "Loss_G: 5.1670 | Loss_G_GAN_A: 0.1732 | Loss_G_GAN_B: 0.3292\n",
            "Loss_cycle_SAR: 2.0362 | Loss_cycle_EO: 1.1310\n",
            "Loss_identity_A: 0.4612 | Loss_identity_B: 1.0361\n",
            "Loss_D_A: 0.2613 | Loss_D_B: 0.2419\n"
          ]
        },
        {
          "output_type": "stream",
          "name": "stderr",
          "text": [
            "Epoch 1/3:   1%|▏         | 27/1947 [14:30<16:56:42, 31.77s/it]"
          ]
        },
        {
          "output_type": "stream",
          "name": "stdout",
          "text": [
            "Warning: SAR image ROIs2017_winter_s1_22_p712.tif has 2 channels, but INPUT_NC is 3. Padding with zeros.\n",
            "Epoch [1/3], Step [26/1947]\n",
            "Loss_G: 3.9448 | Loss_G_GAN_A: 0.4302 | Loss_G_GAN_B: 0.3554\n",
            "Loss_cycle_SAR: 1.5408 | Loss_cycle_EO: 0.4190\n",
            "Loss_identity_A: 0.5445 | Loss_identity_B: 0.6548\n",
            "Loss_D_A: 0.2090 | Loss_D_B: 0.2248\n"
          ]
        },
        {
          "output_type": "stream",
          "name": "stderr",
          "text": [
            "Epoch 1/3:   1%|▏         | 28/1947 [15:03<17:03:35, 32.00s/it]"
          ]
        },
        {
          "output_type": "stream",
          "name": "stdout",
          "text": [
            "Warning: SAR image ROIs2017_winter_s1_8_p366.tif has 2 channels, but INPUT_NC is 3. Padding with zeros.\n",
            "Epoch [1/3], Step [27/1947]\n",
            "Loss_G: 7.7381 | Loss_G_GAN_A: 0.9551 | Loss_G_GAN_B: 0.3252\n",
            "Loss_cycle_SAR: 1.4009 | Loss_cycle_EO: 2.9047\n",
            "Loss_identity_A: 1.5493 | Loss_identity_B: 0.6029\n",
            "Loss_D_A: 0.2757 | Loss_D_B: 0.2395\n"
          ]
        },
        {
          "output_type": "stream",
          "name": "stderr",
          "text": [
            "Epoch 1/3:   1%|▏         | 29/1947 [15:34<16:58:36, 31.86s/it]"
          ]
        },
        {
          "output_type": "stream",
          "name": "stdout",
          "text": [
            "Warning: SAR image ROIs2017_winter_s1_22_p599.tif has 2 channels, but INPUT_NC is 3. Padding with zeros.\n",
            "Epoch [1/3], Step [28/1947]\n",
            "Loss_G: 4.1999 | Loss_G_GAN_A: 0.6982 | Loss_G_GAN_B: 0.6900\n",
            "Loss_cycle_SAR: 1.4771 | Loss_cycle_EO: 0.4105\n",
            "Loss_identity_A: 0.2362 | Loss_identity_B: 0.6878\n",
            "Loss_D_A: 0.3665 | Loss_D_B: 0.1899\n"
          ]
        },
        {
          "output_type": "stream",
          "name": "stderr",
          "text": [
            "Epoch 1/3:   2%|▏         | 30/1947 [16:06<16:57:07, 31.84s/it]"
          ]
        },
        {
          "output_type": "stream",
          "name": "stdout",
          "text": [
            "Warning: SAR image ROIs2017_winter_s1_21_p757.tif has 2 channels, but INPUT_NC is 3. Padding with zeros.\n",
            "Epoch [1/3], Step [29/1947]\n",
            "Loss_G: 7.7741 | Loss_G_GAN_A: 0.7623 | Loss_G_GAN_B: 0.3601\n",
            "Loss_cycle_SAR: 1.7278 | Loss_cycle_EO: 2.6665\n",
            "Loss_identity_A: 1.3797 | Loss_identity_B: 0.8776\n",
            "Loss_D_A: 0.2615 | Loss_D_B: 0.1883\n"
          ]
        },
        {
          "output_type": "stream",
          "name": "stderr",
          "text": [
            "Epoch 1/3:   2%|▏         | 31/1947 [16:37<16:52:16, 31.70s/it]"
          ]
        },
        {
          "output_type": "stream",
          "name": "stdout",
          "text": [
            "Warning: SAR image ROIs2017_winter_s1_8_p413.tif has 2 channels, but INPUT_NC is 3. Padding with zeros.\n",
            "Epoch [1/3], Step [30/1947]\n",
            "Loss_G: 6.3574 | Loss_G_GAN_A: 0.9604 | Loss_G_GAN_B: 0.3344\n",
            "Loss_cycle_SAR: 1.7062 | Loss_cycle_EO: 1.7729\n",
            "Loss_identity_A: 0.7354 | Loss_identity_B: 0.8481\n",
            "Loss_D_A: 0.1667 | Loss_D_B: 0.2009\n"
          ]
        },
        {
          "output_type": "stream",
          "name": "stderr",
          "text": [
            "Epoch 1/3:   2%|▏         | 32/1947 [17:12<17:24:28, 32.73s/it]"
          ]
        },
        {
          "output_type": "stream",
          "name": "stdout",
          "text": [
            "Warning: SAR image ROIs2017_winter_s1_21_p88.tif has 2 channels, but INPUT_NC is 3. Padding with zeros.\n",
            "Epoch [1/3], Step [31/1947]\n",
            "Loss_G: 5.4177 | Loss_G_GAN_A: 1.1031 | Loss_G_GAN_B: 0.3670\n",
            "Loss_cycle_SAR: 1.7722 | Loss_cycle_EO: 0.6009\n",
            "Loss_identity_A: 0.6809 | Loss_identity_B: 0.8936\n",
            "Loss_D_A: 0.3484 | Loss_D_B: 0.1844\n"
          ]
        },
        {
          "output_type": "stream",
          "name": "stderr",
          "text": [
            "Epoch 1/3:   2%|▏         | 33/1947 [17:46<17:30:37, 32.93s/it]"
          ]
        },
        {
          "output_type": "stream",
          "name": "stdout",
          "text": [
            "Warning: SAR image ROIs2017_winter_s1_8_p367.tif has 2 channels, but INPUT_NC is 3. Padding with zeros.\n",
            "Epoch [1/3], Step [32/1947]\n",
            "Loss_G: 5.4801 | Loss_G_GAN_A: 1.6271 | Loss_G_GAN_B: 0.3699\n",
            "Loss_cycle_SAR: 1.7208 | Loss_cycle_EO: 0.5465\n",
            "Loss_identity_A: 0.3250 | Loss_identity_B: 0.8908\n",
            "Loss_D_A: 0.5398 | Loss_D_B: 0.2487\n"
          ]
        },
        {
          "output_type": "stream",
          "name": "stderr",
          "text": [
            "Epoch 1/3:   2%|▏         | 34/1947 [18:17<17:11:50, 32.36s/it]"
          ]
        },
        {
          "output_type": "stream",
          "name": "stdout",
          "text": [
            "Warning: SAR image ROIs2017_winter_s1_22_p500.tif has 2 channels, but INPUT_NC is 3. Padding with zeros.\n",
            "Epoch [1/3], Step [33/1947]\n",
            "Loss_G: 5.9846 | Loss_G_GAN_A: 2.3978 | Loss_G_GAN_B: 0.3095\n",
            "Loss_cycle_SAR: 1.3265 | Loss_cycle_EO: 0.7810\n",
            "Loss_identity_A: 0.4625 | Loss_identity_B: 0.7073\n",
            "Loss_D_A: 0.9506 | Loss_D_B: 0.2546\n"
          ]
        },
        {
          "output_type": "stream",
          "name": "stderr",
          "text": [
            "Epoch 1/3:   2%|▏         | 35/1947 [18:49<17:04:23, 32.15s/it]"
          ]
        },
        {
          "output_type": "stream",
          "name": "stdout",
          "text": [
            "Warning: SAR image ROIs2017_winter_s1_8_p299.tif has 2 channels, but INPUT_NC is 3. Padding with zeros.\n",
            "Epoch [1/3], Step [34/1947]\n",
            "Loss_G: 6.8510 | Loss_G_GAN_A: 0.6035 | Loss_G_GAN_B: 0.4118\n",
            "Loss_cycle_SAR: 1.4861 | Loss_cycle_EO: 1.8834\n",
            "Loss_identity_A: 1.7290 | Loss_identity_B: 0.7373\n",
            "Loss_D_A: 0.3311 | Loss_D_B: 0.2363\n"
          ]
        },
        {
          "output_type": "stream",
          "name": "stderr",
          "text": [
            "Epoch 1/3:   2%|▏         | 36/1947 [19:22<17:20:39, 32.67s/it]"
          ]
        },
        {
          "output_type": "stream",
          "name": "stdout",
          "text": [
            "Warning: SAR image ROIs2017_winter_s1_8_p736.tif has 2 channels, but INPUT_NC is 3. Padding with zeros.\n",
            "Epoch [1/3], Step [35/1947]\n",
            "Loss_G: 5.7143 | Loss_G_GAN_A: 0.5839 | Loss_G_GAN_B: 0.4798\n",
            "Loss_cycle_SAR: 1.7706 | Loss_cycle_EO: 1.5583\n",
            "Loss_identity_A: 0.4546 | Loss_identity_B: 0.8671\n",
            "Loss_D_A: 0.2914 | Loss_D_B: 0.2091\n"
          ]
        },
        {
          "output_type": "stream",
          "name": "stderr",
          "text": [
            "Epoch 1/3:   2%|▏         | 37/1947 [19:55<17:15:50, 32.54s/it]"
          ]
        },
        {
          "output_type": "stream",
          "name": "stdout",
          "text": [
            "Warning: SAR image ROIs2017_winter_s1_8_p188.tif has 2 channels, but INPUT_NC is 3. Padding with zeros.\n",
            "Epoch [1/3], Step [36/1947]\n",
            "Loss_G: 5.1116 | Loss_G_GAN_A: 0.3794 | Loss_G_GAN_B: 0.5178\n",
            "Loss_cycle_SAR: 1.6658 | Loss_cycle_EO: 1.2938\n",
            "Loss_identity_A: 0.4306 | Loss_identity_B: 0.8242\n",
            "Loss_D_A: 0.2128 | Loss_D_B: 0.1644\n"
          ]
        },
        {
          "output_type": "stream",
          "name": "stderr",
          "text": [
            "Epoch 1/3:   2%|▏         | 38/1947 [20:26<17:00:15, 32.07s/it]"
          ]
        },
        {
          "output_type": "stream",
          "name": "stdout",
          "text": [
            "Warning: SAR image ROIs2017_winter_s1_21_p627.tif has 2 channels, but INPUT_NC is 3. Padding with zeros.\n",
            "Epoch [1/3], Step [37/1947]\n",
            "Loss_G: 7.4756 | Loss_G_GAN_A: 0.4141 | Loss_G_GAN_B: 0.4204\n",
            "Loss_cycle_SAR: 1.9182 | Loss_cycle_EO: 2.6543\n",
            "Loss_identity_A: 1.1326 | Loss_identity_B: 0.9361\n",
            "Loss_D_A: 0.2028 | Loss_D_B: 0.1746\n"
          ]
        },
        {
          "output_type": "stream",
          "name": "stderr",
          "text": [
            "Epoch 1/3:   2%|▏         | 39/1947 [20:57<16:55:32, 31.94s/it]"
          ]
        },
        {
          "output_type": "stream",
          "name": "stdout",
          "text": [
            "Warning: SAR image ROIs2017_winter_s1_8_p77.tif has 2 channels, but INPUT_NC is 3. Padding with zeros.\n",
            "Epoch [1/3], Step [38/1947]\n",
            "Loss_G: 5.7199 | Loss_G_GAN_A: 0.4469 | Loss_G_GAN_B: 0.5295\n",
            "Loss_cycle_SAR: 1.5539 | Loss_cycle_EO: 1.4535\n",
            "Loss_identity_A: 0.9893 | Loss_identity_B: 0.7467\n",
            "Loss_D_A: 0.1819 | Loss_D_B: 0.2039\n"
          ]
        },
        {
          "output_type": "stream",
          "name": "stderr",
          "text": [
            "Epoch 1/3:   2%|▏         | 40/1947 [21:28<16:44:39, 31.61s/it]"
          ]
        },
        {
          "output_type": "stream",
          "name": "stdout",
          "text": [
            "Warning: SAR image ROIs2017_winter_s1_22_p284.tif has 2 channels, but INPUT_NC is 3. Padding with zeros.\n",
            "Epoch [1/3], Step [39/1947]\n",
            "Loss_G: 6.0063 | Loss_G_GAN_A: 0.5208 | Loss_G_GAN_B: 0.5825\n",
            "Loss_cycle_SAR: 2.2778 | Loss_cycle_EO: 0.8475\n",
            "Loss_identity_A: 0.5981 | Loss_identity_B: 1.1795\n",
            "Loss_D_A: 0.1579 | Loss_D_B: 0.1752\n"
          ]
        },
        {
          "output_type": "stream",
          "name": "stderr",
          "text": [
            "Epoch 1/3:   2%|▏         | 41/1947 [22:00<16:48:16, 31.74s/it]"
          ]
        },
        {
          "output_type": "stream",
          "name": "stdout",
          "text": [
            "Warning: SAR image ROIs2017_winter_s1_21_p702.tif has 2 channels, but INPUT_NC is 3. Padding with zeros.\n",
            "Epoch [1/3], Step [40/1947]\n",
            "Loss_G: 5.9777 | Loss_G_GAN_A: 0.3499 | Loss_G_GAN_B: 0.5529\n",
            "Loss_cycle_SAR: 1.4994 | Loss_cycle_EO: 2.2404\n",
            "Loss_identity_A: 0.6129 | Loss_identity_B: 0.7220\n",
            "Loss_D_A: 0.1600 | Loss_D_B: 0.1518\n"
          ]
        },
        {
          "output_type": "stream",
          "name": "stderr",
          "text": [
            "Epoch 1/3:   2%|▏         | 42/1947 [22:32<16:49:42, 31.80s/it]"
          ]
        },
        {
          "output_type": "stream",
          "name": "stdout",
          "text": [
            "Warning: SAR image ROIs2017_winter_s1_21_p737.tif has 2 channels, but INPUT_NC is 3. Padding with zeros.\n",
            "Epoch [1/3], Step [41/1947]\n",
            "Loss_G: 4.5756 | Loss_G_GAN_A: 0.4559 | Loss_G_GAN_B: 0.4817\n",
            "Loss_cycle_SAR: 1.7436 | Loss_cycle_EO: 0.6458\n",
            "Loss_identity_A: 0.3862 | Loss_identity_B: 0.8624\n",
            "Loss_D_A: 0.1339 | Loss_D_B: 0.1225\n"
          ]
        },
        {
          "output_type": "stream",
          "name": "stderr",
          "text": [
            "Epoch 1/3:   2%|▏         | 43/1947 [23:04<16:49:58, 31.83s/it]"
          ]
        },
        {
          "output_type": "stream",
          "name": "stdout",
          "text": [
            "Warning: SAR image ROIs2017_winter_s1_21_p590.tif has 2 channels, but INPUT_NC is 3. Padding with zeros.\n",
            "Epoch [1/3], Step [42/1947]\n",
            "Loss_G: 4.3588 | Loss_G_GAN_A: 0.5431 | Loss_G_GAN_B: 0.4549\n",
            "Loss_cycle_SAR: 1.4434 | Loss_cycle_EO: 0.9144\n",
            "Loss_identity_A: 0.2934 | Loss_identity_B: 0.7096\n",
            "Loss_D_A: 0.1582 | Loss_D_B: 0.1418\n"
          ]
        },
        {
          "output_type": "stream",
          "name": "stderr",
          "text": [
            "Epoch 1/3:   2%|▏         | 44/1947 [23:36<16:47:58, 31.78s/it]"
          ]
        },
        {
          "output_type": "stream",
          "name": "stdout",
          "text": [
            "Warning: SAR image ROIs2017_winter_s1_22_p314.tif has 2 channels, but INPUT_NC is 3. Padding with zeros.\n",
            "Epoch [1/3], Step [43/1947]\n",
            "Loss_G: 4.2313 | Loss_G_GAN_A: 0.2929 | Loss_G_GAN_B: 0.5387\n",
            "Loss_cycle_SAR: 1.3912 | Loss_cycle_EO: 1.0597\n",
            "Loss_identity_A: 0.2441 | Loss_identity_B: 0.7046\n",
            "Loss_D_A: 0.1771 | Loss_D_B: 0.1641\n"
          ]
        },
        {
          "output_type": "stream",
          "name": "stderr",
          "text": [
            "Epoch 1/3:   2%|▏         | 45/1947 [24:10<17:07:36, 32.42s/it]"
          ]
        },
        {
          "output_type": "stream",
          "name": "stdout",
          "text": [
            "Warning: SAR image ROIs2017_winter_s1_22_p631.tif has 2 channels, but INPUT_NC is 3. Padding with zeros.\n",
            "Epoch [1/3], Step [44/1947]\n",
            "Loss_G: 3.8610 | Loss_G_GAN_A: 0.6027 | Loss_G_GAN_B: 0.5695\n",
            "Loss_cycle_SAR: 1.2150 | Loss_cycle_EO: 0.5628\n",
            "Loss_identity_A: 0.2687 | Loss_identity_B: 0.6424\n",
            "Loss_D_A: 0.1031 | Loss_D_B: 0.1199\n"
          ]
        },
        {
          "output_type": "stream",
          "name": "stderr",
          "text": [
            "Epoch 1/3:   2%|▏         | 46/1947 [24:42<17:05:04, 32.35s/it]"
          ]
        },
        {
          "output_type": "stream",
          "name": "stdout",
          "text": [
            "Warning: SAR image ROIs2017_winter_s1_8_p657.tif has 2 channels, but INPUT_NC is 3. Padding with zeros.\n",
            "Epoch [1/3], Step [45/1947]\n",
            "Loss_G: 3.3705 | Loss_G_GAN_A: 0.3916 | Loss_G_GAN_B: 0.2946\n",
            "Loss_cycle_SAR: 1.3394 | Loss_cycle_EO: 0.4446\n",
            "Loss_identity_A: 0.2027 | Loss_identity_B: 0.6975\n",
            "Loss_D_A: 0.1996 | Loss_D_B: 0.2364\n"
          ]
        },
        {
          "output_type": "stream",
          "name": "stderr",
          "text": [
            "Epoch 1/3:   2%|▏         | 47/1947 [25:13<16:53:24, 32.00s/it]"
          ]
        },
        {
          "output_type": "stream",
          "name": "stdout",
          "text": [
            "Warning: SAR image ROIs2017_winter_s1_22_p738.tif has 2 channels, but INPUT_NC is 3. Padding with zeros.\n",
            "Epoch [1/3], Step [46/1947]\n",
            "Loss_G: 8.9571 | Loss_G_GAN_A: 0.6101 | Loss_G_GAN_B: 0.7165\n",
            "Loss_cycle_SAR: 2.8661 | Loss_cycle_EO: 2.2131\n",
            "Loss_identity_A: 0.9722 | Loss_identity_B: 1.5791\n",
            "Loss_D_A: 0.0725 | Loss_D_B: 0.2265\n"
          ]
        },
        {
          "output_type": "stream",
          "name": "stderr",
          "text": [
            "Epoch 1/3:   2%|▏         | 48/1947 [25:44<16:47:15, 31.82s/it]"
          ]
        },
        {
          "output_type": "stream",
          "name": "stdout",
          "text": [
            "Warning: SAR image ROIs2017_winter_s1_21_p213.tif has 2 channels, but INPUT_NC is 3. Padding with zeros.\n",
            "Epoch [1/3], Step [47/1947]\n",
            "Loss_G: 5.7682 | Loss_G_GAN_A: 0.4196 | Loss_G_GAN_B: 0.3558\n",
            "Loss_cycle_SAR: 1.7072 | Loss_cycle_EO: 1.8540\n",
            "Loss_identity_A: 0.6445 | Loss_identity_B: 0.7871\n",
            "Loss_D_A: 0.1003 | Loss_D_B: 0.1933\n"
          ]
        },
        {
          "output_type": "stream",
          "name": "stderr",
          "text": [
            "Epoch 1/3:   3%|▎         | 49/1947 [26:15<16:36:46, 31.51s/it]"
          ]
        },
        {
          "output_type": "stream",
          "name": "stdout",
          "text": [
            "Warning: SAR image ROIs2017_winter_s1_8_p216.tif has 2 channels, but INPUT_NC is 3. Padding with zeros.\n",
            "Epoch [1/3], Step [48/1947]\n",
            "Loss_G: 8.5656 | Loss_G_GAN_A: 0.8492 | Loss_G_GAN_B: 0.8914\n",
            "Loss_cycle_SAR: 2.4635 | Loss_cycle_EO: 2.4108\n",
            "Loss_identity_A: 0.7716 | Loss_identity_B: 1.1792\n",
            "Loss_D_A: 0.1967 | Loss_D_B: 0.1457\n"
          ]
        },
        {
          "output_type": "stream",
          "name": "stderr",
          "text": [
            "Epoch 1/3:   3%|▎         | 50/1947 [26:46<16:34:20, 31.45s/it]"
          ]
        },
        {
          "output_type": "stream",
          "name": "stdout",
          "text": [
            "Warning: SAR image ROIs2017_winter_s1_8_p55.tif has 2 channels, but INPUT_NC is 3. Padding with zeros.\n",
            "Epoch [1/3], Step [49/1947]\n",
            "Loss_G: 4.7257 | Loss_G_GAN_A: 0.7810 | Loss_G_GAN_B: 0.5737\n",
            "Loss_cycle_SAR: 1.5802 | Loss_cycle_EO: 0.4322\n",
            "Loss_identity_A: 0.5239 | Loss_identity_B: 0.8347\n",
            "Loss_D_A: 0.1919 | Loss_D_B: 0.1266\n"
          ]
        },
        {
          "output_type": "stream",
          "name": "stderr",
          "text": [
            "Epoch 1/3:   3%|▎         | 51/1947 [27:20<16:48:42, 31.92s/it]"
          ]
        },
        {
          "output_type": "stream",
          "name": "stdout",
          "text": [
            "Warning: SAR image ROIs2017_winter_s1_8_p329.tif has 2 channels, but INPUT_NC is 3. Padding with zeros.\n",
            "Epoch [1/3], Step [50/1947]\n",
            "Loss_G: 3.9537 | Loss_G_GAN_A: 0.9802 | Loss_G_GAN_B: 0.3558\n",
            "Loss_cycle_SAR: 1.2484 | Loss_cycle_EO: 0.3220\n",
            "Loss_identity_A: 0.4382 | Loss_identity_B: 0.6092\n",
            "Loss_D_A: 0.3604 | Loss_D_B: 0.1656\n"
          ]
        },
        {
          "output_type": "stream",
          "name": "stderr",
          "text": [
            "Epoch 1/3:   3%|▎         | 52/1947 [27:51<16:45:32, 31.84s/it]"
          ]
        },
        {
          "output_type": "stream",
          "name": "stdout",
          "text": [
            "Warning: SAR image ROIs2017_winter_s1_22_p115.tif has 2 channels, but INPUT_NC is 3. Padding with zeros.\n",
            "Epoch [1/3], Step [51/1947]\n",
            "Loss_G: 5.9328 | Loss_G_GAN_A: 0.2985 | Loss_G_GAN_B: 0.3919\n",
            "Loss_cycle_SAR: 1.0966 | Loss_cycle_EO: 2.7965\n",
            "Loss_identity_A: 0.8119 | Loss_identity_B: 0.5374\n",
            "Loss_D_A: 0.1865 | Loss_D_B: 0.1641\n"
          ]
        },
        {
          "output_type": "stream",
          "name": "stderr",
          "text": [
            "Epoch 1/3:   3%|▎         | 53/1947 [28:22<16:35:31, 31.54s/it]"
          ]
        },
        {
          "output_type": "stream",
          "name": "stdout",
          "text": [
            "Warning: SAR image ROIs2017_winter_s1_8_p826.tif has 2 channels, but INPUT_NC is 3. Padding with zeros.\n",
            "Epoch [1/3], Step [52/1947]\n",
            "Loss_G: 4.2174 | Loss_G_GAN_A: 0.6450 | Loss_G_GAN_B: 1.1550\n",
            "Loss_cycle_SAR: 1.2752 | Loss_cycle_EO: 0.3071\n",
            "Loss_identity_A: 0.1798 | Loss_identity_B: 0.6552\n",
            "Loss_D_A: 0.1357 | Loss_D_B: 0.1407\n"
          ]
        },
        {
          "output_type": "stream",
          "name": "stderr",
          "text": [
            "Epoch 1/3:   3%|▎         | 54/1947 [28:53<16:31:10, 31.42s/it]"
          ]
        },
        {
          "output_type": "stream",
          "name": "stdout",
          "text": [
            "Warning: SAR image ROIs2017_winter_s1_21_p41.tif has 2 channels, but INPUT_NC is 3. Padding with zeros.\n",
            "Epoch [1/3], Step [53/1947]\n",
            "Loss_G: 4.8672 | Loss_G_GAN_A: 0.4137 | Loss_G_GAN_B: 0.3195\n",
            "Loss_cycle_SAR: 1.0659 | Loss_cycle_EO: 1.7415\n",
            "Loss_identity_A: 0.7862 | Loss_identity_B: 0.5404\n",
            "Loss_D_A: 0.2434 | Loss_D_B: 0.2097\n"
          ]
        },
        {
          "output_type": "stream",
          "name": "stderr",
          "text": [
            "Epoch 1/3:   3%|▎         | 55/1947 [29:25<16:32:40, 31.48s/it]"
          ]
        },
        {
          "output_type": "stream",
          "name": "stdout",
          "text": [
            "Warning: SAR image ROIs2017_winter_s1_21_p361.tif has 2 channels, but INPUT_NC is 3. Padding with zeros.\n",
            "Epoch [1/3], Step [54/1947]\n",
            "Loss_G: 5.4894 | Loss_G_GAN_A: 0.2024 | Loss_G_GAN_B: 1.1361\n",
            "Loss_cycle_SAR: 2.2392 | Loss_cycle_EO: 0.4679\n",
            "Loss_identity_A: 0.3546 | Loss_identity_B: 1.0893\n",
            "Loss_D_A: 0.2744 | Loss_D_B: 0.1900\n"
          ]
        },
        {
          "output_type": "stream",
          "name": "stderr",
          "text": [
            "Epoch 1/3:   3%|▎         | 56/1947 [30:03<17:33:21, 33.42s/it]"
          ]
        },
        {
          "output_type": "stream",
          "name": "stdout",
          "text": [
            "Warning: SAR image ROIs2017_winter_s1_22_p700.tif has 2 channels, but INPUT_NC is 3. Padding with zeros.\n",
            "Epoch [1/3], Step [55/1947]\n",
            "Loss_G: 4.9445 | Loss_G_GAN_A: 0.6917 | Loss_G_GAN_B: 0.8731\n",
            "Loss_cycle_SAR: 1.4465 | Loss_cycle_EO: 0.7616\n",
            "Loss_identity_A: 0.4630 | Loss_identity_B: 0.7086\n",
            "Loss_D_A: 0.2063 | Loss_D_B: 0.2229\n"
          ]
        },
        {
          "output_type": "stream",
          "name": "stderr",
          "text": [
            "Epoch 1/3:   3%|▎         | 57/1947 [30:34<17:10:16, 32.71s/it]"
          ]
        },
        {
          "output_type": "stream",
          "name": "stdout",
          "text": [
            "Warning: SAR image ROIs2017_winter_s1_8_p487.tif has 2 channels, but INPUT_NC is 3. Padding with zeros.\n",
            "Epoch [1/3], Step [56/1947]\n",
            "Loss_G: 7.9826 | Loss_G_GAN_A: 0.9406 | Loss_G_GAN_B: 1.3160\n",
            "Loss_cycle_SAR: 1.6227 | Loss_cycle_EO: 2.5904\n",
            "Loss_identity_A: 0.7439 | Loss_identity_B: 0.7691\n",
            "Loss_D_A: 0.1241 | Loss_D_B: 0.3890\n"
          ]
        },
        {
          "output_type": "stream",
          "name": "stderr",
          "text": [
            "Epoch 1/3:   3%|▎         | 58/1947 [31:05<16:53:35, 32.19s/it]"
          ]
        },
        {
          "output_type": "stream",
          "name": "stdout",
          "text": [
            "Warning: SAR image ROIs2017_winter_s1_21_p299.tif has 2 channels, but INPUT_NC is 3. Padding with zeros.\n",
            "Epoch [1/3], Step [57/1947]\n",
            "Loss_G: 6.4500 | Loss_G_GAN_A: 0.8531 | Loss_G_GAN_B: 2.1627\n",
            "Loss_cycle_SAR: 1.7446 | Loss_cycle_EO: 0.6777\n",
            "Loss_identity_A: 0.2311 | Loss_identity_B: 0.7809\n",
            "Loss_D_A: 0.0717 | Loss_D_B: 0.8598\n"
          ]
        },
        {
          "output_type": "stream",
          "name": "stderr",
          "text": [
            "Epoch 1/3:   3%|▎         | 59/1947 [31:36<16:42:51, 31.87s/it]"
          ]
        },
        {
          "output_type": "stream",
          "name": "stdout",
          "text": [
            "Warning: SAR image ROIs2017_winter_s1_22_p240.tif has 2 channels, but INPUT_NC is 3. Padding with zeros.\n",
            "Epoch [1/3], Step [58/1947]\n",
            "Loss_G: 7.5734 | Loss_G_GAN_A: 0.4928 | Loss_G_GAN_B: 2.0859\n",
            "Loss_cycle_SAR: 1.7420 | Loss_cycle_EO: 2.1109\n",
            "Loss_identity_A: 0.3056 | Loss_identity_B: 0.8362\n",
            "Loss_D_A: 0.0663 | Loss_D_B: 0.5299\n"
          ]
        },
        {
          "output_type": "stream",
          "name": "stderr",
          "text": [
            "Epoch 1/3:   3%|▎         | 60/1947 [32:08<16:46:03, 31.99s/it]"
          ]
        },
        {
          "output_type": "stream",
          "name": "stdout",
          "text": [
            "Warning: SAR image ROIs2017_winter_s1_8_p422.tif has 2 channels, but INPUT_NC is 3. Padding with zeros.\n",
            "Epoch [1/3], Step [59/1947]\n",
            "Loss_G: 4.4619 | Loss_G_GAN_A: 0.5642 | Loss_G_GAN_B: 0.8156\n",
            "Loss_cycle_SAR: 1.2901 | Loss_cycle_EO: 0.9363\n",
            "Loss_identity_A: 0.1964 | Loss_identity_B: 0.6593\n",
            "Loss_D_A: 0.0655 | Loss_D_B: 0.0832\n"
          ]
        },
        {
          "output_type": "stream",
          "name": "stderr",
          "text": [
            "Epoch 1/3:   3%|▎         | 61/1947 [32:40<16:47:48, 32.06s/it]"
          ]
        },
        {
          "output_type": "stream",
          "name": "stdout",
          "text": [
            "Warning: SAR image ROIs2017_winter_s1_8_p488.tif has 2 channels, but INPUT_NC is 3. Padding with zeros.\n",
            "Epoch [1/3], Step [60/1947]\n",
            "Loss_G: 6.8568 | Loss_G_GAN_A: 0.3613 | Loss_G_GAN_B: 0.9674\n",
            "Loss_cycle_SAR: 2.0074 | Loss_cycle_EO: 2.0581\n",
            "Loss_identity_A: 0.5381 | Loss_identity_B: 0.9245\n",
            "Loss_D_A: 0.1177 | Loss_D_B: 0.1769\n"
          ]
        },
        {
          "output_type": "stream",
          "name": "stderr",
          "text": [
            "Epoch 1/3:   3%|▎         | 62/1947 [33:11<16:38:13, 31.77s/it]"
          ]
        },
        {
          "output_type": "stream",
          "name": "stdout",
          "text": [
            "Warning: SAR image ROIs2017_winter_s1_21_p180.tif has 2 channels, but INPUT_NC is 3. Padding with zeros.\n",
            "Epoch [1/3], Step [61/1947]\n",
            "Loss_G: 6.1698 | Loss_G_GAN_A: 0.9865 | Loss_G_GAN_B: 0.5585\n",
            "Loss_cycle_SAR: 1.2366 | Loss_cycle_EO: 2.4402\n",
            "Loss_identity_A: 0.2645 | Loss_identity_B: 0.6836\n",
            "Loss_D_A: 0.0666 | Loss_D_B: 0.0879\n"
          ]
        },
        {
          "output_type": "stream",
          "name": "stderr",
          "text": [
            "Epoch 1/3:   3%|▎         | 63/1947 [33:43<16:35:50, 31.71s/it]"
          ]
        },
        {
          "output_type": "stream",
          "name": "stdout",
          "text": [
            "Warning: SAR image ROIs2017_winter_s1_21_p732.tif has 2 channels, but INPUT_NC is 3. Padding with zeros.\n",
            "Epoch [1/3], Step [62/1947]\n",
            "Loss_G: 6.2551 | Loss_G_GAN_A: 0.6979 | Loss_G_GAN_B: 0.6259\n",
            "Loss_cycle_SAR: 1.6638 | Loss_cycle_EO: 1.5560\n",
            "Loss_identity_A: 0.7847 | Loss_identity_B: 0.9269\n",
            "Loss_D_A: 0.0633 | Loss_D_B: 0.0749\n"
          ]
        },
        {
          "output_type": "stream",
          "name": "stderr",
          "text": [
            "Epoch 1/3:   3%|▎         | 64/1947 [34:14<16:23:44, 31.35s/it]"
          ]
        },
        {
          "output_type": "stream",
          "name": "stdout",
          "text": [
            "Warning: SAR image ROIs2017_winter_s1_22_p172.tif has 2 channels, but INPUT_NC is 3. Padding with zeros.\n",
            "Epoch [1/3], Step [63/1947]\n",
            "Loss_G: 5.1208 | Loss_G_GAN_A: 0.6763 | Loss_G_GAN_B: 0.5236\n",
            "Loss_cycle_SAR: 1.3809 | Loss_cycle_EO: 1.1232\n",
            "Loss_identity_A: 0.6960 | Loss_identity_B: 0.7208\n",
            "Loss_D_A: 0.0573 | Loss_D_B: 0.1353\n"
          ]
        },
        {
          "output_type": "stream",
          "name": "stderr",
          "text": [
            "Epoch 1/3:   3%|▎         | 65/1947 [34:45<16:23:08, 31.34s/it]"
          ]
        },
        {
          "output_type": "stream",
          "name": "stdout",
          "text": [
            "Warning: SAR image ROIs2017_winter_s1_22_p692.tif has 2 channels, but INPUT_NC is 3. Padding with zeros.\n",
            "Epoch [1/3], Step [64/1947]\n",
            "Loss_G: 5.3853 | Loss_G_GAN_A: 0.5262 | Loss_G_GAN_B: 0.4632\n",
            "Loss_cycle_SAR: 1.4067 | Loss_cycle_EO: 1.9852\n",
            "Loss_identity_A: 0.3104 | Loss_identity_B: 0.6937\n",
            "Loss_D_A: 0.1312 | Loss_D_B: 0.1835\n"
          ]
        },
        {
          "output_type": "stream",
          "name": "stderr",
          "text": [
            "Epoch 1/3:   3%|▎         | 66/1947 [35:17<16:31:17, 31.62s/it]"
          ]
        },
        {
          "output_type": "stream",
          "name": "stdout",
          "text": [
            "Warning: SAR image ROIs2017_winter_s1_8_p150.tif has 2 channels, but INPUT_NC is 3. Padding with zeros.\n",
            "Epoch [1/3], Step [65/1947]\n",
            "Loss_G: 6.7618 | Loss_G_GAN_A: 1.1671 | Loss_G_GAN_B: 0.6316\n",
            "Loss_cycle_SAR: 1.5163 | Loss_cycle_EO: 1.9909\n",
            "Loss_identity_A: 0.7857 | Loss_identity_B: 0.6701\n",
            "Loss_D_A: 0.1186 | Loss_D_B: 0.1203\n"
          ]
        },
        {
          "output_type": "stream",
          "name": "stderr",
          "text": [
            "Epoch 1/3:   3%|▎         | 67/1947 [35:48<16:28:07, 31.54s/it]"
          ]
        },
        {
          "output_type": "stream",
          "name": "stdout",
          "text": [
            "Warning: SAR image ROIs2017_winter_s1_21_p121.tif has 2 channels, but INPUT_NC is 3. Padding with zeros.\n",
            "Epoch [1/3], Step [66/1947]\n",
            "Loss_G: 5.5448 | Loss_G_GAN_A: 1.0628 | Loss_G_GAN_B: 0.9129\n",
            "Loss_cycle_SAR: 1.3267 | Loss_cycle_EO: 1.2789\n",
            "Loss_identity_A: 0.3199 | Loss_identity_B: 0.6436\n",
            "Loss_D_A: 0.1020 | Loss_D_B: 0.1058\n"
          ]
        },
        {
          "output_type": "stream",
          "name": "stderr",
          "text": [
            "Epoch 1/3:   3%|▎         | 68/1947 [36:20<16:24:09, 31.43s/it]"
          ]
        },
        {
          "output_type": "stream",
          "name": "stdout",
          "text": [
            "Warning: SAR image ROIs2017_winter_s1_8_p272.tif has 2 channels, but INPUT_NC is 3. Padding with zeros.\n",
            "Epoch [1/3], Step [67/1947]\n",
            "Loss_G: 6.0429 | Loss_G_GAN_A: 0.4016 | Loss_G_GAN_B: 0.6957\n",
            "Loss_cycle_SAR: 1.3334 | Loss_cycle_EO: 2.1237\n",
            "Loss_identity_A: 0.8670 | Loss_identity_B: 0.6215\n",
            "Loss_D_A: 0.1062 | Loss_D_B: 0.0530\n"
          ]
        },
        {
          "output_type": "stream",
          "name": "stderr",
          "text": [
            "Epoch 1/3:   4%|▎         | 69/1947 [36:51<16:18:36, 31.27s/it]"
          ]
        },
        {
          "output_type": "stream",
          "name": "stdout",
          "text": [
            "Warning: SAR image ROIs2017_winter_s1_22_p214.tif has 2 channels, but INPUT_NC is 3. Padding with zeros.\n",
            "Epoch [1/3], Step [68/1947]\n",
            "Loss_G: 3.9851 | Loss_G_GAN_A: 0.6594 | Loss_G_GAN_B: 0.3274\n",
            "Loss_cycle_SAR: 1.1322 | Loss_cycle_EO: 0.9411\n",
            "Loss_identity_A: 0.3453 | Loss_identity_B: 0.5796\n",
            "Loss_D_A: 0.0855 | Loss_D_B: 0.1633\n"
          ]
        },
        {
          "output_type": "stream",
          "name": "stderr",
          "text": [
            "Epoch 1/3:   4%|▎         | 70/1947 [37:22<16:15:45, 31.19s/it]"
          ]
        },
        {
          "output_type": "stream",
          "name": "stdout",
          "text": [
            "Warning: SAR image ROIs2017_winter_s1_22_p520.tif has 2 channels, but INPUT_NC is 3. Padding with zeros.\n",
            "Epoch [1/3], Step [69/1947]\n",
            "Loss_G: 4.8773 | Loss_G_GAN_A: 0.9777 | Loss_G_GAN_B: 1.0751\n",
            "Loss_cycle_SAR: 1.1684 | Loss_cycle_EO: 0.8354\n",
            "Loss_identity_A: 0.2641 | Loss_identity_B: 0.5566\n",
            "Loss_D_A: 0.1428 | Loss_D_B: 0.1264\n"
          ]
        },
        {
          "output_type": "stream",
          "name": "stderr",
          "text": [
            "Epoch 1/3:   4%|▎         | 71/1947 [37:54<16:28:18, 31.61s/it]"
          ]
        },
        {
          "output_type": "stream",
          "name": "stdout",
          "text": [
            "Warning: SAR image ROIs2017_winter_s1_21_p32.tif has 2 channels, but INPUT_NC is 3. Padding with zeros.\n",
            "Epoch [1/3], Step [70/1947]\n",
            "Loss_G: 4.1864 | Loss_G_GAN_A: 0.7350 | Loss_G_GAN_B: 0.2789\n",
            "Loss_cycle_SAR: 1.4834 | Loss_cycle_EO: 0.5768\n",
            "Loss_identity_A: 0.3759 | Loss_identity_B: 0.7364\n",
            "Loss_D_A: 0.0922 | Loss_D_B: 0.1631\n"
          ]
        },
        {
          "output_type": "stream",
          "name": "stderr",
          "text": [
            "Epoch 1/3:   4%|▎         | 72/1947 [38:25<16:21:09, 31.40s/it]"
          ]
        },
        {
          "output_type": "stream",
          "name": "stdout",
          "text": [
            "Warning: SAR image ROIs2017_winter_s1_8_p50.tif has 2 channels, but INPUT_NC is 3. Padding with zeros.\n",
            "Epoch [1/3], Step [71/1947]\n",
            "Loss_G: 4.6859 | Loss_G_GAN_A: 0.1281 | Loss_G_GAN_B: 1.2757\n",
            "Loss_cycle_SAR: 1.8294 | Loss_cycle_EO: 0.3868\n",
            "Loss_identity_A: 0.1752 | Loss_identity_B: 0.8907\n",
            "Loss_D_A: 0.2340 | Loss_D_B: 0.0650\n"
          ]
        },
        {
          "output_type": "stream",
          "name": "stderr",
          "text": [
            "Epoch 1/3:   4%|▎         | 73/1947 [38:57<16:25:29, 31.55s/it]"
          ]
        },
        {
          "output_type": "stream",
          "name": "stdout",
          "text": [
            "Warning: SAR image ROIs2017_winter_s1_8_p131.tif has 2 channels, but INPUT_NC is 3. Padding with zeros.\n",
            "Epoch [1/3], Step [72/1947]\n",
            "Loss_G: 4.2541 | Loss_G_GAN_A: 0.7517 | Loss_G_GAN_B: 0.7571\n",
            "Loss_cycle_SAR: 1.3932 | Loss_cycle_EO: 0.4812\n",
            "Loss_identity_A: 0.2459 | Loss_identity_B: 0.6249\n",
            "Loss_D_A: 0.2289 | Loss_D_B: 0.0518\n"
          ]
        },
        {
          "output_type": "stream",
          "name": "stderr",
          "text": [
            "Epoch 1/3:   4%|▍         | 74/1947 [39:28<16:17:03, 31.30s/it]"
          ]
        },
        {
          "output_type": "stream",
          "name": "stdout",
          "text": [
            "Warning: SAR image ROIs2017_winter_s1_21_p755.tif has 2 channels, but INPUT_NC is 3. Padding with zeros.\n",
            "Epoch [1/3], Step [73/1947]\n",
            "Loss_G: 7.0435 | Loss_G_GAN_A: 0.5265 | Loss_G_GAN_B: 0.4816\n",
            "Loss_cycle_SAR: 1.2251 | Loss_cycle_EO: 2.7748\n",
            "Loss_identity_A: 1.4403 | Loss_identity_B: 0.5954\n",
            "Loss_D_A: 0.1924 | Loss_D_B: 0.0703\n"
          ]
        },
        {
          "output_type": "stream",
          "name": "stderr",
          "text": [
            "Epoch 1/3:   4%|▍         | 75/1947 [39:59<16:16:20, 31.29s/it]"
          ]
        },
        {
          "output_type": "stream",
          "name": "stdout",
          "text": [
            "Warning: SAR image ROIs2017_winter_s1_8_p521.tif has 2 channels, but INPUT_NC is 3. Padding with zeros.\n",
            "Epoch [1/3], Step [74/1947]\n",
            "Loss_G: 6.6398 | Loss_G_GAN_A: 0.3425 | Loss_G_GAN_B: 0.5842\n",
            "Loss_cycle_SAR: 1.5384 | Loss_cycle_EO: 2.5634\n",
            "Loss_identity_A: 0.9004 | Loss_identity_B: 0.7109\n",
            "Loss_D_A: 0.1676 | Loss_D_B: 0.0694\n"
          ]
        },
        {
          "output_type": "stream",
          "name": "stderr",
          "text": [
            "Epoch 1/3:   4%|▍         | 76/1947 [40:31<16:24:10, 31.56s/it]"
          ]
        },
        {
          "output_type": "stream",
          "name": "stdout",
          "text": [
            "Warning: SAR image ROIs2017_winter_s1_21_p160.tif has 2 channels, but INPUT_NC is 3. Padding with zeros.\n",
            "Epoch [1/3], Step [75/1947]\n",
            "Loss_G: 7.4363 | Loss_G_GAN_A: 1.1966 | Loss_G_GAN_B: 1.0819\n",
            "Loss_cycle_SAR: 1.1995 | Loss_cycle_EO: 2.5452\n",
            "Loss_identity_A: 0.8519 | Loss_identity_B: 0.5611\n",
            "Loss_D_A: 0.1265 | Loss_D_B: 0.0366\n"
          ]
        },
        {
          "output_type": "stream",
          "name": "stderr",
          "text": [
            "Epoch 1/3:   4%|▍         | 77/1947 [41:03<16:22:16, 31.52s/it]"
          ]
        },
        {
          "output_type": "stream",
          "name": "stdout",
          "text": [
            "Warning: SAR image ROIs2017_winter_s1_8_p507.tif has 2 channels, but INPUT_NC is 3. Padding with zeros.\n",
            "Epoch [1/3], Step [76/1947]\n",
            "Loss_G: 5.4332 | Loss_G_GAN_A: 0.5522 | Loss_G_GAN_B: 0.7384\n",
            "Loss_cycle_SAR: 1.6845 | Loss_cycle_EO: 0.9090\n",
            "Loss_identity_A: 0.7395 | Loss_identity_B: 0.8096\n",
            "Loss_D_A: 0.1382 | Loss_D_B: 0.0304\n"
          ]
        },
        {
          "output_type": "stream",
          "name": "stderr",
          "text": [
            "Epoch 1/3:   4%|▍         | 78/1947 [41:34<16:20:09, 31.47s/it]"
          ]
        },
        {
          "output_type": "stream",
          "name": "stdout",
          "text": [
            "Warning: SAR image ROIs2017_winter_s1_22_p635.tif has 2 channels, but INPUT_NC is 3. Padding with zeros.\n",
            "Epoch [1/3], Step [77/1947]\n",
            "Loss_G: 4.3566 | Loss_G_GAN_A: 0.5316 | Loss_G_GAN_B: 0.2799\n",
            "Loss_cycle_SAR: 1.0900 | Loss_cycle_EO: 1.7364\n",
            "Loss_identity_A: 0.1832 | Loss_identity_B: 0.5354\n",
            "Loss_D_A: 0.1192 | Loss_D_B: 0.1424\n"
          ]
        },
        {
          "output_type": "stream",
          "name": "stderr",
          "text": [
            "Epoch 1/3:   4%|▍         | 79/1947 [42:05<16:12:04, 31.22s/it]"
          ]
        },
        {
          "output_type": "stream",
          "name": "stdout",
          "text": [
            "Warning: SAR image ROIs2017_winter_s1_8_p47.tif has 2 channels, but INPUT_NC is 3. Padding with zeros.\n",
            "Epoch [1/3], Step [78/1947]\n",
            "Loss_G: 4.5381 | Loss_G_GAN_A: 0.7949 | Loss_G_GAN_B: 0.7957\n",
            "Loss_cycle_SAR: 1.1173 | Loss_cycle_EO: 0.6522\n",
            "Loss_identity_A: 0.6416 | Loss_identity_B: 0.5364\n",
            "Loss_D_A: 0.0792 | Loss_D_B: 0.0704\n"
          ]
        },
        {
          "output_type": "stream",
          "name": "stderr",
          "text": [
            "Epoch 1/3:   4%|▍         | 80/1947 [42:36<16:11:47, 31.23s/it]"
          ]
        },
        {
          "output_type": "stream",
          "name": "stdout",
          "text": [
            "Warning: SAR image ROIs2017_winter_s1_22_p770.tif has 2 channels, but INPUT_NC is 3. Padding with zeros.\n",
            "Epoch [1/3], Step [79/1947]\n",
            "Loss_G: 5.2983 | Loss_G_GAN_A: 0.6212 | Loss_G_GAN_B: 1.5673\n",
            "Loss_cycle_SAR: 1.7299 | Loss_cycle_EO: 0.4271\n",
            "Loss_identity_A: 0.1945 | Loss_identity_B: 0.7582\n",
            "Loss_D_A: 0.0746 | Loss_D_B: 0.1144\n"
          ]
        },
        {
          "output_type": "stream",
          "name": "stderr",
          "text": [
            "Epoch 1/3:   4%|▍         | 81/1947 [43:08<16:19:18, 31.49s/it]"
          ]
        },
        {
          "output_type": "stream",
          "name": "stdout",
          "text": [
            "Warning: SAR image ROIs2017_winter_s1_22_p443.tif has 2 channels, but INPUT_NC is 3. Padding with zeros.\n",
            "Epoch [1/3], Step [80/1947]\n",
            "Loss_G: 7.5665 | Loss_G_GAN_A: 1.2450 | Loss_G_GAN_B: 0.6005\n",
            "Loss_cycle_SAR: 1.2652 | Loss_cycle_EO: 2.7084\n",
            "Loss_identity_A: 1.1471 | Loss_identity_B: 0.6003\n",
            "Loss_D_A: 0.0973 | Loss_D_B: 0.0922\n"
          ]
        },
        {
          "output_type": "stream",
          "name": "stderr",
          "text": [
            "Epoch 1/3:   4%|▍         | 82/1947 [43:40<16:26:31, 31.74s/it]"
          ]
        },
        {
          "output_type": "stream",
          "name": "stdout",
          "text": [
            "Warning: SAR image ROIs2017_winter_s1_8_p561.tif has 2 channels, but INPUT_NC is 3. Padding with zeros.\n",
            "Epoch [1/3], Step [81/1947]\n",
            "Loss_G: 3.8903 | Loss_G_GAN_A: 0.0189 | Loss_G_GAN_B: 0.7851\n",
            "Loss_cycle_SAR: 1.2435 | Loss_cycle_EO: 0.8949\n",
            "Loss_identity_A: 0.3377 | Loss_identity_B: 0.6102\n",
            "Loss_D_A: 0.4010 | Loss_D_B: 0.0402\n"
          ]
        },
        {
          "output_type": "stream",
          "name": "stderr",
          "text": [
            "Epoch 1/3:   4%|▍         | 83/1947 [44:11<16:18:40, 31.50s/it]"
          ]
        },
        {
          "output_type": "stream",
          "name": "stdout",
          "text": [
            "Warning: SAR image ROIs2017_winter_s1_21_p248.tif has 2 channels, but INPUT_NC is 3. Padding with zeros.\n",
            "Epoch [1/3], Step [82/1947]\n",
            "Loss_G: 7.5811 | Loss_G_GAN_A: 0.7919 | Loss_G_GAN_B: 0.2893\n",
            "Loss_cycle_SAR: 2.1143 | Loss_cycle_EO: 2.4658\n",
            "Loss_identity_A: 0.9519 | Loss_identity_B: 0.9679\n",
            "Loss_D_A: 0.1327 | Loss_D_B: 0.1404\n"
          ]
        },
        {
          "output_type": "stream",
          "name": "stderr",
          "text": [
            "Epoch 1/3:   4%|▍         | 84/1947 [44:43<16:18:11, 31.50s/it]"
          ]
        },
        {
          "output_type": "stream",
          "name": "stdout",
          "text": [
            "Warning: SAR image ROIs2017_winter_s1_21_p186.tif has 2 channels, but INPUT_NC is 3. Padding with zeros.\n",
            "Epoch [1/3], Step [83/1947]\n",
            "Loss_G: 7.0000 | Loss_G_GAN_A: 1.4724 | Loss_G_GAN_B: 1.1860\n",
            "Loss_cycle_SAR: 1.1779 | Loss_cycle_EO: 2.1069\n",
            "Loss_identity_A: 0.5026 | Loss_identity_B: 0.5543\n",
            "Loss_D_A: 0.1741 | Loss_D_B: 0.0992\n"
          ]
        },
        {
          "output_type": "stream",
          "name": "stderr",
          "text": [
            "Epoch 1/3:   4%|▍         | 85/1947 [45:15<16:23:01, 31.68s/it]"
          ]
        },
        {
          "output_type": "stream",
          "name": "stdout",
          "text": [
            "Warning: SAR image ROIs2017_winter_s1_21_p40.tif has 2 channels, but INPUT_NC is 3. Padding with zeros.\n",
            "Epoch [1/3], Step [84/1947]\n",
            "Loss_G: 3.6817 | Loss_G_GAN_A: 0.0975 | Loss_G_GAN_B: 0.5671\n",
            "Loss_cycle_SAR: 1.3157 | Loss_cycle_EO: 0.7237\n",
            "Loss_identity_A: 0.2708 | Loss_identity_B: 0.7069\n",
            "Loss_D_A: 0.2790 | Loss_D_B: 0.0781\n"
          ]
        },
        {
          "output_type": "stream",
          "name": "stderr",
          "text": [
            "Epoch 1/3:   4%|▍         | 86/1947 [45:50<16:51:41, 32.62s/it]"
          ]
        },
        {
          "output_type": "stream",
          "name": "stdout",
          "text": [
            "Warning: SAR image ROIs2017_winter_s1_22_p199.tif has 2 channels, but INPUT_NC is 3. Padding with zeros.\n",
            "Epoch [1/3], Step [85/1947]\n",
            "Loss_G: 6.1204 | Loss_G_GAN_A: 0.6699 | Loss_G_GAN_B: 0.6618\n",
            "Loss_cycle_SAR: 1.2333 | Loss_cycle_EO: 2.3372\n",
            "Loss_identity_A: 0.6791 | Loss_identity_B: 0.5391\n",
            "Loss_D_A: 0.0728 | Loss_D_B: 0.1054\n"
          ]
        },
        {
          "output_type": "stream",
          "name": "stderr",
          "text": [
            "Epoch 1/3:   4%|▍         | 87/1947 [46:21<16:36:54, 32.16s/it]"
          ]
        },
        {
          "output_type": "stream",
          "name": "stdout",
          "text": [
            "Warning: SAR image ROIs2017_winter_s1_8_p253.tif has 2 channels, but INPUT_NC is 3. Padding with zeros.\n",
            "Epoch [1/3], Step [86/1947]\n",
            "Loss_G: 5.4531 | Loss_G_GAN_A: 0.6636 | Loss_G_GAN_B: 1.6390\n",
            "Loss_cycle_SAR: 1.2382 | Loss_cycle_EO: 0.9562\n",
            "Loss_identity_A: 0.3698 | Loss_identity_B: 0.5863\n",
            "Loss_D_A: 0.1205 | Loss_D_B: 0.0965\n"
          ]
        },
        {
          "output_type": "stream",
          "name": "stderr",
          "text": [
            "Epoch 1/3:   5%|▍         | 88/1947 [46:52<16:26:56, 31.85s/it]"
          ]
        },
        {
          "output_type": "stream",
          "name": "stdout",
          "text": [
            "Warning: SAR image ROIs2017_winter_s1_8_p389.tif has 2 channels, but INPUT_NC is 3. Padding with zeros.\n",
            "Epoch [1/3], Step [87/1947]\n",
            "Loss_G: 6.1150 | Loss_G_GAN_A: 0.8022 | Loss_G_GAN_B: 1.0906\n",
            "Loss_cycle_SAR: 1.7303 | Loss_cycle_EO: 0.6994\n",
            "Loss_identity_A: 0.9659 | Loss_identity_B: 0.8267\n",
            "Loss_D_A: 0.1795 | Loss_D_B: 0.0636\n"
          ]
        },
        {
          "output_type": "stream",
          "name": "stderr",
          "text": [
            "Epoch 1/3:   5%|▍         | 89/1947 [47:23<16:22:26, 31.73s/it]"
          ]
        },
        {
          "output_type": "stream",
          "name": "stdout",
          "text": [
            "Warning: SAR image ROIs2017_winter_s1_21_p301.tif has 2 channels, but INPUT_NC is 3. Padding with zeros.\n",
            "Epoch [1/3], Step [88/1947]\n",
            "Loss_G: 7.7276 | Loss_G_GAN_A: 0.0936 | Loss_G_GAN_B: 0.7946\n",
            "Loss_cycle_SAR: 2.2107 | Loss_cycle_EO: 2.3902\n",
            "Loss_identity_A: 1.2430 | Loss_identity_B: 0.9955\n",
            "Loss_D_A: 0.2821 | Loss_D_B: 0.0302\n"
          ]
        },
        {
          "output_type": "stream",
          "name": "stderr",
          "text": [
            "Epoch 1/3:   5%|▍         | 90/1947 [47:55<16:26:31, 31.87s/it]"
          ]
        },
        {
          "output_type": "stream",
          "name": "stdout",
          "text": [
            "Warning: SAR image ROIs2017_winter_s1_21_p646.tif has 2 channels, but INPUT_NC is 3. Padding with zeros.\n",
            "Epoch [1/3], Step [89/1947]\n",
            "Loss_G: 5.1449 | Loss_G_GAN_A: 1.2895 | Loss_G_GAN_B: 0.8016\n",
            "Loss_cycle_SAR: 1.0568 | Loss_cycle_EO: 1.2626\n",
            "Loss_identity_A: 0.2005 | Loss_identity_B: 0.5339\n",
            "Loss_D_A: 0.2205 | Loss_D_B: 0.0329\n"
          ]
        },
        {
          "output_type": "stream",
          "name": "stderr",
          "text": [
            "Epoch 1/3:   5%|▍         | 91/1947 [48:27<16:24:13, 31.82s/it]"
          ]
        },
        {
          "output_type": "stream",
          "name": "stdout",
          "text": [
            "Warning: SAR image ROIs2017_winter_s1_8_p49.tif has 2 channels, but INPUT_NC is 3. Padding with zeros.\n",
            "Epoch [1/3], Step [90/1947]\n",
            "Loss_G: 6.7379 | Loss_G_GAN_A: 1.1596 | Loss_G_GAN_B: 0.8443\n",
            "Loss_cycle_SAR: 1.1190 | Loss_cycle_EO: 2.2261\n",
            "Loss_identity_A: 0.8552 | Loss_identity_B: 0.5337\n",
            "Loss_D_A: 0.0956 | Loss_D_B: 0.0196\n"
          ]
        },
        {
          "output_type": "stream",
          "name": "stderr",
          "text": [
            "Epoch 1/3:   5%|▍         | 92/1947 [49:00<16:30:38, 32.04s/it]"
          ]
        },
        {
          "output_type": "stream",
          "name": "stdout",
          "text": [
            "Warning: SAR image ROIs2017_winter_s1_21_p65.tif has 2 channels, but INPUT_NC is 3. Padding with zeros.\n",
            "Epoch [1/3], Step [91/1947]\n",
            "Loss_G: 4.7333 | Loss_G_GAN_A: 0.6360 | Loss_G_GAN_B: 0.7072\n",
            "Loss_cycle_SAR: 1.3553 | Loss_cycle_EO: 1.1779\n",
            "Loss_identity_A: 0.2425 | Loss_identity_B: 0.6145\n",
            "Loss_D_A: 0.0799 | Loss_D_B: 0.0279\n"
          ]
        },
        {
          "output_type": "stream",
          "name": "stderr",
          "text": [
            "Epoch 1/3:   5%|▍         | 93/1947 [49:31<16:22:41, 31.80s/it]"
          ]
        },
        {
          "output_type": "stream",
          "name": "stdout",
          "text": [
            "Warning: SAR image ROIs2017_winter_s1_21_p119.tif has 2 channels, but INPUT_NC is 3. Padding with zeros.\n",
            "Epoch [1/3], Step [92/1947]\n",
            "Loss_G: 3.4725 | Loss_G_GAN_A: 0.6206 | Loss_G_GAN_B: 0.3389\n",
            "Loss_cycle_SAR: 1.2150 | Loss_cycle_EO: 0.4269\n",
            "Loss_identity_A: 0.2745 | Loss_identity_B: 0.5966\n",
            "Loss_D_A: 0.0642 | Loss_D_B: 0.1512\n"
          ]
        },
        {
          "output_type": "stream",
          "name": "stderr",
          "text": [
            "Epoch 1/3:   5%|▍         | 94/1947 [50:02<16:15:57, 31.60s/it]"
          ]
        },
        {
          "output_type": "stream",
          "name": "stdout",
          "text": [
            "Warning: SAR image ROIs2017_winter_s1_8_p294.tif has 2 channels, but INPUT_NC is 3. Padding with zeros.\n",
            "Epoch [1/3], Step [93/1947]\n",
            "Loss_G: 4.1367 | Loss_G_GAN_A: 0.4580 | Loss_G_GAN_B: 0.6095\n",
            "Loss_cycle_SAR: 1.1055 | Loss_cycle_EO: 0.9293\n",
            "Loss_identity_A: 0.4163 | Loss_identity_B: 0.6181\n",
            "Loss_D_A: 0.0987 | Loss_D_B: 0.1520\n"
          ]
        },
        {
          "output_type": "stream",
          "name": "stderr",
          "text": [
            "Epoch 1/3:   5%|▍         | 95/1947 [50:33<16:12:34, 31.51s/it]"
          ]
        },
        {
          "output_type": "stream",
          "name": "stdout",
          "text": [
            "Warning: SAR image ROIs2017_winter_s1_8_p528.tif has 2 channels, but INPUT_NC is 3. Padding with zeros.\n",
            "Epoch [1/3], Step [94/1947]\n",
            "Loss_G: 5.4835 | Loss_G_GAN_A: 0.7301 | Loss_G_GAN_B: 1.6583\n",
            "Loss_cycle_SAR: 1.4627 | Loss_cycle_EO: 0.4661\n",
            "Loss_identity_A: 0.4343 | Loss_identity_B: 0.7320\n",
            "Loss_D_A: 0.0480 | Loss_D_B: 0.1860\n"
          ]
        },
        {
          "output_type": "stream",
          "name": "stderr",
          "text": [
            "Epoch 1/3:   5%|▍         | 96/1947 [51:11<17:08:29, 33.34s/it]"
          ]
        },
        {
          "output_type": "stream",
          "name": "stdout",
          "text": [
            "Warning: SAR image ROIs2017_winter_s1_8_p475.tif has 2 channels, but INPUT_NC is 3. Padding with zeros.\n",
            "Epoch [1/3], Step [95/1947]\n",
            "Loss_G: 6.5990 | Loss_G_GAN_A: 0.7414 | Loss_G_GAN_B: 0.7358\n",
            "Loss_cycle_SAR: 1.8887 | Loss_cycle_EO: 2.0396\n",
            "Loss_identity_A: 0.2211 | Loss_identity_B: 0.9723\n",
            "Loss_D_A: 0.0820 | Loss_D_B: 0.1094\n"
          ]
        },
        {
          "output_type": "stream",
          "name": "stderr",
          "text": [
            "Epoch 1/3:   5%|▍         | 97/1947 [51:43<16:54:33, 32.90s/it]"
          ]
        },
        {
          "output_type": "stream",
          "name": "stdout",
          "text": [
            "Warning: SAR image ROIs2017_winter_s1_8_p142.tif has 2 channels, but INPUT_NC is 3. Padding with zeros.\n",
            "Epoch [1/3], Step [96/1947]\n",
            "Loss_G: 4.3213 | Loss_G_GAN_A: 0.3484 | Loss_G_GAN_B: 0.7574\n",
            "Loss_cycle_SAR: 1.1586 | Loss_cycle_EO: 1.2424\n",
            "Loss_identity_A: 0.2212 | Loss_identity_B: 0.5933\n",
            "Loss_D_A: 0.1349 | Loss_D_B: 0.0305\n"
          ]
        },
        {
          "output_type": "stream",
          "name": "stderr",
          "text": [
            "Epoch 1/3:   5%|▌         | 98/1947 [52:14<16:34:44, 32.28s/it]"
          ]
        },
        {
          "output_type": "stream",
          "name": "stdout",
          "text": [
            "Warning: SAR image ROIs2017_winter_s1_22_p73.tif has 2 channels, but INPUT_NC is 3. Padding with zeros.\n",
            "Epoch [1/3], Step [97/1947]\n",
            "Loss_G: 6.3182 | Loss_G_GAN_A: 1.8227 | Loss_G_GAN_B: 0.6797\n",
            "Loss_cycle_SAR: 1.8911 | Loss_cycle_EO: 0.6716\n",
            "Loss_identity_A: 0.4098 | Loss_identity_B: 0.8433\n",
            "Loss_D_A: 0.1897 | Loss_D_B: 0.0710\n"
          ]
        },
        {
          "output_type": "stream",
          "name": "stderr",
          "text": [
            "Epoch 1/3:   5%|▌         | 99/1947 [52:46<16:30:08, 32.15s/it]"
          ]
        },
        {
          "output_type": "stream",
          "name": "stdout",
          "text": [
            "Warning: SAR image ROIs2017_winter_s1_21_p306.tif has 2 channels, but INPUT_NC is 3. Padding with zeros.\n",
            "Epoch [1/3], Step [98/1947]\n",
            "Loss_G: 8.5838 | Loss_G_GAN_A: 0.2851 | Loss_G_GAN_B: 0.4151\n",
            "Loss_cycle_SAR: 2.7631 | Loss_cycle_EO: 2.3511\n",
            "Loss_identity_A: 1.4517 | Loss_identity_B: 1.3176\n",
            "Loss_D_A: 0.1747 | Loss_D_B: 0.0986\n"
          ]
        },
        {
          "output_type": "stream",
          "name": "stderr",
          "text": [
            "Epoch 1/3:   5%|▌         | 100/1947 [53:17<16:24:26, 31.98s/it]"
          ]
        },
        {
          "output_type": "stream",
          "name": "stdout",
          "text": [
            "Warning: SAR image ROIs2017_winter_s1_21_p562.tif has 2 channels, but INPUT_NC is 3. Padding with zeros.\n",
            "Epoch [1/3], Step [99/1947]\n",
            "Loss_G: 5.0973 | Loss_G_GAN_A: 0.7777 | Loss_G_GAN_B: 0.5373\n",
            "Loss_cycle_SAR: 1.8241 | Loss_cycle_EO: 0.7187\n",
            "Loss_identity_A: 0.2680 | Loss_identity_B: 0.9714\n",
            "Loss_D_A: 0.0646 | Loss_D_B: 0.2984\n"
          ]
        },
        {
          "output_type": "stream",
          "name": "stderr",
          "text": [
            "Epoch 1/3:   5%|▌         | 101/1947 [53:50<16:35:46, 32.37s/it]"
          ]
        },
        {
          "output_type": "stream",
          "name": "stdout",
          "text": [
            "Warning: SAR image ROIs2017_winter_s1_21_p683.tif has 2 channels, but INPUT_NC is 3. Padding with zeros.\n",
            "Epoch [1/3], Step [100/1947]\n",
            "Loss_G: 4.3830 | Loss_G_GAN_A: 0.5080 | Loss_G_GAN_B: 0.5675\n",
            "Loss_cycle_SAR: 1.3983 | Loss_cycle_EO: 0.7667\n",
            "Loss_identity_A: 0.5105 | Loss_identity_B: 0.6320\n",
            "Loss_D_A: 0.0697 | Loss_D_B: 0.0796\n"
          ]
        },
        {
          "output_type": "stream",
          "name": "stderr",
          "text": [
            "Epoch 1/3:   5%|▌         | 102/1947 [54:22<16:24:27, 32.01s/it]"
          ]
        },
        {
          "output_type": "stream",
          "name": "stdout",
          "text": [
            "Warning: SAR image ROIs2017_winter_s1_21_p93.tif has 2 channels, but INPUT_NC is 3. Padding with zeros.\n",
            "Epoch [1/3], Step [101/1947]\n",
            "Loss_G: 6.0876 | Loss_G_GAN_A: 0.5255 | Loss_G_GAN_B: 0.6182\n",
            "Loss_cycle_SAR: 1.2918 | Loss_cycle_EO: 2.1154\n",
            "Loss_identity_A: 0.8976 | Loss_identity_B: 0.6391\n",
            "Loss_D_A: 0.1523 | Loss_D_B: 0.1043\n"
          ]
        },
        {
          "output_type": "stream",
          "name": "stderr",
          "text": [
            "Epoch 1/3:   5%|▌         | 103/1947 [54:53<16:19:41, 31.88s/it]"
          ]
        },
        {
          "output_type": "stream",
          "name": "stdout",
          "text": [
            "Warning: SAR image ROIs2017_winter_s1_21_p533.tif has 2 channels, but INPUT_NC is 3. Padding with zeros.\n",
            "Epoch [1/3], Step [102/1947]\n",
            "Loss_G: 7.0572 | Loss_G_GAN_A: 1.1869 | Loss_G_GAN_B: 1.3252\n",
            "Loss_cycle_SAR: 1.7823 | Loss_cycle_EO: 0.9292\n",
            "Loss_identity_A: 0.8872 | Loss_identity_B: 0.9464\n",
            "Loss_D_A: 0.1113 | Loss_D_B: 0.0323\n"
          ]
        },
        {
          "output_type": "stream",
          "name": "stderr",
          "text": [
            "Epoch 1/3:   5%|▌         | 104/1947 [55:25<16:19:41, 31.89s/it]"
          ]
        },
        {
          "output_type": "stream",
          "name": "stdout",
          "text": [
            "Warning: SAR image ROIs2017_winter_s1_21_p447.tif has 2 channels, but INPUT_NC is 3. Padding with zeros.\n",
            "Epoch [1/3], Step [103/1947]\n",
            "Loss_G: 5.4978 | Loss_G_GAN_A: 0.2289 | Loss_G_GAN_B: 1.2354\n",
            "Loss_cycle_SAR: 1.3244 | Loss_cycle_EO: 1.2836\n",
            "Loss_identity_A: 0.8076 | Loss_identity_B: 0.6180\n",
            "Loss_D_A: 0.1744 | Loss_D_B: 0.0573\n"
          ]
        },
        {
          "output_type": "stream",
          "name": "stderr",
          "text": [
            "Epoch 1/3:   5%|▌         | 105/1947 [55:58<16:25:37, 32.11s/it]"
          ]
        },
        {
          "output_type": "stream",
          "name": "stdout",
          "text": [
            "Warning: SAR image ROIs2017_winter_s1_8_p301.tif has 2 channels, but INPUT_NC is 3. Padding with zeros.\n",
            "Epoch [1/3], Step [104/1947]\n",
            "Loss_G: 6.8139 | Loss_G_GAN_A: 0.1272 | Loss_G_GAN_B: 0.6906\n",
            "Loss_cycle_SAR: 1.1606 | Loss_cycle_EO: 3.3544\n",
            "Loss_identity_A: 0.8975 | Loss_identity_B: 0.5835\n",
            "Loss_D_A: 0.3643 | Loss_D_B: 0.0471\n"
          ]
        },
        {
          "output_type": "stream",
          "name": "stderr",
          "text": [
            "Epoch 1/3:   5%|▌         | 106/1947 [56:29<16:16:46, 31.83s/it]"
          ]
        },
        {
          "output_type": "stream",
          "name": "stdout",
          "text": [
            "Warning: SAR image ROIs2017_winter_s1_8_p496.tif has 2 channels, but INPUT_NC is 3. Padding with zeros.\n",
            "Epoch [1/3], Step [105/1947]\n",
            "Loss_G: 6.9970 | Loss_G_GAN_A: 0.6611 | Loss_G_GAN_B: 0.7441\n",
            "Loss_cycle_SAR: 1.5541 | Loss_cycle_EO: 2.6023\n",
            "Loss_identity_A: 0.6726 | Loss_identity_B: 0.7629\n",
            "Loss_D_A: 0.2281 | Loss_D_B: 0.0605\n"
          ]
        },
        {
          "output_type": "stream",
          "name": "stderr",
          "text": [
            "Epoch 1/3:   5%|▌         | 107/1947 [57:00<16:11:40, 31.69s/it]"
          ]
        },
        {
          "output_type": "stream",
          "name": "stdout",
          "text": [
            "Warning: SAR image ROIs2017_winter_s1_21_p806.tif has 2 channels, but INPUT_NC is 3. Padding with zeros.\n",
            "Epoch [1/3], Step [106/1947]\n",
            "Loss_G: 5.7252 | Loss_G_GAN_A: 0.4199 | Loss_G_GAN_B: 0.7200\n",
            "Loss_cycle_SAR: 1.5229 | Loss_cycle_EO: 1.7614\n",
            "Loss_identity_A: 0.4919 | Loss_identity_B: 0.8091\n",
            "Loss_D_A: 0.2116 | Loss_D_B: 0.0424\n"
          ]
        },
        {
          "output_type": "stream",
          "name": "stderr",
          "text": [
            "Epoch 1/3:   6%|▌         | 108/1947 [57:32<16:10:27, 31.66s/it]"
          ]
        },
        {
          "output_type": "stream",
          "name": "stdout",
          "text": [
            "Warning: SAR image ROIs2017_winter_s1_8_p640.tif has 2 channels, but INPUT_NC is 3. Padding with zeros.\n",
            "Epoch [1/3], Step [107/1947]\n",
            "Loss_G: 7.8096 | Loss_G_GAN_A: 0.3458 | Loss_G_GAN_B: 0.7304\n",
            "Loss_cycle_SAR: 1.6734 | Loss_cycle_EO: 3.1108\n",
            "Loss_identity_A: 1.1145 | Loss_identity_B: 0.8346\n",
            "Loss_D_A: 0.1289 | Loss_D_B: 0.0406\n"
          ]
        },
        {
          "output_type": "stream",
          "name": "stderr",
          "text": [
            "Epoch 1/3:   6%|▌         | 109/1947 [58:04<16:14:08, 31.80s/it]"
          ]
        },
        {
          "output_type": "stream",
          "name": "stdout",
          "text": [
            "Warning: SAR image ROIs2017_winter_s1_22_p185.tif has 2 channels, but INPUT_NC is 3. Padding with zeros.\n",
            "Epoch [1/3], Step [108/1947]\n",
            "Loss_G: 7.0260 | Loss_G_GAN_A: 0.5034 | Loss_G_GAN_B: 1.4646\n",
            "Loss_cycle_SAR: 1.9410 | Loss_cycle_EO: 1.2491\n",
            "Loss_identity_A: 0.8667 | Loss_identity_B: 1.0011\n",
            "Loss_D_A: 0.1390 | Loss_D_B: 0.0497\n"
          ]
        },
        {
          "output_type": "stream",
          "name": "stderr",
          "text": [
            "Epoch 1/3:   6%|▌         | 110/1947 [58:35<16:08:42, 31.64s/it]"
          ]
        },
        {
          "output_type": "stream",
          "name": "stdout",
          "text": [
            "Warning: SAR image ROIs2017_winter_s1_8_p88.tif has 2 channels, but INPUT_NC is 3. Padding with zeros.\n",
            "Epoch [1/3], Step [109/1947]\n",
            "Loss_G: 7.6313 | Loss_G_GAN_A: 0.3398 | Loss_G_GAN_B: 0.8511\n",
            "Loss_cycle_SAR: 1.2502 | Loss_cycle_EO: 2.9529\n",
            "Loss_identity_A: 1.5554 | Loss_identity_B: 0.6817\n",
            "Loss_D_A: 0.1978 | Loss_D_B: 0.0212\n"
          ]
        },
        {
          "output_type": "stream",
          "name": "stderr",
          "text": [
            "Epoch 1/3:   6%|▌         | 111/1947 [59:09<16:29:16, 32.33s/it]"
          ]
        },
        {
          "output_type": "stream",
          "name": "stdout",
          "text": [
            "Warning: SAR image ROIs2017_winter_s1_21_p670.tif has 2 channels, but INPUT_NC is 3. Padding with zeros.\n",
            "Epoch [1/3], Step [110/1947]\n",
            "Loss_G: 6.1210 | Loss_G_GAN_A: 0.4519 | Loss_G_GAN_B: 0.2732\n",
            "Loss_cycle_SAR: 1.1754 | Loss_cycle_EO: 2.1586\n",
            "Loss_identity_A: 1.4672 | Loss_identity_B: 0.5947\n",
            "Loss_D_A: 0.1237 | Loss_D_B: 0.1443\n"
          ]
        },
        {
          "output_type": "stream",
          "name": "stderr",
          "text": [
            "Epoch 1/3:   6%|▌         | 112/1947 [59:43<16:39:35, 32.68s/it]"
          ]
        },
        {
          "output_type": "stream",
          "name": "stdout",
          "text": [
            "Warning: SAR image ROIs2017_winter_s1_22_p681.tif has 2 channels, but INPUT_NC is 3. Padding with zeros.\n",
            "Epoch [1/3], Step [111/1947]\n",
            "Loss_G: 3.9579 | Loss_G_GAN_A: 0.9117 | Loss_G_GAN_B: 0.5167\n",
            "Loss_cycle_SAR: 1.1589 | Loss_cycle_EO: 0.4156\n",
            "Loss_identity_A: 0.4100 | Loss_identity_B: 0.5450\n",
            "Loss_D_A: 0.1388 | Loss_D_B: 0.0938\n"
          ]
        },
        {
          "output_type": "stream",
          "name": "stderr",
          "text": [
            "Epoch 1/3:   6%|▌         | 113/1947 [1:00:16<16:41:46, 32.77s/it]"
          ]
        },
        {
          "output_type": "stream",
          "name": "stdout",
          "text": [
            "Warning: SAR image ROIs2017_winter_s1_8_p113.tif has 2 channels, but INPUT_NC is 3. Padding with zeros.\n",
            "Epoch [1/3], Step [112/1947]\n",
            "Loss_G: 4.6145 | Loss_G_GAN_A: 0.4495 | Loss_G_GAN_B: 1.2973\n",
            "Loss_cycle_SAR: 1.0818 | Loss_cycle_EO: 0.7490\n",
            "Loss_identity_A: 0.5112 | Loss_identity_B: 0.5257\n",
            "Loss_D_A: 0.1862 | Loss_D_B: 0.1262\n"
          ]
        },
        {
          "output_type": "stream",
          "name": "stderr",
          "text": [
            "Epoch 1/3:   6%|▌         | 114/1947 [1:00:48<16:38:13, 32.68s/it]"
          ]
        },
        {
          "output_type": "stream",
          "name": "stdout",
          "text": [
            "Warning: SAR image ROIs2017_winter_s1_8_p447.tif has 2 channels, but INPUT_NC is 3. Padding with zeros.\n",
            "Epoch [1/3], Step [113/1947]\n",
            "Loss_G: 7.5707 | Loss_G_GAN_A: 1.0950 | Loss_G_GAN_B: 0.9499\n",
            "Loss_cycle_SAR: 2.4768 | Loss_cycle_EO: 1.2966\n",
            "Loss_identity_A: 0.5503 | Loss_identity_B: 1.2022\n",
            "Loss_D_A: 0.1581 | Loss_D_B: 0.1938\n"
          ]
        },
        {
          "output_type": "stream",
          "name": "stderr",
          "text": [
            "Epoch 1/3:   6%|▌         | 115/1947 [1:01:23<16:55:45, 33.27s/it]"
          ]
        },
        {
          "output_type": "stream",
          "name": "stdout",
          "text": [
            "Warning: SAR image ROIs2017_winter_s1_8_p666.tif has 2 channels, but INPUT_NC is 3. Padding with zeros.\n",
            "Epoch [1/3], Step [114/1947]\n",
            "Loss_G: 7.5872 | Loss_G_GAN_A: 1.4029 | Loss_G_GAN_B: 0.9921\n",
            "Loss_cycle_SAR: 1.7206 | Loss_cycle_EO: 1.7545\n",
            "Loss_identity_A: 0.8825 | Loss_identity_B: 0.8346\n",
            "Loss_D_A: 0.0853 | Loss_D_B: 0.2106\n"
          ]
        },
        {
          "output_type": "stream",
          "name": "stderr",
          "text": [
            "Epoch 1/3:   6%|▌         | 116/1947 [1:01:56<16:59:08, 33.40s/it]"
          ]
        },
        {
          "output_type": "stream",
          "name": "stdout",
          "text": [
            "Warning: SAR image ROIs2017_winter_s1_22_p598.tif has 2 channels, but INPUT_NC is 3. Padding with zeros.\n",
            "Epoch [1/3], Step [115/1947]\n",
            "Loss_G: 5.6131 | Loss_G_GAN_A: 0.0293 | Loss_G_GAN_B: 0.7804\n",
            "Loss_cycle_SAR: 1.5962 | Loss_cycle_EO: 1.4012\n",
            "Loss_identity_A: 1.0518 | Loss_identity_B: 0.7542\n",
            "Loss_D_A: 0.4069 | Loss_D_B: 0.0591\n"
          ]
        },
        {
          "output_type": "stream",
          "name": "stderr",
          "text": [
            "Epoch 1/3:   6%|▌         | 117/1947 [1:02:27<16:37:19, 32.70s/it]"
          ]
        },
        {
          "output_type": "stream",
          "name": "stdout",
          "text": [
            "Warning: SAR image ROIs2017_winter_s1_8_p824.tif has 2 channels, but INPUT_NC is 3. Padding with zeros.\n",
            "Epoch [1/3], Step [116/1947]\n",
            "Loss_G: 4.9868 | Loss_G_GAN_A: 0.6012 | Loss_G_GAN_B: 0.7922\n",
            "Loss_cycle_SAR: 1.3430 | Loss_cycle_EO: 1.0331\n",
            "Loss_identity_A: 0.5605 | Loss_identity_B: 0.6569\n",
            "Loss_D_A: 0.1715 | Loss_D_B: 0.0354\n"
          ]
        },
        {
          "output_type": "stream",
          "name": "stderr",
          "text": [
            "Epoch 1/3:   6%|▌         | 118/1947 [1:03:00<16:31:55, 32.54s/it]"
          ]
        },
        {
          "output_type": "stream",
          "name": "stdout",
          "text": [
            "Warning: SAR image ROIs2017_winter_s1_8_p407.tif has 2 channels, but INPUT_NC is 3. Padding with zeros.\n",
            "Epoch [1/3], Step [117/1947]\n",
            "Loss_G: 5.2457 | Loss_G_GAN_A: 1.5647 | Loss_G_GAN_B: 0.3484\n",
            "Loss_cycle_SAR: 1.0741 | Loss_cycle_EO: 1.4262\n",
            "Loss_identity_A: 0.3088 | Loss_identity_B: 0.5234\n",
            "Loss_D_A: 0.2502 | Loss_D_B: 0.1246\n"
          ]
        },
        {
          "output_type": "stream",
          "name": "stderr",
          "text": [
            "Epoch 1/3:   6%|▌         | 119/1947 [1:03:31<16:20:45, 32.19s/it]"
          ]
        },
        {
          "output_type": "stream",
          "name": "stdout",
          "text": [
            "Warning: SAR image ROIs2017_winter_s1_21_p293.tif has 2 channels, but INPUT_NC is 3. Padding with zeros.\n",
            "Epoch [1/3], Step [118/1947]\n",
            "Loss_G: 3.7886 | Loss_G_GAN_A: 0.0946 | Loss_G_GAN_B: 0.6040\n",
            "Loss_cycle_SAR: 1.3277 | Loss_cycle_EO: 0.5849\n",
            "Loss_identity_A: 0.4491 | Loss_identity_B: 0.7283\n",
            "Loss_D_A: 0.2887 | Loss_D_B: 0.0845\n"
          ]
        },
        {
          "output_type": "stream",
          "name": "stderr",
          "text": [
            "Epoch 1/3:   6%|▌         | 120/1947 [1:04:04<16:25:54, 32.38s/it]"
          ]
        },
        {
          "output_type": "stream",
          "name": "stdout",
          "text": [
            "Warning: SAR image ROIs2017_winter_s1_8_p98.tif has 2 channels, but INPUT_NC is 3. Padding with zeros.\n",
            "Epoch [1/3], Step [119/1947]\n",
            "Loss_G: 5.4116 | Loss_G_GAN_A: 0.1655 | Loss_G_GAN_B: 0.8438\n",
            "Loss_cycle_SAR: 2.2256 | Loss_cycle_EO: 0.7357\n",
            "Loss_identity_A: 0.2761 | Loss_identity_B: 1.1649\n",
            "Loss_D_A: 0.2710 | Loss_D_B: 0.0681\n"
          ]
        },
        {
          "output_type": "stream",
          "name": "stderr",
          "text": [
            "Epoch 1/3:   6%|▌         | 121/1947 [1:04:35<16:17:46, 32.13s/it]"
          ]
        },
        {
          "output_type": "stream",
          "name": "stdout",
          "text": [
            "Warning: SAR image ROIs2017_winter_s1_8_p508.tif has 2 channels, but INPUT_NC is 3. Padding with zeros.\n",
            "Epoch [1/3], Step [120/1947]\n",
            "Loss_G: 6.7478 | Loss_G_GAN_A: 0.5896 | Loss_G_GAN_B: 0.9832\n",
            "Loss_cycle_SAR: 1.4029 | Loss_cycle_EO: 2.8627\n",
            "Loss_identity_A: 0.2382 | Loss_identity_B: 0.6712\n",
            "Loss_D_A: 0.2144 | Loss_D_B: 0.0743\n"
          ]
        },
        {
          "output_type": "stream",
          "name": "stderr",
          "text": [
            "Epoch 1/3:   6%|▋         | 122/1947 [1:05:07<16:11:07, 31.93s/it]"
          ]
        },
        {
          "output_type": "stream",
          "name": "stdout",
          "text": [
            "Warning: SAR image ROIs2017_winter_s1_21_p241.tif has 2 channels, but INPUT_NC is 3. Padding with zeros.\n",
            "Epoch [1/3], Step [121/1947]\n",
            "Loss_G: 4.1334 | Loss_G_GAN_A: 0.5287 | Loss_G_GAN_B: 0.2491\n",
            "Loss_cycle_SAR: 1.9832 | Loss_cycle_EO: 0.2865\n",
            "Loss_identity_A: 0.2157 | Loss_identity_B: 0.8702\n",
            "Loss_D_A: 0.1956 | Loss_D_B: 0.1649\n"
          ]
        },
        {
          "output_type": "stream",
          "name": "stderr",
          "text": [
            "Epoch 1/3:   6%|▋         | 123/1947 [1:05:39<16:09:13, 31.88s/it]"
          ]
        },
        {
          "output_type": "stream",
          "name": "stdout",
          "text": [
            "Warning: SAR image ROIs2017_winter_s1_8_p645.tif has 2 channels, but INPUT_NC is 3. Padding with zeros.\n",
            "Epoch [1/3], Step [122/1947]\n",
            "Loss_G: 6.0804 | Loss_G_GAN_A: 0.2906 | Loss_G_GAN_B: 1.0850\n",
            "Loss_cycle_SAR: 1.1636 | Loss_cycle_EO: 2.2161\n",
            "Loss_identity_A: 0.6941 | Loss_identity_B: 0.6310\n",
            "Loss_D_A: 0.2437 | Loss_D_B: 0.0818\n"
          ]
        },
        {
          "output_type": "stream",
          "name": "stderr",
          "text": [
            "Epoch 1/3:   6%|▋         | 124/1947 [1:06:10<16:03:56, 31.73s/it]"
          ]
        },
        {
          "output_type": "stream",
          "name": "stdout",
          "text": [
            "Warning: SAR image ROIs2017_winter_s1_8_p752.tif has 2 channels, but INPUT_NC is 3. Padding with zeros.\n",
            "Epoch [1/3], Step [123/1947]\n",
            "Loss_G: 3.9104 | Loss_G_GAN_A: 0.5608 | Loss_G_GAN_B: 0.6725\n",
            "Loss_cycle_SAR: 1.0853 | Loss_cycle_EO: 0.8125\n",
            "Loss_identity_A: 0.2330 | Loss_identity_B: 0.5463\n",
            "Loss_D_A: 0.1185 | Loss_D_B: 0.0556\n"
          ]
        },
        {
          "output_type": "stream",
          "name": "stderr",
          "text": [
            "Epoch 1/3:   6%|▋         | 125/1947 [1:06:44<16:23:49, 32.40s/it]"
          ]
        },
        {
          "output_type": "stream",
          "name": "stdout",
          "text": [
            "Warning: SAR image ROIs2017_winter_s1_8_p175.tif has 2 channels, but INPUT_NC is 3. Padding with zeros.\n",
            "Epoch [1/3], Step [124/1947]\n",
            "Loss_G: 4.5900 | Loss_G_GAN_A: 0.4048 | Loss_G_GAN_B: 0.7025\n",
            "Loss_cycle_SAR: 1.8799 | Loss_cycle_EO: 0.4597\n",
            "Loss_identity_A: 0.2280 | Loss_identity_B: 0.9150\n",
            "Loss_D_A: 0.1554 | Loss_D_B: 0.1223\n"
          ]
        },
        {
          "output_type": "stream",
          "name": "stderr",
          "text": [
            "Epoch 1/3:   6%|▋         | 126/1947 [1:07:17<16:26:56, 32.52s/it]"
          ]
        },
        {
          "output_type": "stream",
          "name": "stdout",
          "text": [
            "Warning: SAR image ROIs2017_winter_s1_22_p242.tif has 2 channels, but INPUT_NC is 3. Padding with zeros.\n",
            "Epoch [1/3], Step [125/1947]\n",
            "Loss_G: 6.1386 | Loss_G_GAN_A: 0.3698 | Loss_G_GAN_B: 1.2349\n",
            "Loss_cycle_SAR: 1.0712 | Loss_cycle_EO: 1.9801\n",
            "Loss_identity_A: 0.9184 | Loss_identity_B: 0.5642\n",
            "Loss_D_A: 0.3089 | Loss_D_B: 0.0402\n"
          ]
        },
        {
          "output_type": "stream",
          "name": "stderr",
          "text": [
            "Epoch 1/3:   7%|▋         | 127/1947 [1:07:48<16:14:12, 32.12s/it]"
          ]
        },
        {
          "output_type": "stream",
          "name": "stdout",
          "text": [
            "Warning: SAR image ROIs2017_winter_s1_22_p576.tif has 2 channels, but INPUT_NC is 3. Padding with zeros.\n",
            "Epoch [1/3], Step [126/1947]\n",
            "Loss_G: 3.6386 | Loss_G_GAN_A: 0.0953 | Loss_G_GAN_B: 0.5602\n",
            "Loss_cycle_SAR: 1.4221 | Loss_cycle_EO: 0.4642\n",
            "Loss_identity_A: 0.3616 | Loss_identity_B: 0.7352\n",
            "Loss_D_A: 0.2618 | Loss_D_B: 0.0776\n"
          ]
        },
        {
          "output_type": "stream",
          "name": "stderr",
          "text": [
            "Epoch 1/3:   7%|▋         | 128/1947 [1:08:20<16:09:36, 31.98s/it]"
          ]
        },
        {
          "output_type": "stream",
          "name": "stdout",
          "text": [
            "Warning: SAR image ROIs2017_winter_s1_22_p110.tif has 2 channels, but INPUT_NC is 3. Padding with zeros.\n",
            "Epoch [1/3], Step [127/1947]\n",
            "Loss_G: 4.3342 | Loss_G_GAN_A: 0.7608 | Loss_G_GAN_B: 0.7516\n",
            "Loss_cycle_SAR: 1.3563 | Loss_cycle_EO: 0.3999\n",
            "Loss_identity_A: 0.3865 | Loss_identity_B: 0.6792\n",
            "Loss_D_A: 0.3426 | Loss_D_B: 0.0753\n"
          ]
        },
        {
          "output_type": "stream",
          "name": "stderr",
          "text": [
            "Epoch 1/3:   7%|▋         | 129/1947 [1:08:56<16:45:07, 33.17s/it]"
          ]
        },
        {
          "output_type": "stream",
          "name": "stdout",
          "text": [
            "Warning: SAR image ROIs2017_winter_s1_8_p176.tif has 2 channels, but INPUT_NC is 3. Padding with zeros.\n",
            "Epoch [1/3], Step [128/1947]\n",
            "Loss_G: 5.7099 | Loss_G_GAN_A: 0.1689 | Loss_G_GAN_B: 1.0603\n",
            "Loss_cycle_SAR: 1.3241 | Loss_cycle_EO: 1.5157\n",
            "Loss_identity_A: 0.9681 | Loss_identity_B: 0.6728\n",
            "Loss_D_A: 0.4069 | Loss_D_B: 0.0867\n"
          ]
        },
        {
          "output_type": "stream",
          "name": "stderr",
          "text": [
            "Epoch 1/3:   7%|▋         | 130/1947 [1:09:28<16:36:40, 32.91s/it]"
          ]
        },
        {
          "output_type": "stream",
          "name": "stdout",
          "text": [
            "Warning: SAR image ROIs2017_winter_s1_22_p268.tif has 2 channels, but INPUT_NC is 3. Padding with zeros.\n",
            "Epoch [1/3], Step [129/1947]\n",
            "Loss_G: 3.9942 | Loss_G_GAN_A: 0.3666 | Loss_G_GAN_B: 0.7603\n",
            "Loss_cycle_SAR: 1.0456 | Loss_cycle_EO: 1.1816\n",
            "Loss_identity_A: 0.1601 | Loss_identity_B: 0.4799\n",
            "Loss_D_A: 0.3272 | Loss_D_B: 0.0482\n"
          ]
        },
        {
          "output_type": "stream",
          "name": "stderr",
          "text": [
            "Epoch 1/3:   7%|▋         | 131/1947 [1:10:00<16:27:44, 32.63s/it]"
          ]
        },
        {
          "output_type": "stream",
          "name": "stdout",
          "text": [
            "Warning: SAR image ROIs2017_winter_s1_22_p171.tif has 2 channels, but INPUT_NC is 3. Padding with zeros.\n",
            "Epoch [1/3], Step [130/1947]\n",
            "Loss_G: 4.7734 | Loss_G_GAN_A: 0.2340 | Loss_G_GAN_B: 1.1304\n",
            "Loss_cycle_SAR: 1.4882 | Loss_cycle_EO: 0.9815\n",
            "Loss_identity_A: 0.2214 | Loss_identity_B: 0.7178\n",
            "Loss_D_A: 0.2120 | Loss_D_B: 0.0501\n"
          ]
        },
        {
          "output_type": "stream",
          "name": "stderr",
          "text": [
            "Epoch 1/3:   7%|▋         | 132/1947 [1:10:34<16:37:56, 32.99s/it]"
          ]
        },
        {
          "output_type": "stream",
          "name": "stdout",
          "text": [
            "Warning: SAR image ROIs2017_winter_s1_22_p652.tif has 2 channels, but INPUT_NC is 3. Padding with zeros.\n",
            "Epoch [1/3], Step [131/1947]\n",
            "Loss_G: 3.6503 | Loss_G_GAN_A: 0.3533 | Loss_G_GAN_B: 0.8372\n",
            "Loss_cycle_SAR: 1.1491 | Loss_cycle_EO: 0.2732\n",
            "Loss_identity_A: 0.4620 | Loss_identity_B: 0.5756\n",
            "Loss_D_A: 0.2507 | Loss_D_B: 0.0206\n"
          ]
        },
        {
          "output_type": "stream",
          "name": "stderr",
          "text": [
            "Epoch 1/3:   7%|▋         | 133/1947 [1:11:06<16:35:03, 32.91s/it]"
          ]
        },
        {
          "output_type": "stream",
          "name": "stdout",
          "text": [
            "Warning: SAR image ROIs2017_winter_s1_22_p391.tif has 2 channels, but INPUT_NC is 3. Padding with zeros.\n",
            "Epoch [1/3], Step [132/1947]\n",
            "Loss_G: 4.5086 | Loss_G_GAN_A: 0.3086 | Loss_G_GAN_B: 0.3236\n",
            "Loss_cycle_SAR: 1.1641 | Loss_cycle_EO: 1.4811\n",
            "Loss_identity_A: 0.6254 | Loss_identity_B: 0.6057\n",
            "Loss_D_A: 0.1958 | Loss_D_B: 0.1436\n"
          ]
        },
        {
          "output_type": "stream",
          "name": "stderr",
          "text": [
            "Epoch 1/3:   7%|▋         | 134/1947 [1:11:38<16:22:00, 32.50s/it]"
          ]
        },
        {
          "output_type": "stream",
          "name": "stdout",
          "text": [
            "Warning: SAR image ROIs2017_winter_s1_8_p700.tif has 2 channels, but INPUT_NC is 3. Padding with zeros.\n",
            "Epoch [1/3], Step [133/1947]\n",
            "Loss_G: 7.0283 | Loss_G_GAN_A: 0.3677 | Loss_G_GAN_B: 0.6033\n",
            "Loss_cycle_SAR: 1.1056 | Loss_cycle_EO: 3.1717\n",
            "Loss_identity_A: 1.1971 | Loss_identity_B: 0.5830\n",
            "Loss_D_A: 0.1725 | Loss_D_B: 0.0551\n"
          ]
        },
        {
          "output_type": "stream",
          "name": "stderr",
          "text": [
            "Epoch 1/3:   7%|▋         | 135/1947 [1:12:09<16:12:04, 32.19s/it]"
          ]
        },
        {
          "output_type": "stream",
          "name": "stdout",
          "text": [
            "Warning: SAR image ROIs2017_winter_s1_22_p744.tif has 2 channels, but INPUT_NC is 3. Padding with zeros.\n",
            "Epoch [1/3], Step [134/1947]\n",
            "Loss_G: 5.3308 | Loss_G_GAN_A: 0.5016 | Loss_G_GAN_B: 1.4782\n",
            "Loss_cycle_SAR: 0.9901 | Loss_cycle_EO: 1.3631\n",
            "Loss_identity_A: 0.4746 | Loss_identity_B: 0.5231\n",
            "Loss_D_A: 0.1985 | Loss_D_B: 0.0737\n"
          ]
        },
        {
          "output_type": "stream",
          "name": "stderr",
          "text": [
            "Epoch 1/3:   7%|▋         | 136/1947 [1:12:42<16:13:37, 32.26s/it]"
          ]
        },
        {
          "output_type": "stream",
          "name": "stdout",
          "text": [
            "Warning: SAR image ROIs2017_winter_s1_22_p620.tif has 2 channels, but INPUT_NC is 3. Padding with zeros.\n",
            "Epoch [1/3], Step [135/1947]\n",
            "Loss_G: 7.6211 | Loss_G_GAN_A: 0.1427 | Loss_G_GAN_B: 0.7198\n",
            "Loss_cycle_SAR: 2.0419 | Loss_cycle_EO: 2.7035\n",
            "Loss_identity_A: 1.0051 | Loss_identity_B: 1.0080\n",
            "Loss_D_A: 0.2236 | Loss_D_B: 0.0420\n"
          ]
        },
        {
          "output_type": "stream",
          "name": "stderr",
          "text": [
            "Epoch 1/3:   7%|▋         | 137/1947 [1:13:15<16:22:42, 32.58s/it]"
          ]
        },
        {
          "output_type": "stream",
          "name": "stdout",
          "text": [
            "Warning: SAR image ROIs2017_winter_s1_8_p794.tif has 2 channels, but INPUT_NC is 3. Padding with zeros.\n",
            "Epoch [1/3], Step [136/1947]\n",
            "Loss_G: 5.5905 | Loss_G_GAN_A: 1.4537 | Loss_G_GAN_B: 0.6293\n",
            "Loss_cycle_SAR: 1.5627 | Loss_cycle_EO: 0.9360\n",
            "Loss_identity_A: 0.3027 | Loss_identity_B: 0.7061\n",
            "Loss_D_A: 0.3138 | Loss_D_B: 0.2229\n"
          ]
        },
        {
          "output_type": "stream",
          "name": "stderr",
          "text": [
            "Epoch 1/3:   7%|▋         | 138/1947 [1:13:47<16:11:47, 32.23s/it]"
          ]
        },
        {
          "output_type": "stream",
          "name": "stdout",
          "text": [
            "Warning: SAR image ROIs2017_winter_s1_22_p210.tif has 2 channels, but INPUT_NC is 3. Padding with zeros.\n",
            "Epoch [1/3], Step [137/1947]\n",
            "Loss_G: 3.2305 | Loss_G_GAN_A: 0.1126 | Loss_G_GAN_B: 0.1325\n",
            "Loss_cycle_SAR: 1.3607 | Loss_cycle_EO: 0.5913\n",
            "Loss_identity_A: 0.4165 | Loss_identity_B: 0.6169\n",
            "Loss_D_A: 0.2890 | Loss_D_B: 0.2539\n"
          ]
        },
        {
          "output_type": "stream",
          "name": "stderr",
          "text": [
            "Epoch 1/3:   7%|▋         | 139/1947 [1:14:17<15:57:08, 31.76s/it]"
          ]
        },
        {
          "output_type": "stream",
          "name": "stdout",
          "text": [
            "Warning: SAR image ROIs2017_winter_s1_22_p248.tif has 2 channels, but INPUT_NC is 3. Padding with zeros.\n",
            "Epoch [1/3], Step [138/1947]\n",
            "Loss_G: 5.7373 | Loss_G_GAN_A: 0.2006 | Loss_G_GAN_B: 0.8519\n",
            "Loss_cycle_SAR: 1.2429 | Loss_cycle_EO: 1.8815\n",
            "Loss_identity_A: 0.9825 | Loss_identity_B: 0.5780\n",
            "Loss_D_A: 0.2201 | Loss_D_B: 0.0835\n"
          ]
        },
        {
          "output_type": "stream",
          "name": "stderr",
          "text": [
            "Epoch 1/3:   7%|▋         | 140/1947 [1:14:50<16:01:52, 31.94s/it]"
          ]
        },
        {
          "output_type": "stream",
          "name": "stdout",
          "text": [
            "Warning: SAR image ROIs2017_winter_s1_21_p220.tif has 2 channels, but INPUT_NC is 3. Padding with zeros.\n",
            "Epoch [1/3], Step [139/1947]\n",
            "Loss_G: 5.3103 | Loss_G_GAN_A: 0.4675 | Loss_G_GAN_B: 1.0365\n",
            "Loss_cycle_SAR: 0.9663 | Loss_cycle_EO: 1.3568\n",
            "Loss_identity_A: 0.9874 | Loss_identity_B: 0.4958\n",
            "Loss_D_A: 0.1644 | Loss_D_B: 0.1718\n"
          ]
        },
        {
          "output_type": "stream",
          "name": "stderr",
          "text": [
            "Epoch 1/3:   7%|▋         | 141/1947 [1:15:21<15:58:19, 31.84s/it]"
          ]
        },
        {
          "output_type": "stream",
          "name": "stdout",
          "text": [
            "Warning: SAR image ROIs2017_winter_s1_22_p155.tif has 2 channels, but INPUT_NC is 3. Padding with zeros.\n",
            "Epoch [1/3], Step [140/1947]\n",
            "Loss_G: 5.3470 | Loss_G_GAN_A: 1.0335 | Loss_G_GAN_B: 0.5059\n",
            "Loss_cycle_SAR: 1.3400 | Loss_cycle_EO: 1.4084\n",
            "Loss_identity_A: 0.3744 | Loss_identity_B: 0.6848\n",
            "Loss_D_A: 0.2079 | Loss_D_B: 0.1389\n"
          ]
        },
        {
          "output_type": "stream",
          "name": "stderr",
          "text": [
            "Epoch 1/3:   7%|▋         | 142/1947 [1:15:54<16:03:53, 32.04s/it]"
          ]
        },
        {
          "output_type": "stream",
          "name": "stdout",
          "text": [
            "Warning: SAR image ROIs2017_winter_s1_22_p835.tif has 2 channels, but INPUT_NC is 3. Padding with zeros.\n",
            "Epoch [1/3], Step [141/1947]\n",
            "Loss_G: 4.2639 | Loss_G_GAN_A: 0.1369 | Loss_G_GAN_B: 0.6787\n",
            "Loss_cycle_SAR: 1.5649 | Loss_cycle_EO: 0.6717\n",
            "Loss_identity_A: 0.5199 | Loss_identity_B: 0.6919\n",
            "Loss_D_A: 0.2396 | Loss_D_B: 0.0574\n"
          ]
        },
        {
          "output_type": "stream",
          "name": "stderr",
          "text": [
            "Epoch 1/3:   7%|▋         | 143/1947 [1:16:25<15:54:32, 31.75s/it]"
          ]
        },
        {
          "output_type": "stream",
          "name": "stdout",
          "text": [
            "Warning: SAR image ROIs2017_winter_s1_21_p262.tif has 2 channels, but INPUT_NC is 3. Padding with zeros.\n",
            "Epoch [1/3], Step [142/1947]\n",
            "Loss_G: 7.6458 | Loss_G_GAN_A: 0.2498 | Loss_G_GAN_B: 1.4058\n",
            "Loss_cycle_SAR: 1.1995 | Loss_cycle_EO: 2.8754\n",
            "Loss_identity_A: 1.2984 | Loss_identity_B: 0.6170\n",
            "Loss_D_A: 0.1902 | Loss_D_B: 0.0862\n"
          ]
        },
        {
          "output_type": "stream",
          "name": "stderr",
          "text": [
            "Epoch 1/3:   7%|▋         | 144/1947 [1:16:57<15:54:45, 31.77s/it]"
          ]
        },
        {
          "output_type": "stream",
          "name": "stdout",
          "text": [
            "Warning: SAR image ROIs2017_winter_s1_22_p86.tif has 2 channels, but INPUT_NC is 3. Padding with zeros.\n",
            "Epoch [1/3], Step [143/1947]\n",
            "Loss_G: 6.2218 | Loss_G_GAN_A: 0.5152 | Loss_G_GAN_B: 0.6706\n",
            "Loss_cycle_SAR: 1.3912 | Loss_cycle_EO: 2.5795\n",
            "Loss_identity_A: 0.3320 | Loss_identity_B: 0.7333\n",
            "Loss_D_A: 0.1539 | Loss_D_B: 0.0353\n"
          ]
        },
        {
          "output_type": "stream",
          "name": "stderr",
          "text": [
            "Epoch 1/3:   7%|▋         | 145/1947 [1:17:28<15:52:05, 31.70s/it]"
          ]
        },
        {
          "output_type": "stream",
          "name": "stdout",
          "text": [
            "Warning: SAR image ROIs2017_winter_s1_8_p358.tif has 2 channels, but INPUT_NC is 3. Padding with zeros.\n",
            "Epoch [1/3], Step [144/1947]\n",
            "Loss_G: 4.1716 | Loss_G_GAN_A: 0.4432 | Loss_G_GAN_B: 0.2560\n",
            "Loss_cycle_SAR: 0.9810 | Loss_cycle_EO: 1.3746\n",
            "Loss_identity_A: 0.5713 | Loss_identity_B: 0.5455\n",
            "Loss_D_A: 0.1739 | Loss_D_B: 0.1524\n"
          ]
        },
        {
          "output_type": "stream",
          "name": "stderr",
          "text": [
            "Epoch 1/3:   7%|▋         | 146/1947 [1:18:00<15:56:13, 31.86s/it]"
          ]
        },
        {
          "output_type": "stream",
          "name": "stdout",
          "text": [
            "Warning: SAR image ROIs2017_winter_s1_8_p705.tif has 2 channels, but INPUT_NC is 3. Padding with zeros.\n",
            "Epoch [1/3], Step [145/1947]\n",
            "Loss_G: 4.4480 | Loss_G_GAN_A: 0.3030 | Loss_G_GAN_B: 1.2213\n",
            "Loss_cycle_SAR: 1.0312 | Loss_cycle_EO: 0.6626\n",
            "Loss_identity_A: 0.6268 | Loss_identity_B: 0.6031\n",
            "Loss_D_A: 0.1768 | Loss_D_B: 0.0708\n"
          ]
        },
        {
          "output_type": "stream",
          "name": "stderr",
          "text": [
            "Epoch 1/3:   8%|▊         | 147/1947 [1:18:32<15:55:29, 31.85s/it]"
          ]
        },
        {
          "output_type": "stream",
          "name": "stdout",
          "text": [
            "Warning: SAR image ROIs2017_winter_s1_22_p827.tif has 2 channels, but INPUT_NC is 3. Padding with zeros.\n",
            "Epoch [1/3], Step [146/1947]\n",
            "Loss_G: 5.5885 | Loss_G_GAN_A: 0.6822 | Loss_G_GAN_B: 0.7172\n",
            "Loss_cycle_SAR: 1.0134 | Loss_cycle_EO: 2.0111\n",
            "Loss_identity_A: 0.6259 | Loss_identity_B: 0.5387\n",
            "Loss_D_A: 0.1169 | Loss_D_B: 0.0466\n"
          ]
        },
        {
          "output_type": "stream",
          "name": "stderr",
          "text": [
            "Epoch 1/3:   8%|▊         | 148/1947 [1:19:05<16:05:01, 32.19s/it]"
          ]
        },
        {
          "output_type": "stream",
          "name": "stdout",
          "text": [
            "Warning: SAR image ROIs2017_winter_s1_8_p574.tif has 2 channels, but INPUT_NC is 3. Padding with zeros.\n",
            "Epoch [1/3], Step [147/1947]\n",
            "Loss_G: 5.5941 | Loss_G_GAN_A: 0.9587 | Loss_G_GAN_B: 0.9298\n",
            "Loss_cycle_SAR: 1.0586 | Loss_cycle_EO: 1.3153\n",
            "Loss_identity_A: 0.7974 | Loss_identity_B: 0.5343\n",
            "Loss_D_A: 0.0203 | Loss_D_B: 0.0263\n"
          ]
        },
        {
          "output_type": "stream",
          "name": "stderr",
          "text": [
            "Epoch 1/3:   8%|▊         | 149/1947 [1:19:36<15:56:28, 31.92s/it]"
          ]
        },
        {
          "output_type": "stream",
          "name": "stdout",
          "text": [
            "Warning: SAR image ROIs2017_winter_s1_21_p210.tif has 2 channels, but INPUT_NC is 3. Padding with zeros.\n",
            "Epoch [1/3], Step [148/1947]\n",
            "Loss_G: 6.3091 | Loss_G_GAN_A: 0.2329 | Loss_G_GAN_B: 0.9672\n",
            "Loss_cycle_SAR: 1.5054 | Loss_cycle_EO: 2.5425\n",
            "Loss_identity_A: 0.2958 | Loss_identity_B: 0.7653\n",
            "Loss_D_A: 0.1684 | Loss_D_B: 0.0194\n"
          ]
        },
        {
          "output_type": "stream",
          "name": "stderr",
          "text": [
            "Epoch 1/3:   8%|▊         | 150/1947 [1:20:08<15:54:01, 31.85s/it]"
          ]
        },
        {
          "output_type": "stream",
          "name": "stdout",
          "text": [
            "Warning: SAR image ROIs2017_winter_s1_22_p680.tif has 2 channels, but INPUT_NC is 3. Padding with zeros.\n",
            "Epoch [1/3], Step [149/1947]\n",
            "Loss_G: 4.9256 | Loss_G_GAN_A: 0.8995 | Loss_G_GAN_B: 1.1750\n",
            "Loss_cycle_SAR: 1.0912 | Loss_cycle_EO: 0.8970\n",
            "Loss_identity_A: 0.3135 | Loss_identity_B: 0.5495\n",
            "Loss_D_A: 0.2873 | Loss_D_B: 0.0142\n"
          ]
        },
        {
          "output_type": "stream",
          "name": "stderr",
          "text": [
            "Epoch 1/3:   8%|▊         | 151/1947 [1:20:42<16:14:55, 32.57s/it]"
          ]
        },
        {
          "output_type": "stream",
          "name": "stdout",
          "text": [
            "Warning: SAR image ROIs2017_winter_s1_8_p815.tif has 2 channels, but INPUT_NC is 3. Padding with zeros.\n",
            "Epoch [1/3], Step [150/1947]\n",
            "Loss_G: 3.6268 | Loss_G_GAN_A: 0.0558 | Loss_G_GAN_B: 0.4293\n",
            "Loss_cycle_SAR: 1.3769 | Loss_cycle_EO: 0.3686\n",
            "Loss_identity_A: 0.6824 | Loss_identity_B: 0.7137\n",
            "Loss_D_A: 0.5975 | Loss_D_B: 0.0762\n"
          ]
        },
        {
          "output_type": "stream",
          "name": "stderr",
          "text": [
            "Epoch 1/3:   8%|▊         | 152/1947 [1:21:14<16:09:24, 32.40s/it]"
          ]
        },
        {
          "output_type": "stream",
          "name": "stdout",
          "text": [
            "Warning: SAR image ROIs2017_winter_s1_8_p327.tif has 2 channels, but INPUT_NC is 3. Padding with zeros.\n",
            "Epoch [1/3], Step [151/1947]\n",
            "Loss_G: 6.1329 | Loss_G_GAN_A: 0.1915 | Loss_G_GAN_B: 0.9598\n",
            "Loss_cycle_SAR: 1.2488 | Loss_cycle_EO: 2.0988\n",
            "Loss_identity_A: 1.0007 | Loss_identity_B: 0.6333\n",
            "Loss_D_A: 0.3393 | Loss_D_B: 0.0403\n"
          ]
        },
        {
          "output_type": "stream",
          "name": "stderr",
          "text": [
            "Epoch 1/3:   8%|▊         | 153/1947 [1:21:46<15:57:32, 32.03s/it]"
          ]
        },
        {
          "output_type": "stream",
          "name": "stdout",
          "text": [
            "Warning: SAR image ROIs2017_winter_s1_8_p833.tif has 2 channels, but INPUT_NC is 3. Padding with zeros.\n",
            "Epoch [1/3], Step [152/1947]\n",
            "Loss_G: 9.0827 | Loss_G_GAN_A: 0.4957 | Loss_G_GAN_B: 0.8469\n",
            "Loss_cycle_SAR: 1.3861 | Loss_cycle_EO: 3.7472\n",
            "Loss_identity_A: 1.8664 | Loss_identity_B: 0.7404\n",
            "Loss_D_A: 0.5180 | Loss_D_B: 0.0483\n"
          ]
        },
        {
          "output_type": "stream",
          "name": "stderr",
          "text": [
            "Epoch 1/3:   8%|▊         | 154/1947 [1:22:17<15:52:55, 31.89s/it]"
          ]
        },
        {
          "output_type": "stream",
          "name": "stdout",
          "text": [
            "Warning: SAR image ROIs2017_winter_s1_22_p543.tif has 2 channels, but INPUT_NC is 3. Padding with zeros.\n",
            "Epoch [1/3], Step [153/1947]\n",
            "Loss_G: 6.1216 | Loss_G_GAN_A: 0.1783 | Loss_G_GAN_B: 0.6426\n",
            "Loss_cycle_SAR: 1.3865 | Loss_cycle_EO: 2.1525\n",
            "Loss_identity_A: 1.0780 | Loss_identity_B: 0.6836\n",
            "Loss_D_A: 0.2676 | Loss_D_B: 0.0536\n"
          ]
        },
        {
          "output_type": "stream",
          "name": "stderr",
          "text": [
            "Epoch 1/3:   8%|▊         | 155/1947 [1:22:49<15:55:00, 31.98s/it]"
          ]
        },
        {
          "output_type": "stream",
          "name": "stdout",
          "text": [
            "Warning: SAR image ROIs2017_winter_s1_8_p111.tif has 2 channels, but INPUT_NC is 3. Padding with zeros.\n",
            "Epoch [1/3], Step [154/1947]\n",
            "Loss_G: 5.6099 | Loss_G_GAN_A: 0.1933 | Loss_G_GAN_B: 0.6817\n",
            "Loss_cycle_SAR: 1.1920 | Loss_cycle_EO: 1.9131\n",
            "Loss_identity_A: 1.0299 | Loss_identity_B: 0.6000\n",
            "Loss_D_A: 0.2776 | Loss_D_B: 0.0421\n"
          ]
        },
        {
          "output_type": "stream",
          "name": "stderr",
          "text": [
            "Epoch 1/3:   8%|▊         | 156/1947 [1:23:22<15:59:27, 32.14s/it]"
          ]
        },
        {
          "output_type": "stream",
          "name": "stdout",
          "text": [
            "Warning: SAR image ROIs2017_winter_s1_22_p433.tif has 2 channels, but INPUT_NC is 3. Padding with zeros.\n",
            "Epoch [1/3], Step [155/1947]\n",
            "Loss_G: 7.0502 | Loss_G_GAN_A: 0.2855 | Loss_G_GAN_B: 0.8911\n",
            "Loss_cycle_SAR: 1.6394 | Loss_cycle_EO: 2.3316\n",
            "Loss_identity_A: 1.1095 | Loss_identity_B: 0.7930\n",
            "Loss_D_A: 0.2172 | Loss_D_B: 0.2202\n"
          ]
        },
        {
          "output_type": "stream",
          "name": "stderr",
          "text": [
            "Epoch 1/3:   8%|▊         | 157/1947 [1:23:55<16:07:52, 32.44s/it]"
          ]
        },
        {
          "output_type": "stream",
          "name": "stdout",
          "text": [
            "Warning: SAR image ROIs2017_winter_s1_8_p219.tif has 2 channels, but INPUT_NC is 3. Padding with zeros.\n",
            "Epoch [1/3], Step [156/1947]\n",
            "Loss_G: 4.6824 | Loss_G_GAN_A: 0.3701 | Loss_G_GAN_B: 0.6455\n",
            "Loss_cycle_SAR: 1.2471 | Loss_cycle_EO: 0.9435\n",
            "Loss_identity_A: 0.8849 | Loss_identity_B: 0.5913\n",
            "Loss_D_A: 0.2247 | Loss_D_B: 0.1736\n"
          ]
        },
        {
          "output_type": "stream",
          "name": "stderr",
          "text": [
            "Epoch 1/3:   8%|▊         | 158/1947 [1:24:26<15:53:40, 31.98s/it]"
          ]
        },
        {
          "output_type": "stream",
          "name": "stdout",
          "text": [
            "Warning: SAR image ROIs2017_winter_s1_21_p131.tif has 2 channels, but INPUT_NC is 3. Padding with zeros.\n",
            "Epoch [1/3], Step [157/1947]\n",
            "Loss_G: 3.7667 | Loss_G_GAN_A: 0.3223 | Loss_G_GAN_B: 0.4721\n",
            "Loss_cycle_SAR: 1.1896 | Loss_cycle_EO: 0.6561\n",
            "Loss_identity_A: 0.5734 | Loss_identity_B: 0.5533\n",
            "Loss_D_A: 0.1922 | Loss_D_B: 0.3306\n"
          ]
        },
        {
          "output_type": "stream",
          "name": "stderr",
          "text": [
            "Epoch 1/3:   8%|▊         | 159/1947 [1:25:00<16:10:24, 32.56s/it]"
          ]
        },
        {
          "output_type": "stream",
          "name": "stdout",
          "text": [
            "Warning: SAR image ROIs2017_winter_s1_22_p586.tif has 2 channels, but INPUT_NC is 3. Padding with zeros.\n",
            "Epoch [1/3], Step [158/1947]\n",
            "Loss_G: 4.1976 | Loss_G_GAN_A: 0.3694 | Loss_G_GAN_B: 1.1741\n",
            "Loss_cycle_SAR: 1.0533 | Loss_cycle_EO: 0.4927\n",
            "Loss_identity_A: 0.5917 | Loss_identity_B: 0.5164\n",
            "Loss_D_A: 0.1755 | Loss_D_B: 0.2560\n"
          ]
        },
        {
          "output_type": "stream",
          "name": "stderr",
          "text": [
            "Epoch 1/3:   8%|▊         | 160/1947 [1:25:32<16:09:01, 32.54s/it]"
          ]
        },
        {
          "output_type": "stream",
          "name": "stdout",
          "text": [
            "Warning: SAR image ROIs2017_winter_s1_22_p623.tif has 2 channels, but INPUT_NC is 3. Padding with zeros.\n",
            "Epoch [1/3], Step [159/1947]\n",
            "Loss_G: 5.7143 | Loss_G_GAN_A: 0.3998 | Loss_G_GAN_B: 0.4208\n",
            "Loss_cycle_SAR: 1.4921 | Loss_cycle_EO: 2.2519\n",
            "Loss_identity_A: 0.4305 | Loss_identity_B: 0.7191\n",
            "Loss_D_A: 0.1785 | Loss_D_B: 0.1018\n"
          ]
        },
        {
          "output_type": "stream",
          "name": "stderr",
          "text": [
            "Epoch 1/3:   8%|▊         | 161/1947 [1:26:05<16:06:28, 32.47s/it]"
          ]
        },
        {
          "output_type": "stream",
          "name": "stdout",
          "text": [
            "Warning: SAR image ROIs2017_winter_s1_21_p825.tif has 2 channels, but INPUT_NC is 3. Padding with zeros.\n",
            "Epoch [1/3], Step [160/1947]\n",
            "Loss_G: 3.9355 | Loss_G_GAN_A: 0.2722 | Loss_G_GAN_B: 1.1378\n",
            "Loss_cycle_SAR: 1.2441 | Loss_cycle_EO: 0.4906\n",
            "Loss_identity_A: 0.2037 | Loss_identity_B: 0.5870\n",
            "Loss_D_A: 0.1500 | Loss_D_B: 0.0280\n"
          ]
        },
        {
          "output_type": "stream",
          "name": "stderr",
          "text": [
            "Epoch 1/3:   8%|▊         | 162/1947 [1:26:37<16:03:43, 32.39s/it]"
          ]
        },
        {
          "output_type": "stream",
          "name": "stdout",
          "text": [
            "Warning: SAR image ROIs2017_winter_s1_22_p601.tif has 2 channels, but INPUT_NC is 3. Padding with zeros.\n",
            "Epoch [1/3], Step [161/1947]\n",
            "Loss_G: 5.7214 | Loss_G_GAN_A: 0.6462 | Loss_G_GAN_B: 1.0067\n",
            "Loss_cycle_SAR: 1.0495 | Loss_cycle_EO: 2.1629\n",
            "Loss_identity_A: 0.3120 | Loss_identity_B: 0.5440\n",
            "Loss_D_A: 0.2126 | Loss_D_B: 0.0220\n"
          ]
        },
        {
          "output_type": "stream",
          "name": "stderr",
          "text": [
            "Epoch 1/3:   8%|▊         | 163/1947 [1:27:10<16:07:41, 32.55s/it]"
          ]
        },
        {
          "output_type": "stream",
          "name": "stdout",
          "text": [
            "Warning: SAR image ROIs2017_winter_s1_8_p336.tif has 2 channels, but INPUT_NC is 3. Padding with zeros.\n",
            "Epoch [1/3], Step [162/1947]\n",
            "Loss_G: 5.0588 | Loss_G_GAN_A: 0.2198 | Loss_G_GAN_B: 0.7550\n",
            "Loss_cycle_SAR: 1.9244 | Loss_cycle_EO: 0.9788\n",
            "Loss_identity_A: 0.2244 | Loss_identity_B: 0.9564\n",
            "Loss_D_A: 0.1747 | Loss_D_B: 0.0382\n"
          ]
        },
        {
          "output_type": "stream",
          "name": "stderr",
          "text": [
            "Epoch 1/3:   8%|▊         | 164/1947 [1:27:41<16:00:15, 32.31s/it]"
          ]
        },
        {
          "output_type": "stream",
          "name": "stdout",
          "text": [
            "Warning: SAR image ROIs2017_winter_s1_8_p654.tif has 2 channels, but INPUT_NC is 3. Padding with zeros.\n",
            "Epoch [1/3], Step [163/1947]\n",
            "Loss_G: 5.1823 | Loss_G_GAN_A: 0.5685 | Loss_G_GAN_B: 1.1640\n",
            "Loss_cycle_SAR: 1.4714 | Loss_cycle_EO: 0.8749\n",
            "Loss_identity_A: 0.3960 | Loss_identity_B: 0.7075\n",
            "Loss_D_A: 0.1525 | Loss_D_B: 0.0481\n"
          ]
        },
        {
          "output_type": "stream",
          "name": "stderr",
          "text": [
            "Epoch 1/3:   8%|▊         | 165/1947 [1:28:13<15:53:41, 32.11s/it]"
          ]
        },
        {
          "output_type": "stream",
          "name": "stdout",
          "text": [
            "Warning: SAR image ROIs2017_winter_s1_22_p315.tif has 2 channels, but INPUT_NC is 3. Padding with zeros.\n",
            "Epoch [1/3], Step [164/1947]\n",
            "Loss_G: 6.3821 | Loss_G_GAN_A: 0.4172 | Loss_G_GAN_B: 0.4017\n",
            "Loss_cycle_SAR: 2.1395 | Loss_cycle_EO: 1.1750\n",
            "Loss_identity_A: 1.2403 | Loss_identity_B: 1.0085\n",
            "Loss_D_A: 0.1189 | Loss_D_B: 0.0981\n"
          ]
        },
        {
          "output_type": "stream",
          "name": "stderr",
          "text": [
            "Epoch 1/3:   9%|▊         | 166/1947 [1:28:45<15:49:47, 32.00s/it]"
          ]
        },
        {
          "output_type": "stream",
          "name": "stdout",
          "text": [
            "Warning: SAR image ROIs2017_winter_s1_8_p576.tif has 2 channels, but INPUT_NC is 3. Padding with zeros.\n",
            "Epoch [1/3], Step [165/1947]\n",
            "Loss_G: 6.2169 | Loss_G_GAN_A: 0.5119 | Loss_G_GAN_B: 1.0140\n",
            "Loss_cycle_SAR: 1.4540 | Loss_cycle_EO: 1.6932\n",
            "Loss_identity_A: 0.8723 | Loss_identity_B: 0.6716\n",
            "Loss_D_A: 0.0891 | Loss_D_B: 0.0230\n"
          ]
        },
        {
          "output_type": "stream",
          "name": "stderr",
          "text": [
            "Epoch 1/3:   9%|▊         | 167/1947 [1:29:16<15:41:46, 31.75s/it]"
          ]
        },
        {
          "output_type": "stream",
          "name": "stdout",
          "text": [
            "Warning: SAR image ROIs2017_winter_s1_8_p231.tif has 2 channels, but INPUT_NC is 3. Padding with zeros.\n",
            "Epoch [1/3], Step [166/1947]\n",
            "Loss_G: 5.0768 | Loss_G_GAN_A: 0.9325 | Loss_G_GAN_B: 0.7935\n",
            "Loss_cycle_SAR: 1.5151 | Loss_cycle_EO: 0.9541\n",
            "Loss_identity_A: 0.2073 | Loss_identity_B: 0.6741\n",
            "Loss_D_A: 0.2997 | Loss_D_B: 0.0413\n"
          ]
        },
        {
          "output_type": "stream",
          "name": "stderr",
          "text": [
            "Epoch 1/3:   9%|▊         | 168/1947 [1:29:50<16:04:39, 32.53s/it]"
          ]
        },
        {
          "output_type": "stream",
          "name": "stdout",
          "text": [
            "Warning: SAR image ROIs2017_winter_s1_21_p80.tif has 2 channels, but INPUT_NC is 3. Padding with zeros.\n",
            "Epoch [1/3], Step [167/1947]\n",
            "Loss_G: 3.1935 | Loss_G_GAN_A: 0.0279 | Loss_G_GAN_B: 0.6863\n",
            "Loss_cycle_SAR: 1.1236 | Loss_cycle_EO: 0.4924\n",
            "Loss_identity_A: 0.3401 | Loss_identity_B: 0.5231\n",
            "Loss_D_A: 0.4340 | Loss_D_B: 0.0462\n"
          ]
        },
        {
          "output_type": "stream",
          "name": "stderr",
          "text": [
            "Epoch 1/3:   9%|▊         | 169/1947 [1:30:22<15:57:05, 32.30s/it]"
          ]
        },
        {
          "output_type": "stream",
          "name": "stdout",
          "text": [
            "Warning: SAR image ROIs2017_winter_s1_8_p202.tif has 2 channels, but INPUT_NC is 3. Padding with zeros.\n",
            "Epoch [1/3], Step [168/1947]\n",
            "Loss_G: 4.8464 | Loss_G_GAN_A: 0.2157 | Loss_G_GAN_B: 0.9025\n",
            "Loss_cycle_SAR: 1.7659 | Loss_cycle_EO: 0.9813\n",
            "Loss_identity_A: 0.1304 | Loss_identity_B: 0.8506\n",
            "Loss_D_A: 0.2643 | Loss_D_B: 0.0388\n"
          ]
        },
        {
          "output_type": "stream",
          "name": "stderr",
          "text": [
            "Epoch 1/3:   9%|▊         | 170/1947 [1:30:53<15:46:52, 31.97s/it]"
          ]
        },
        {
          "output_type": "stream",
          "name": "stdout",
          "text": [
            "Warning: SAR image ROIs2017_winter_s1_21_p179.tif has 2 channels, but INPUT_NC is 3. Padding with zeros.\n",
            "Epoch [1/3], Step [169/1947]\n",
            "Loss_G: 6.8715 | Loss_G_GAN_A: 0.4175 | Loss_G_GAN_B: 0.7228\n",
            "Loss_cycle_SAR: 1.6298 | Loss_cycle_EO: 2.3548\n",
            "Loss_identity_A: 0.9342 | Loss_identity_B: 0.8124\n",
            "Loss_D_A: 0.2506 | Loss_D_B: 0.0366\n"
          ]
        },
        {
          "output_type": "stream",
          "name": "stderr",
          "text": [
            "Epoch 1/3:   9%|▉         | 171/1947 [1:31:25<15:42:02, 31.83s/it]"
          ]
        },
        {
          "output_type": "stream",
          "name": "stdout",
          "text": [
            "Warning: SAR image ROIs2017_winter_s1_8_p747.tif has 2 channels, but INPUT_NC is 3. Padding with zeros.\n",
            "Epoch [1/3], Step [170/1947]\n",
            "Loss_G: 3.9889 | Loss_G_GAN_A: 0.4248 | Loss_G_GAN_B: 0.8989\n",
            "Loss_cycle_SAR: 1.1925 | Loss_cycle_EO: 0.5435\n",
            "Loss_identity_A: 0.3342 | Loss_identity_B: 0.5951\n",
            "Loss_D_A: 0.2265 | Loss_D_B: 0.0143\n"
          ]
        },
        {
          "output_type": "stream",
          "name": "stderr",
          "text": [
            "Epoch 1/3:   9%|▉         | 172/1947 [1:31:57<15:47:24, 32.02s/it]"
          ]
        },
        {
          "output_type": "stream",
          "name": "stdout",
          "text": [
            "Warning: SAR image ROIs2017_winter_s1_22_p832.tif has 2 channels, but INPUT_NC is 3. Padding with zeros.\n",
            "Epoch [1/3], Step [171/1947]\n",
            "Loss_G: 5.3912 | Loss_G_GAN_A: 0.3123 | Loss_G_GAN_B: 1.0465\n",
            "Loss_cycle_SAR: 2.3442 | Loss_cycle_EO: 0.3974\n",
            "Loss_identity_A: 0.1420 | Loss_identity_B: 1.1488\n",
            "Loss_D_A: 0.1881 | Loss_D_B: 0.0202\n"
          ]
        },
        {
          "output_type": "stream",
          "name": "stderr",
          "text": [
            "Epoch 1/3:   9%|▉         | 173/1947 [1:32:30<15:51:09, 32.17s/it]"
          ]
        },
        {
          "output_type": "stream",
          "name": "stdout",
          "text": [
            "Warning: SAR image ROIs2017_winter_s1_8_p198.tif has 2 channels, but INPUT_NC is 3. Padding with zeros.\n",
            "Epoch [1/3], Step [172/1947]\n",
            "Loss_G: 4.6065 | Loss_G_GAN_A: 0.4344 | Loss_G_GAN_B: 0.7625\n",
            "Loss_cycle_SAR: 1.9409 | Loss_cycle_EO: 0.2821\n",
            "Loss_identity_A: 0.2554 | Loss_identity_B: 0.9312\n",
            "Loss_D_A: 0.1496 | Loss_D_B: 0.0208\n"
          ]
        },
        {
          "output_type": "stream",
          "name": "stderr",
          "text": [
            "Epoch 1/3:   9%|▉         | 174/1947 [1:33:01<15:45:23, 31.99s/it]"
          ]
        },
        {
          "output_type": "stream",
          "name": "stdout",
          "text": [
            "Warning: SAR image ROIs2017_winter_s1_21_p46.tif has 2 channels, but INPUT_NC is 3. Padding with zeros.\n",
            "Epoch [1/3], Step [173/1947]\n",
            "Loss_G: 3.8833 | Loss_G_GAN_A: 0.4595 | Loss_G_GAN_B: 0.8400\n",
            "Loss_cycle_SAR: 1.2266 | Loss_cycle_EO: 0.6055\n",
            "Loss_identity_A: 0.1616 | Loss_identity_B: 0.5902\n",
            "Loss_D_A: 0.1336 | Loss_D_B: 0.0274\n"
          ]
        },
        {
          "output_type": "stream",
          "name": "stderr",
          "text": [
            "Epoch 1/3:   9%|▉         | 175/1947 [1:33:33<15:40:15, 31.84s/it]"
          ]
        },
        {
          "output_type": "stream",
          "name": "stdout",
          "text": [
            "Warning: SAR image ROIs2017_winter_s1_8_p606.tif has 2 channels, but INPUT_NC is 3. Padding with zeros.\n",
            "Epoch [1/3], Step [174/1947]\n",
            "Loss_G: 3.7022 | Loss_G_GAN_A: 0.6538 | Loss_G_GAN_B: 0.5429\n",
            "Loss_cycle_SAR: 1.3042 | Loss_cycle_EO: 0.4992\n",
            "Loss_identity_A: 0.1268 | Loss_identity_B: 0.5753\n",
            "Loss_D_A: 0.1682 | Loss_D_B: 0.0742\n"
          ]
        },
        {
          "output_type": "stream",
          "name": "stderr",
          "text": [
            "Epoch 1/3:   9%|▉         | 176/1947 [1:34:05<15:41:52, 31.91s/it]"
          ]
        },
        {
          "output_type": "stream",
          "name": "stdout",
          "text": [
            "Warning: SAR image ROIs2017_winter_s1_22_p633.tif has 2 channels, but INPUT_NC is 3. Padding with zeros.\n",
            "Epoch [1/3], Step [175/1947]\n",
            "Loss_G: 6.8251 | Loss_G_GAN_A: 0.2772 | Loss_G_GAN_B: 1.2508\n",
            "Loss_cycle_SAR: 1.4673 | Loss_cycle_EO: 2.4024\n",
            "Loss_identity_A: 0.7294 | Loss_identity_B: 0.6979\n",
            "Loss_D_A: 0.1453 | Loss_D_B: 0.0501\n"
          ]
        },
        {
          "output_type": "stream",
          "name": "stderr",
          "text": [
            "Epoch 1/3:   9%|▉         | 177/1947 [1:34:37<15:39:34, 31.85s/it]"
          ]
        },
        {
          "output_type": "stream",
          "name": "stdout",
          "text": [
            "Warning: SAR image ROIs2017_winter_s1_8_p402.tif has 2 channels, but INPUT_NC is 3. Padding with zeros.\n",
            "Epoch [1/3], Step [176/1947]\n",
            "Loss_G: 6.9380 | Loss_G_GAN_A: 0.5816 | Loss_G_GAN_B: 1.2898\n",
            "Loss_cycle_SAR: 1.3744 | Loss_cycle_EO: 2.0616\n",
            "Loss_identity_A: 0.8829 | Loss_identity_B: 0.7478\n",
            "Loss_D_A: 0.1153 | Loss_D_B: 0.0397\n"
          ]
        },
        {
          "output_type": "stream",
          "name": "stderr",
          "text": [
            "Epoch 1/3:   9%|▉         | 178/1947 [1:35:09<15:42:59, 31.98s/it]"
          ]
        },
        {
          "output_type": "stream",
          "name": "stdout",
          "text": [
            "Warning: SAR image ROIs2017_winter_s1_8_p224.tif has 2 channels, but INPUT_NC is 3. Padding with zeros.\n",
            "Epoch [1/3], Step [177/1947]\n",
            "Loss_G: 4.9674 | Loss_G_GAN_A: 1.0054 | Loss_G_GAN_B: 0.5087\n",
            "Loss_cycle_SAR: 1.5384 | Loss_cycle_EO: 0.7818\n",
            "Loss_identity_A: 0.4469 | Loss_identity_B: 0.6861\n",
            "Loss_D_A: 0.1234 | Loss_D_B: 0.0655\n"
          ]
        },
        {
          "output_type": "stream",
          "name": "stderr",
          "text": [
            "Epoch 1/3:   9%|▉         | 179/1947 [1:35:40<15:38:30, 31.85s/it]"
          ]
        },
        {
          "output_type": "stream",
          "name": "stdout",
          "text": [
            "Warning: SAR image ROIs2017_winter_s1_21_p134.tif has 2 channels, but INPUT_NC is 3. Padding with zeros.\n",
            "Epoch [1/3], Step [178/1947]\n",
            "Loss_G: 6.4162 | Loss_G_GAN_A: 0.3432 | Loss_G_GAN_B: 1.2486\n",
            "Loss_cycle_SAR: 1.2793 | Loss_cycle_EO: 2.2211\n",
            "Loss_identity_A: 0.6028 | Loss_identity_B: 0.7212\n",
            "Loss_D_A: 0.1560 | Loss_D_B: 0.0286\n"
          ]
        },
        {
          "output_type": "stream",
          "name": "stderr",
          "text": [
            "Epoch 1/3:   9%|▉         | 180/1947 [1:36:11<15:30:11, 31.59s/it]"
          ]
        },
        {
          "output_type": "stream",
          "name": "stdout",
          "text": [
            "Warning: SAR image ROIs2017_winter_s1_21_p152.tif has 2 channels, but INPUT_NC is 3. Padding with zeros.\n",
            "Epoch [1/3], Step [179/1947]\n",
            "Loss_G: 3.9979 | Loss_G_GAN_A: 0.4267 | Loss_G_GAN_B: 1.1499\n",
            "Loss_cycle_SAR: 1.0647 | Loss_cycle_EO: 0.7433\n",
            "Loss_identity_A: 0.1351 | Loss_identity_B: 0.4781\n",
            "Loss_D_A: 0.0942 | Loss_D_B: 0.0160\n"
          ]
        },
        {
          "output_type": "stream",
          "name": "stderr",
          "text": [
            "Epoch 1/3:   9%|▉         | 181/1947 [1:36:43<15:25:36, 31.45s/it]"
          ]
        },
        {
          "output_type": "stream",
          "name": "stdout",
          "text": [
            "Warning: SAR image ROIs2017_winter_s1_8_p479.tif has 2 channels, but INPUT_NC is 3. Padding with zeros.\n",
            "Epoch [1/3], Step [180/1947]\n",
            "Loss_G: 5.7930 | Loss_G_GAN_A: 1.9016 | Loss_G_GAN_B: 0.8737\n",
            "Loss_cycle_SAR: 1.4496 | Loss_cycle_EO: 0.7175\n",
            "Loss_identity_A: 0.1655 | Loss_identity_B: 0.6851\n",
            "Loss_D_A: 0.5228 | Loss_D_B: 0.0157\n"
          ]
        },
        {
          "output_type": "stream",
          "name": "stderr",
          "text": [
            "Epoch 1/3:   9%|▉         | 182/1947 [1:37:14<15:29:00, 31.58s/it]"
          ]
        },
        {
          "output_type": "stream",
          "name": "stdout",
          "text": [
            "Warning: SAR image ROIs2017_winter_s1_8_p790.tif has 2 channels, but INPUT_NC is 3. Padding with zeros.\n",
            "Epoch [1/3], Step [181/1947]\n",
            "Loss_G: 4.1329 | Loss_G_GAN_A: 0.1146 | Loss_G_GAN_B: 0.4535\n",
            "Loss_cycle_SAR: 2.0278 | Loss_cycle_EO: 0.3590\n",
            "Loss_identity_A: 0.2378 | Loss_identity_B: 0.9401\n",
            "Loss_D_A: 0.6571 | Loss_D_B: 0.0710\n"
          ]
        },
        {
          "output_type": "stream",
          "name": "stderr",
          "text": [
            "Epoch 1/3:   9%|▉         | 183/1947 [1:37:46<15:30:40, 31.66s/it]"
          ]
        },
        {
          "output_type": "stream",
          "name": "stdout",
          "text": [
            "Warning: SAR image ROIs2017_winter_s1_8_p397.tif has 2 channels, but INPUT_NC is 3. Padding with zeros.\n",
            "Epoch [1/3], Step [182/1947]\n",
            "Loss_G: 4.3123 | Loss_G_GAN_A: 0.3209 | Loss_G_GAN_B: 0.7936\n",
            "Loss_cycle_SAR: 1.5206 | Loss_cycle_EO: 0.6885\n",
            "Loss_identity_A: 0.2664 | Loss_identity_B: 0.7222\n",
            "Loss_D_A: 0.2212 | Loss_D_B: 0.0448\n"
          ]
        },
        {
          "output_type": "stream",
          "name": "stderr",
          "text": [
            "Epoch 1/3:   9%|▉         | 184/1947 [1:38:17<15:24:09, 31.45s/it]"
          ]
        },
        {
          "output_type": "stream",
          "name": "stdout",
          "text": [
            "Warning: SAR image ROIs2017_winter_s1_21_p340.tif has 2 channels, but INPUT_NC is 3. Padding with zeros.\n",
            "Epoch [1/3], Step [183/1947]\n",
            "Loss_G: 8.4733 | Loss_G_GAN_A: 0.9733 | Loss_G_GAN_B: 1.7922\n",
            "Loss_cycle_SAR: 1.1732 | Loss_cycle_EO: 2.8940\n",
            "Loss_identity_A: 1.0994 | Loss_identity_B: 0.5411\n",
            "Loss_D_A: 0.1123 | Loss_D_B: 0.1455\n"
          ]
        },
        {
          "output_type": "stream",
          "name": "stderr",
          "text": [
            "Epoch 1/3:  10%|▉         | 185/1947 [1:38:50<15:31:29, 31.72s/it]"
          ]
        },
        {
          "output_type": "stream",
          "name": "stdout",
          "text": [
            "Warning: SAR image ROIs2017_winter_s1_8_p788.tif has 2 channels, but INPUT_NC is 3. Padding with zeros.\n",
            "Epoch [1/3], Step [184/1947]\n",
            "Loss_G: 5.1266 | Loss_G_GAN_A: 0.6867 | Loss_G_GAN_B: 0.5191\n",
            "Loss_cycle_SAR: 1.5132 | Loss_cycle_EO: 1.1355\n",
            "Loss_identity_A: 0.4685 | Loss_identity_B: 0.8036\n",
            "Loss_D_A: 0.1055 | Loss_D_B: 0.0604\n"
          ]
        },
        {
          "output_type": "stream",
          "name": "stderr",
          "text": [
            "Epoch 1/3:  10%|▉         | 186/1947 [1:39:21<15:27:11, 31.59s/it]"
          ]
        },
        {
          "output_type": "stream",
          "name": "stdout",
          "text": [
            "Warning: SAR image ROIs2017_winter_s1_8_p453.tif has 2 channels, but INPUT_NC is 3. Padding with zeros.\n",
            "Epoch [1/3], Step [185/1947]\n",
            "Loss_G: 5.7097 | Loss_G_GAN_A: 0.4680 | Loss_G_GAN_B: 0.4022\n",
            "Loss_cycle_SAR: 1.4816 | Loss_cycle_EO: 1.9476\n",
            "Loss_identity_A: 0.7846 | Loss_identity_B: 0.6257\n",
            "Loss_D_A: 0.1075 | Loss_D_B: 0.1370\n"
          ]
        },
        {
          "output_type": "stream",
          "name": "stderr",
          "text": [
            "Epoch 1/3:  10%|▉         | 187/1947 [1:39:54<15:43:17, 32.16s/it]"
          ]
        },
        {
          "output_type": "stream",
          "name": "stdout",
          "text": [
            "Warning: SAR image ROIs2017_winter_s1_8_p817.tif has 2 channels, but INPUT_NC is 3. Padding with zeros.\n",
            "Epoch [1/3], Step [186/1947]\n",
            "Loss_G: 5.6588 | Loss_G_GAN_A: 0.2954 | Loss_G_GAN_B: 0.3151\n",
            "Loss_cycle_SAR: 2.1840 | Loss_cycle_EO: 1.4402\n",
            "Loss_identity_A: 0.4119 | Loss_identity_B: 1.0122\n",
            "Loss_D_A: 0.1362 | Loss_D_B: 0.1269\n"
          ]
        },
        {
          "output_type": "stream",
          "name": "stderr",
          "text": [
            "Epoch 1/3:  10%|▉         | 188/1947 [1:40:26<15:38:40, 32.02s/it]"
          ]
        },
        {
          "output_type": "stream",
          "name": "stdout",
          "text": [
            "Warning: SAR image ROIs2017_winter_s1_21_p820.tif has 2 channels, but INPUT_NC is 3. Padding with zeros.\n",
            "Epoch [1/3], Step [187/1947]\n",
            "Loss_G: 5.0285 | Loss_G_GAN_A: 0.5721 | Loss_G_GAN_B: 1.4469\n",
            "Loss_cycle_SAR: 1.0943 | Loss_cycle_EO: 1.0656\n",
            "Loss_identity_A: 0.2846 | Loss_identity_B: 0.5651\n",
            "Loss_D_A: 0.1978 | Loss_D_B: 0.0736\n"
          ]
        },
        {
          "output_type": "stream",
          "name": "stderr",
          "text": [
            "Epoch 1/3:  10%|▉         | 189/1947 [1:40:58<15:34:58, 31.91s/it]"
          ]
        },
        {
          "output_type": "stream",
          "name": "stdout",
          "text": [
            "Warning: SAR image ROIs2017_winter_s1_8_p753.tif has 2 channels, but INPUT_NC is 3. Padding with zeros.\n",
            "Epoch [1/3], Step [188/1947]\n",
            "Loss_G: 6.3576 | Loss_G_GAN_A: 0.4382 | Loss_G_GAN_B: 1.5146\n",
            "Loss_cycle_SAR: 1.1810 | Loss_cycle_EO: 1.8988\n",
            "Loss_identity_A: 0.7626 | Loss_identity_B: 0.5624\n",
            "Loss_D_A: 0.1285 | Loss_D_B: 0.0574\n"
          ]
        },
        {
          "output_type": "stream",
          "name": "stderr",
          "text": [
            "Epoch 1/3:  10%|▉         | 190/1947 [1:41:29<15:32:19, 31.84s/it]"
          ]
        },
        {
          "output_type": "stream",
          "name": "stdout",
          "text": [
            "Warning: SAR image ROIs2017_winter_s1_22_p216.tif has 2 channels, but INPUT_NC is 3. Padding with zeros.\n",
            "Epoch [1/3], Step [189/1947]\n",
            "Loss_G: 4.4141 | Loss_G_GAN_A: 0.3280 | Loss_G_GAN_B: 0.8317\n",
            "Loss_cycle_SAR: 1.2150 | Loss_cycle_EO: 1.2072\n",
            "Loss_identity_A: 0.2134 | Loss_identity_B: 0.6188\n",
            "Loss_D_A: 0.1808 | Loss_D_B: 0.0357\n"
          ]
        },
        {
          "output_type": "stream",
          "name": "stderr",
          "text": [
            "Epoch 1/3:  10%|▉         | 191/1947 [1:42:03<15:45:15, 32.30s/it]"
          ]
        },
        {
          "output_type": "stream",
          "name": "stdout",
          "text": [
            "Warning: SAR image ROIs2017_winter_s1_21_p443.tif has 2 channels, but INPUT_NC is 3. Padding with zeros.\n",
            "Epoch [1/3], Step [190/1947]\n",
            "Loss_G: 8.3416 | Loss_G_GAN_A: 0.1667 | Loss_G_GAN_B: 0.6060\n",
            "Loss_cycle_SAR: 1.1586 | Loss_cycle_EO: 3.8151\n",
            "Loss_identity_A: 1.9438 | Loss_identity_B: 0.6515\n",
            "Loss_D_A: 0.2906 | Loss_D_B: 0.0668\n"
          ]
        },
        {
          "output_type": "stream",
          "name": "stderr",
          "text": [
            "Epoch 1/3:  10%|▉         | 192/1947 [1:42:35<15:46:04, 32.34s/it]"
          ]
        },
        {
          "output_type": "stream",
          "name": "stdout",
          "text": [
            "Warning: SAR image ROIs2017_winter_s1_8_p728.tif has 2 channels, but INPUT_NC is 3. Padding with zeros.\n",
            "Epoch [1/3], Step [191/1947]\n",
            "Loss_G: 6.1056 | Loss_G_GAN_A: 0.5052 | Loss_G_GAN_B: 0.9303\n",
            "Loss_cycle_SAR: 1.1144 | Loss_cycle_EO: 1.9184\n",
            "Loss_identity_A: 1.0439 | Loss_identity_B: 0.5935\n",
            "Loss_D_A: 0.3024 | Loss_D_B: 0.0366\n"
          ]
        },
        {
          "output_type": "stream",
          "name": "stderr",
          "text": [
            "Epoch 1/3:  10%|▉         | 193/1947 [1:43:07<15:44:05, 32.29s/it]"
          ]
        },
        {
          "output_type": "stream",
          "name": "stdout",
          "text": [
            "Warning: SAR image ROIs2017_winter_s1_8_p118.tif has 2 channels, but INPUT_NC is 3. Padding with zeros.\n",
            "Epoch [1/3], Step [192/1947]\n",
            "Loss_G: 7.8457 | Loss_G_GAN_A: 0.0944 | Loss_G_GAN_B: 0.5926\n",
            "Loss_cycle_SAR: 1.3364 | Loss_cycle_EO: 3.2274\n",
            "Loss_identity_A: 1.8834 | Loss_identity_B: 0.7115\n",
            "Loss_D_A: 0.2841 | Loss_D_B: 0.1515\n"
          ]
        },
        {
          "output_type": "stream",
          "name": "stderr",
          "text": [
            "Epoch 1/3:  10%|▉         | 194/1947 [1:43:40<15:42:04, 32.24s/it]"
          ]
        },
        {
          "output_type": "stream",
          "name": "stdout",
          "text": [
            "Warning: SAR image ROIs2017_winter_s1_21_p55.tif has 2 channels, but INPUT_NC is 3. Padding with zeros.\n",
            "Epoch [1/3], Step [193/1947]\n",
            "Loss_G: 4.9627 | Loss_G_GAN_A: 0.7373 | Loss_G_GAN_B: 0.9795\n",
            "Loss_cycle_SAR: 1.1429 | Loss_cycle_EO: 1.0425\n",
            "Loss_identity_A: 0.4936 | Loss_identity_B: 0.5669\n",
            "Loss_D_A: 0.2726 | Loss_D_B: 0.1613\n"
          ]
        },
        {
          "output_type": "stream",
          "name": "stderr",
          "text": [
            "Epoch 1/3:  10%|█         | 195/1947 [1:44:12<15:41:36, 32.25s/it]"
          ]
        },
        {
          "output_type": "stream",
          "name": "stdout",
          "text": [
            "Warning: SAR image ROIs2017_winter_s1_22_p447.tif has 2 channels, but INPUT_NC is 3. Padding with zeros.\n",
            "Epoch [1/3], Step [194/1947]\n",
            "Loss_G: 3.6849 | Loss_G_GAN_A: 0.2566 | Loss_G_GAN_B: 0.4748\n",
            "Loss_cycle_SAR: 1.0250 | Loss_cycle_EO: 0.5012\n",
            "Loss_identity_A: 0.9662 | Loss_identity_B: 0.4611\n",
            "Loss_D_A: 0.1895 | Loss_D_B: 0.1077\n"
          ]
        },
        {
          "output_type": "stream",
          "name": "stderr",
          "text": [
            "Epoch 1/3:  10%|█         | 196/1947 [1:44:46<15:54:51, 32.72s/it]"
          ]
        },
        {
          "output_type": "stream",
          "name": "stdout",
          "text": [
            "Warning: SAR image ROIs2017_winter_s1_22_p249.tif has 2 channels, but INPUT_NC is 3. Padding with zeros.\n",
            "Epoch [1/3], Step [195/1947]\n",
            "Loss_G: 3.2461 | Loss_G_GAN_A: 0.2803 | Loss_G_GAN_B: 0.5575\n",
            "Loss_cycle_SAR: 1.0201 | Loss_cycle_EO: 0.3285\n",
            "Loss_identity_A: 0.4979 | Loss_identity_B: 0.5617\n",
            "Loss_D_A: 0.2069 | Loss_D_B: 0.1136\n"
          ]
        },
        {
          "output_type": "stream",
          "name": "stderr",
          "text": [
            "Epoch 1/3:  10%|█         | 197/1947 [1:45:17<15:45:31, 32.42s/it]"
          ]
        },
        {
          "output_type": "stream",
          "name": "stdout",
          "text": [
            "Warning: SAR image ROIs2017_winter_s1_21_p266.tif has 2 channels, but INPUT_NC is 3. Padding with zeros.\n",
            "Epoch [1/3], Step [196/1947]\n",
            "Loss_G: 4.2524 | Loss_G_GAN_A: 0.3735 | Loss_G_GAN_B: 0.5287\n",
            "Loss_cycle_SAR: 1.5605 | Loss_cycle_EO: 0.6552\n",
            "Loss_identity_A: 0.3868 | Loss_identity_B: 0.7478\n",
            "Loss_D_A: 0.1715 | Loss_D_B: 0.0738\n"
          ]
        },
        {
          "output_type": "stream",
          "name": "stderr",
          "text": [
            "Epoch 1/3:  10%|█         | 198/1947 [1:45:50<15:44:18, 32.39s/it]"
          ]
        },
        {
          "output_type": "stream",
          "name": "stdout",
          "text": [
            "Warning: SAR image ROIs2017_winter_s1_8_p394.tif has 2 channels, but INPUT_NC is 3. Padding with zeros.\n",
            "Epoch [1/3], Step [197/1947]\n",
            "Loss_G: 5.8480 | Loss_G_GAN_A: 0.4587 | Loss_G_GAN_B: 1.9408\n",
            "Loss_cycle_SAR: 1.2122 | Loss_cycle_EO: 0.9582\n",
            "Loss_identity_A: 0.7449 | Loss_identity_B: 0.5332\n",
            "Loss_D_A: 0.1175 | Loss_D_B: 0.4776\n"
          ]
        },
        {
          "output_type": "stream",
          "name": "stderr",
          "text": [
            "Epoch 1/3:  10%|█         | 199/1947 [1:46:22<15:44:15, 32.41s/it]"
          ]
        },
        {
          "output_type": "stream",
          "name": "stdout",
          "text": [
            "Warning: SAR image ROIs2017_winter_s1_8_p677.tif has 2 channels, but INPUT_NC is 3. Padding with zeros.\n",
            "Epoch [1/3], Step [198/1947]\n",
            "Loss_G: 4.5744 | Loss_G_GAN_A: 0.6687 | Loss_G_GAN_B: 0.4743\n",
            "Loss_cycle_SAR: 0.9536 | Loss_cycle_EO: 1.3563\n",
            "Loss_identity_A: 0.6416 | Loss_identity_B: 0.4798\n",
            "Loss_D_A: 0.1226 | Loss_D_B: 0.1367\n"
          ]
        },
        {
          "output_type": "stream",
          "name": "stderr",
          "text": [
            "Epoch 1/3:  10%|█         | 200/1947 [1:46:55<15:47:09, 32.53s/it]"
          ]
        },
        {
          "output_type": "stream",
          "name": "stdout",
          "text": [
            "Warning: SAR image ROIs2017_winter_s1_21_p679.tif has 2 channels, but INPUT_NC is 3. Padding with zeros.\n",
            "Epoch [1/3], Step [199/1947]\n",
            "Loss_G: 2.9693 | Loss_G_GAN_A: 0.0550 | Loss_G_GAN_B: 0.5462\n",
            "Loss_cycle_SAR: 1.1156 | Loss_cycle_EO: 0.3267\n",
            "Loss_identity_A: 0.3887 | Loss_identity_B: 0.5372\n",
            "Loss_D_A: 0.3199 | Loss_D_B: 0.0621\n"
          ]
        },
        {
          "output_type": "stream",
          "name": "stderr",
          "text": [
            "Epoch 1/3:  10%|█         | 201/1947 [1:47:27<15:39:21, 32.28s/it]"
          ]
        },
        {
          "output_type": "stream",
          "name": "stdout",
          "text": [
            "Warning: SAR image ROIs2017_winter_s1_8_p314.tif has 2 channels, but INPUT_NC is 3. Padding with zeros.\n",
            "Epoch [1/3], Step [200/1947]\n",
            "Loss_G: 5.8654 | Loss_G_GAN_A: 1.6288 | Loss_G_GAN_B: 0.9397\n",
            "Loss_cycle_SAR: 1.3704 | Loss_cycle_EO: 0.9889\n",
            "Loss_identity_A: 0.2771 | Loss_identity_B: 0.6606\n",
            "Loss_D_A: 0.6968 | Loss_D_B: 0.0584\n"
          ]
        },
        {
          "output_type": "stream",
          "name": "stderr",
          "text": [
            "Epoch 1/3:  10%|█         | 202/1947 [1:47:58<15:34:40, 32.14s/it]"
          ]
        },
        {
          "output_type": "stream",
          "name": "stdout",
          "text": [
            "Warning: SAR image ROIs2017_winter_s1_22_p273.tif has 2 channels, but INPUT_NC is 3. Padding with zeros.\n",
            "Epoch [1/3], Step [201/1947]\n",
            "Loss_G: 3.6266 | Loss_G_GAN_A: 0.3143 | Loss_G_GAN_B: 0.8501\n",
            "Loss_cycle_SAR: 1.3380 | Loss_cycle_EO: 0.3599\n",
            "Loss_identity_A: 0.1597 | Loss_identity_B: 0.6046\n",
            "Loss_D_A: 0.1361 | Loss_D_B: 0.1005\n"
          ]
        },
        {
          "output_type": "stream",
          "name": "stderr",
          "text": [
            "Epoch 1/3:  10%|█         | 203/1947 [1:48:29<15:22:59, 31.75s/it]"
          ]
        },
        {
          "output_type": "stream",
          "name": "stdout",
          "text": [
            "Warning: SAR image ROIs2017_winter_s1_22_p345.tif has 2 channels, but INPUT_NC is 3. Padding with zeros.\n",
            "Epoch [1/3], Step [202/1947]\n",
            "Loss_G: 4.5541 | Loss_G_GAN_A: 0.1085 | Loss_G_GAN_B: 0.8385\n",
            "Loss_cycle_SAR: 1.2760 | Loss_cycle_EO: 1.2475\n",
            "Loss_identity_A: 0.4797 | Loss_identity_B: 0.6039\n",
            "Loss_D_A: 0.2451 | Loss_D_B: 0.0471\n"
          ]
        },
        {
          "output_type": "stream",
          "name": "stderr",
          "text": [
            "Epoch 1/3:  10%|█         | 204/1947 [1:49:02<15:29:25, 31.99s/it]"
          ]
        },
        {
          "output_type": "stream",
          "name": "stdout",
          "text": [
            "Warning: SAR image ROIs2017_winter_s1_21_p386.tif has 2 channels, but INPUT_NC is 3. Padding with zeros.\n",
            "Epoch [1/3], Step [203/1947]\n",
            "Loss_G: 5.1204 | Loss_G_GAN_A: 0.4089 | Loss_G_GAN_B: 0.7585\n",
            "Loss_cycle_SAR: 1.4045 | Loss_cycle_EO: 1.6717\n",
            "Loss_identity_A: 0.2273 | Loss_identity_B: 0.6495\n",
            "Loss_D_A: 0.1772 | Loss_D_B: 0.0317\n"
          ]
        },
        {
          "output_type": "stream",
          "name": "stderr",
          "text": [
            "Epoch 1/3:  11%|█         | 205/1947 [1:49:33<15:24:42, 31.85s/it]"
          ]
        },
        {
          "output_type": "stream",
          "name": "stdout",
          "text": [
            "Warning: SAR image ROIs2017_winter_s1_8_p68.tif has 2 channels, but INPUT_NC is 3. Padding with zeros.\n",
            "Epoch [1/3], Step [204/1947]\n",
            "Loss_G: 4.5417 | Loss_G_GAN_A: 0.4098 | Loss_G_GAN_B: 0.7509\n",
            "Loss_cycle_SAR: 0.9819 | Loss_cycle_EO: 1.7378\n",
            "Loss_identity_A: 0.2030 | Loss_identity_B: 0.4583\n",
            "Loss_D_A: 0.1762 | Loss_D_B: 0.0796\n"
          ]
        },
        {
          "output_type": "stream",
          "name": "stderr",
          "text": [
            "Epoch 1/3:  11%|█         | 206/1947 [1:50:05<15:26:29, 31.93s/it]"
          ]
        },
        {
          "output_type": "stream",
          "name": "stdout",
          "text": [
            "Warning: SAR image ROIs2017_winter_s1_22_p215.tif has 2 channels, but INPUT_NC is 3. Padding with zeros.\n",
            "Epoch [1/3], Step [205/1947]\n",
            "Loss_G: 5.7758 | Loss_G_GAN_A: 0.3133 | Loss_G_GAN_B: 0.6003\n",
            "Loss_cycle_SAR: 1.8072 | Loss_cycle_EO: 1.2324\n",
            "Loss_identity_A: 0.9654 | Loss_identity_B: 0.8571\n",
            "Loss_D_A: 0.2279 | Loss_D_B: 0.0393\n"
          ]
        },
        {
          "output_type": "stream",
          "name": "stderr",
          "text": [
            "Epoch 1/3:  11%|█         | 207/1947 [1:50:36<15:17:16, 31.63s/it]"
          ]
        },
        {
          "output_type": "stream",
          "name": "stdout",
          "text": [
            "Warning: SAR image ROIs2017_winter_s1_22_p265.tif has 2 channels, but INPUT_NC is 3. Padding with zeros.\n",
            "Epoch [1/3], Step [206/1947]\n",
            "Loss_G: 7.0292 | Loss_G_GAN_A: 0.4430 | Loss_G_GAN_B: 0.4893\n",
            "Loss_cycle_SAR: 1.2034 | Loss_cycle_EO: 2.6319\n",
            "Loss_identity_A: 1.7259 | Loss_identity_B: 0.5357\n",
            "Loss_D_A: 0.1176 | Loss_D_B: 0.1215\n"
          ]
        },
        {
          "output_type": "stream",
          "name": "stderr",
          "text": [
            "Epoch 1/3:  11%|█         | 208/1947 [1:51:07<15:08:54, 31.36s/it]"
          ]
        },
        {
          "output_type": "stream",
          "name": "stdout",
          "text": [
            "Warning: SAR image ROIs2017_winter_s1_22_p619.tif has 2 channels, but INPUT_NC is 3. Padding with zeros.\n",
            "Epoch [1/3], Step [207/1947]\n",
            "Loss_G: 5.4927 | Loss_G_GAN_A: 0.4795 | Loss_G_GAN_B: 0.4113\n",
            "Loss_cycle_SAR: 0.9608 | Loss_cycle_EO: 2.3300\n",
            "Loss_identity_A: 0.8404 | Loss_identity_B: 0.4708\n",
            "Loss_D_A: 0.1115 | Loss_D_B: 0.0933\n"
          ]
        },
        {
          "output_type": "stream",
          "name": "stderr",
          "text": [
            "Epoch 1/3:  11%|█         | 209/1947 [1:51:39<15:13:02, 31.52s/it]"
          ]
        },
        {
          "output_type": "stream",
          "name": "stdout",
          "text": [
            "Warning: SAR image ROIs2017_winter_s1_22_p666.tif has 2 channels, but INPUT_NC is 3. Padding with zeros.\n",
            "Epoch [1/3], Step [208/1947]\n",
            "Loss_G: 5.7350 | Loss_G_GAN_A: 0.6381 | Loss_G_GAN_B: 1.1020\n",
            "Loss_cycle_SAR: 2.2330 | Loss_cycle_EO: 0.3799\n",
            "Loss_identity_A: 0.2030 | Loss_identity_B: 1.1789\n",
            "Loss_D_A: 0.0956 | Loss_D_B: 0.0571\n"
          ]
        },
        {
          "output_type": "stream",
          "name": "stderr",
          "text": [
            "Epoch 1/3:  11%|█         | 210/1947 [1:52:12<15:21:13, 31.82s/it]"
          ]
        },
        {
          "output_type": "stream",
          "name": "stdout",
          "text": [
            "Warning: SAR image ROIs2017_winter_s1_21_p332.tif has 2 channels, but INPUT_NC is 3. Padding with zeros.\n",
            "Epoch [1/3], Step [209/1947]\n",
            "Loss_G: 6.1026 | Loss_G_GAN_A: 0.4911 | Loss_G_GAN_B: 1.1637\n",
            "Loss_cycle_SAR: 1.3358 | Loss_cycle_EO: 1.3812\n",
            "Loss_identity_A: 1.0324 | Loss_identity_B: 0.6983\n",
            "Loss_D_A: 0.0816 | Loss_D_B: 0.0503\n"
          ]
        },
        {
          "output_type": "stream",
          "name": "stderr",
          "text": [
            "Epoch 1/3:  11%|█         | 211/1947 [1:52:44<15:23:36, 31.92s/it]"
          ]
        },
        {
          "output_type": "stream",
          "name": "stdout",
          "text": [
            "Warning: SAR image ROIs2017_winter_s1_22_p376.tif has 2 channels, but INPUT_NC is 3. Padding with zeros.\n",
            "Epoch [1/3], Step [210/1947]\n",
            "Loss_G: 4.6225 | Loss_G_GAN_A: 1.2219 | Loss_G_GAN_B: 0.7332\n",
            "Loss_cycle_SAR: 0.9617 | Loss_cycle_EO: 0.7339\n",
            "Loss_identity_A: 0.4776 | Loss_identity_B: 0.4942\n",
            "Loss_D_A: 0.1785 | Loss_D_B: 0.0430\n"
          ]
        },
        {
          "output_type": "stream",
          "name": "stderr",
          "text": [
            "Epoch 1/3:  11%|█         | 212/1947 [1:53:15<15:14:21, 31.62s/it]"
          ]
        },
        {
          "output_type": "stream",
          "name": "stdout",
          "text": [
            "Warning: SAR image ROIs2017_winter_s1_22_p187.tif has 2 channels, but INPUT_NC is 3. Padding with zeros.\n",
            "Epoch [1/3], Step [211/1947]\n",
            "Loss_G: 4.0872 | Loss_G_GAN_A: 0.0432 | Loss_G_GAN_B: 0.7161\n",
            "Loss_cycle_SAR: 1.7909 | Loss_cycle_EO: 0.2922\n",
            "Loss_identity_A: 0.4208 | Loss_identity_B: 0.8239\n",
            "Loss_D_A: 0.3805 | Loss_D_B: 0.0235\n"
          ]
        },
        {
          "output_type": "stream",
          "name": "stderr",
          "text": [
            "Epoch 1/3:  11%|█         | 213/1947 [1:53:50<15:43:50, 32.66s/it]"
          ]
        },
        {
          "output_type": "stream",
          "name": "stdout",
          "text": [
            "Warning: SAR image ROIs2017_winter_s1_22_p206.tif has 2 channels, but INPUT_NC is 3. Padding with zeros.\n",
            "Epoch [1/3], Step [212/1947]\n",
            "Loss_G: 3.0684 | Loss_G_GAN_A: 0.4054 | Loss_G_GAN_B: 0.3685\n",
            "Loss_cycle_SAR: 1.1731 | Loss_cycle_EO: 0.3324\n",
            "Loss_identity_A: 0.1510 | Loss_identity_B: 0.6381\n",
            "Loss_D_A: 0.1178 | Loss_D_B: 0.1081\n"
          ]
        },
        {
          "output_type": "stream",
          "name": "stderr",
          "text": [
            "Epoch 1/3:  11%|█         | 214/1947 [1:54:22<15:42:05, 32.62s/it]"
          ]
        },
        {
          "output_type": "stream",
          "name": "stdout",
          "text": [
            "Warning: SAR image ROIs2017_winter_s1_8_p148.tif has 2 channels, but INPUT_NC is 3. Padding with zeros.\n",
            "Epoch [1/3], Step [213/1947]\n",
            "Loss_G: 5.3012 | Loss_G_GAN_A: 0.8319 | Loss_G_GAN_B: 1.4451\n",
            "Loss_cycle_SAR: 1.6497 | Loss_cycle_EO: 0.3502\n",
            "Loss_identity_A: 0.2852 | Loss_identity_B: 0.7391\n",
            "Loss_D_A: 0.1615 | Loss_D_B: 0.1077\n"
          ]
        },
        {
          "output_type": "stream",
          "name": "stderr",
          "text": [
            "Epoch 1/3:  11%|█         | 215/1947 [1:54:54<15:34:21, 32.37s/it]"
          ]
        },
        {
          "output_type": "stream",
          "name": "stdout",
          "text": [
            "Warning: SAR image ROIs2017_winter_s1_8_p326.tif has 2 channels, but INPUT_NC is 3. Padding with zeros.\n",
            "Epoch [1/3], Step [214/1947]\n",
            "Loss_G: 6.6895 | Loss_G_GAN_A: 0.4530 | Loss_G_GAN_B: 0.8696\n",
            "Loss_cycle_SAR: 1.0276 | Loss_cycle_EO: 2.5667\n",
            "Loss_identity_A: 1.3017 | Loss_identity_B: 0.4709\n",
            "Loss_D_A: 0.1127 | Loss_D_B: 0.0348\n"
          ]
        },
        {
          "output_type": "stream",
          "name": "stderr",
          "text": [
            "Epoch 1/3:  11%|█         | 216/1947 [1:55:26<15:30:59, 32.27s/it]"
          ]
        },
        {
          "output_type": "stream",
          "name": "stdout",
          "text": [
            "Warning: SAR image ROIs2017_winter_s1_21_p279.tif has 2 channels, but INPUT_NC is 3. Padding with zeros.\n",
            "Epoch [1/3], Step [215/1947]\n",
            "Loss_G: 4.2809 | Loss_G_GAN_A: 0.7897 | Loss_G_GAN_B: 0.7360\n",
            "Loss_cycle_SAR: 0.9535 | Loss_cycle_EO: 0.9449\n",
            "Loss_identity_A: 0.4069 | Loss_identity_B: 0.4499\n",
            "Loss_D_A: 0.1118 | Loss_D_B: 0.0302\n"
          ]
        },
        {
          "output_type": "stream",
          "name": "stderr",
          "text": [
            "Epoch 1/3:  11%|█         | 217/1947 [1:55:59<15:36:07, 32.47s/it]"
          ]
        },
        {
          "output_type": "stream",
          "name": "stdout",
          "text": [
            "Warning: SAR image ROIs2017_winter_s1_21_p294.tif has 2 channels, but INPUT_NC is 3. Padding with zeros.\n",
            "Epoch [1/3], Step [216/1947]\n",
            "Loss_G: 4.0161 | Loss_G_GAN_A: 0.1217 | Loss_G_GAN_B: 0.9345\n",
            "Loss_cycle_SAR: 1.1352 | Loss_cycle_EO: 0.9082\n",
            "Loss_identity_A: 0.3669 | Loss_identity_B: 0.5496\n",
            "Loss_D_A: 0.2328 | Loss_D_B: 0.0198\n"
          ]
        },
        {
          "output_type": "stream",
          "name": "stderr",
          "text": [
            "Epoch 1/3:  11%|█         | 218/1947 [1:56:31<15:32:49, 32.37s/it]"
          ]
        },
        {
          "output_type": "stream",
          "name": "stdout",
          "text": [
            "Warning: SAR image ROIs2017_winter_s1_8_p511.tif has 2 channels, but INPUT_NC is 3. Padding with zeros.\n",
            "Epoch [1/3], Step [217/1947]\n",
            "Loss_G: 8.2657 | Loss_G_GAN_A: 0.9597 | Loss_G_GAN_B: 1.1641\n",
            "Loss_cycle_SAR: 1.8824 | Loss_cycle_EO: 2.5257\n",
            "Loss_identity_A: 0.8297 | Loss_identity_B: 0.9040\n",
            "Loss_D_A: 0.0607 | Loss_D_B: 0.0566\n"
          ]
        },
        {
          "output_type": "stream",
          "name": "stderr",
          "text": [
            "Epoch 1/3:  11%|█         | 219/1947 [1:57:03<15:26:30, 32.17s/it]"
          ]
        },
        {
          "output_type": "stream",
          "name": "stdout",
          "text": [
            "Warning: SAR image ROIs2017_winter_s1_8_p57.tif has 2 channels, but INPUT_NC is 3. Padding with zeros.\n",
            "Epoch [1/3], Step [218/1947]\n",
            "Loss_G: 5.5810 | Loss_G_GAN_A: 0.9279 | Loss_G_GAN_B: 0.4652\n",
            "Loss_cycle_SAR: 1.2411 | Loss_cycle_EO: 1.7448\n",
            "Loss_identity_A: 0.5898 | Loss_identity_B: 0.6122\n",
            "Loss_D_A: 0.0597 | Loss_D_B: 0.0925\n"
          ]
        },
        {
          "output_type": "stream",
          "name": "stderr",
          "text": [
            "Epoch 1/3:  11%|█▏        | 220/1947 [1:57:34<15:20:09, 31.97s/it]"
          ]
        },
        {
          "output_type": "stream",
          "name": "stdout",
          "text": [
            "Warning: SAR image ROIs2017_winter_s1_21_p359.tif has 2 channels, but INPUT_NC is 3. Padding with zeros.\n",
            "Epoch [1/3], Step [219/1947]\n",
            "Loss_G: 3.3288 | Loss_G_GAN_A: 0.5604 | Loss_G_GAN_B: 0.4881\n",
            "Loss_cycle_SAR: 1.0463 | Loss_cycle_EO: 0.4868\n",
            "Loss_identity_A: 0.2372 | Loss_identity_B: 0.5099\n",
            "Loss_D_A: 0.0394 | Loss_D_B: 0.0702\n"
          ]
        },
        {
          "output_type": "stream",
          "name": "stderr",
          "text": [
            "Epoch 1/3:  11%|█▏        | 221/1947 [1:58:06<15:19:02, 31.95s/it]"
          ]
        },
        {
          "output_type": "stream",
          "name": "stdout",
          "text": [
            "Warning: SAR image ROIs2017_winter_s1_8_p616.tif has 2 channels, but INPUT_NC is 3. Padding with zeros.\n",
            "Epoch [1/3], Step [220/1947]\n",
            "Loss_G: 6.1258 | Loss_G_GAN_A: 0.8516 | Loss_G_GAN_B: 0.7683\n",
            "Loss_cycle_SAR: 0.9849 | Loss_cycle_EO: 2.8124\n",
            "Loss_identity_A: 0.2526 | Loss_identity_B: 0.4560\n",
            "Loss_D_A: 0.0909 | Loss_D_B: 0.0531\n"
          ]
        },
        {
          "output_type": "stream",
          "name": "stderr",
          "text": [
            "Epoch 1/3:  11%|█▏        | 222/1947 [1:58:39<15:27:30, 32.26s/it]"
          ]
        },
        {
          "output_type": "stream",
          "name": "stdout",
          "text": [
            "Warning: SAR image ROIs2017_winter_s1_22_p518.tif has 2 channels, but INPUT_NC is 3. Padding with zeros.\n",
            "Epoch [1/3], Step [221/1947]\n",
            "Loss_G: 5.1724 | Loss_G_GAN_A: 0.0700 | Loss_G_GAN_B: 1.2173\n",
            "Loss_cycle_SAR: 1.0665 | Loss_cycle_EO: 1.0326\n",
            "Loss_identity_A: 1.3168 | Loss_identity_B: 0.4693\n",
            "Loss_D_A: 0.3073 | Loss_D_B: 0.0586\n"
          ]
        },
        {
          "output_type": "stream",
          "name": "stderr",
          "text": [
            "Epoch 1/3:  11%|█▏        | 223/1947 [1:59:12<15:27:48, 32.29s/it]"
          ]
        },
        {
          "output_type": "stream",
          "name": "stdout",
          "text": [
            "Warning: SAR image ROIs2017_winter_s1_8_p84.tif has 2 channels, but INPUT_NC is 3. Padding with zeros.\n",
            "Epoch [1/3], Step [222/1947]\n",
            "Loss_G: 5.2840 | Loss_G_GAN_A: 1.7788 | Loss_G_GAN_B: 0.5108\n",
            "Loss_cycle_SAR: 1.1831 | Loss_cycle_EO: 0.7572\n",
            "Loss_identity_A: 0.5106 | Loss_identity_B: 0.5434\n",
            "Loss_D_A: 0.1708 | Loss_D_B: 0.0759\n"
          ]
        },
        {
          "output_type": "stream",
          "name": "stderr",
          "text": [
            "Epoch 1/3:  12%|█▏        | 224/1947 [1:59:44<15:24:14, 32.18s/it]"
          ]
        },
        {
          "output_type": "stream",
          "name": "stdout",
          "text": [
            "Warning: SAR image ROIs2017_winter_s1_22_p177.tif has 2 channels, but INPUT_NC is 3. Padding with zeros.\n",
            "Epoch [1/3], Step [223/1947]\n",
            "Loss_G: 7.7229 | Loss_G_GAN_A: 0.8709 | Loss_G_GAN_B: 0.7862\n",
            "Loss_cycle_SAR: 1.1449 | Loss_cycle_EO: 3.4091\n",
            "Loss_identity_A: 0.9546 | Loss_identity_B: 0.5572\n",
            "Loss_D_A: 0.1185 | Loss_D_B: 0.0227\n"
          ]
        },
        {
          "output_type": "stream",
          "name": "stderr",
          "text": [
            "Epoch 1/3:  12%|█▏        | 225/1947 [2:00:15<15:14:40, 31.87s/it]"
          ]
        },
        {
          "output_type": "stream",
          "name": "stdout",
          "text": [
            "Warning: SAR image ROIs2017_winter_s1_21_p445.tif has 2 channels, but INPUT_NC is 3. Padding with zeros.\n",
            "Epoch [1/3], Step [224/1947]\n",
            "Loss_G: 3.9041 | Loss_G_GAN_A: 0.0707 | Loss_G_GAN_B: 1.1291\n",
            "Loss_cycle_SAR: 1.2923 | Loss_cycle_EO: 0.5802\n",
            "Loss_identity_A: 0.2216 | Loss_identity_B: 0.6103\n",
            "Loss_D_A: 0.3003 | Loss_D_B: 0.0151\n"
          ]
        },
        {
          "output_type": "stream",
          "name": "stderr",
          "text": [
            "Epoch 1/3:  12%|█▏        | 226/1947 [2:00:50<15:45:10, 32.95s/it]"
          ]
        },
        {
          "output_type": "stream",
          "name": "stdout",
          "text": [
            "Warning: SAR image ROIs2017_winter_s1_22_p423.tif has 2 channels, but INPUT_NC is 3. Padding with zeros.\n",
            "Epoch [1/3], Step [225/1947]\n",
            "Loss_G: 7.1666 | Loss_G_GAN_A: 0.3224 | Loss_G_GAN_B: 0.3984\n",
            "Loss_cycle_SAR: 1.7420 | Loss_cycle_EO: 3.0826\n",
            "Loss_identity_A: 0.7978 | Loss_identity_B: 0.8234\n",
            "Loss_D_A: 0.1720 | Loss_D_B: 0.0876\n"
          ]
        },
        {
          "output_type": "stream",
          "name": "stderr",
          "text": [
            "Epoch 1/3:  12%|█▏        | 227/1947 [2:01:22<15:31:10, 32.48s/it]"
          ]
        },
        {
          "output_type": "stream",
          "name": "stdout",
          "text": [
            "Warning: SAR image ROIs2017_winter_s1_8_p632.tif has 2 channels, but INPUT_NC is 3. Padding with zeros.\n",
            "Epoch [1/3], Step [226/1947]\n",
            "Loss_G: 4.6090 | Loss_G_GAN_A: 0.6563 | Loss_G_GAN_B: 1.6249\n",
            "Loss_cycle_SAR: 1.1282 | Loss_cycle_EO: 0.3872\n",
            "Loss_identity_A: 0.2642 | Loss_identity_B: 0.5482\n",
            "Loss_D_A: 0.1332 | Loss_D_B: 0.0822\n"
          ]
        },
        {
          "output_type": "stream",
          "name": "stderr",
          "text": [
            "Epoch 1/3:  12%|█▏        | 228/1947 [2:01:53<15:24:49, 32.28s/it]"
          ]
        },
        {
          "output_type": "stream",
          "name": "stdout",
          "text": [
            "Warning: SAR image ROIs2017_winter_s1_22_p365.tif has 2 channels, but INPUT_NC is 3. Padding with zeros.\n",
            "Epoch [1/3], Step [227/1947]\n",
            "Loss_G: 7.7348 | Loss_G_GAN_A: 0.2993 | Loss_G_GAN_B: 1.0934\n",
            "Loss_cycle_SAR: 1.5943 | Loss_cycle_EO: 3.2167\n",
            "Loss_identity_A: 0.7799 | Loss_identity_B: 0.7511\n",
            "Loss_D_A: 0.1241 | Loss_D_B: 0.0411\n"
          ]
        },
        {
          "output_type": "stream",
          "name": "stderr",
          "text": [
            "Epoch 1/3:  12%|█▏        | 229/1947 [2:02:25<15:19:47, 32.12s/it]"
          ]
        },
        {
          "output_type": "stream",
          "name": "stdout",
          "text": [
            "Warning: SAR image ROIs2017_winter_s1_22_p739.tif has 2 channels, but INPUT_NC is 3. Padding with zeros.\n",
            "Epoch [1/3], Step [228/1947]\n",
            "Loss_G: 5.1458 | Loss_G_GAN_A: 0.9225 | Loss_G_GAN_B: 0.3612\n",
            "Loss_cycle_SAR: 1.7350 | Loss_cycle_EO: 1.0908\n",
            "Loss_identity_A: 0.2099 | Loss_identity_B: 0.8263\n",
            "Loss_D_A: 0.1812 | Loss_D_B: 0.0931\n"
          ]
        },
        {
          "output_type": "stream",
          "name": "stderr",
          "text": [
            "Epoch 1/3:  12%|█▏        | 230/1947 [2:02:57<15:13:18, 31.92s/it]"
          ]
        },
        {
          "output_type": "stream",
          "name": "stdout",
          "text": [
            "Warning: SAR image ROIs2017_winter_s1_22_p628.tif has 2 channels, but INPUT_NC is 3. Padding with zeros.\n",
            "Epoch [1/3], Step [229/1947]\n",
            "Loss_G: 3.9920 | Loss_G_GAN_A: 0.0918 | Loss_G_GAN_B: 1.4084\n",
            "Loss_cycle_SAR: 1.1094 | Loss_cycle_EO: 0.4494\n",
            "Loss_identity_A: 0.3959 | Loss_identity_B: 0.5371\n",
            "Loss_D_A: 0.2813 | Loss_D_B: 0.0421\n"
          ]
        },
        {
          "output_type": "stream",
          "name": "stderr",
          "text": [
            "Epoch 1/3:  12%|█▏        | 231/1947 [2:03:29<15:16:40, 32.05s/it]"
          ]
        },
        {
          "output_type": "stream",
          "name": "stdout",
          "text": [
            "Warning: SAR image ROIs2017_winter_s1_8_p446.tif has 2 channels, but INPUT_NC is 3. Padding with zeros.\n",
            "Epoch [1/3], Step [230/1947]\n",
            "Loss_G: 5.8651 | Loss_G_GAN_A: 1.0054 | Loss_G_GAN_B: 1.3644\n",
            "Loss_cycle_SAR: 1.2876 | Loss_cycle_EO: 1.1884\n",
            "Loss_identity_A: 0.4022 | Loss_identity_B: 0.6172\n",
            "Loss_D_A: 0.0595 | Loss_D_B: 0.0747\n"
          ]
        },
        {
          "output_type": "stream",
          "name": "stderr",
          "text": [
            "Epoch 1/3:  12%|█▏        | 232/1947 [2:04:01<15:19:43, 32.18s/it]"
          ]
        },
        {
          "output_type": "stream",
          "name": "stdout",
          "text": [
            "Warning: SAR image ROIs2017_winter_s1_21_p583.tif has 2 channels, but INPUT_NC is 3. Padding with zeros.\n",
            "Epoch [1/3], Step [231/1947]\n",
            "Loss_G: 6.2571 | Loss_G_GAN_A: 1.1554 | Loss_G_GAN_B: 0.5721\n",
            "Loss_cycle_SAR: 1.4918 | Loss_cycle_EO: 1.8404\n",
            "Loss_identity_A: 0.4734 | Loss_identity_B: 0.7240\n",
            "Loss_D_A: 0.2953 | Loss_D_B: 0.0552\n"
          ]
        },
        {
          "output_type": "stream",
          "name": "stderr",
          "text": [
            "Epoch 1/3:  12%|█▏        | 233/1947 [2:04:32<15:09:37, 31.84s/it]"
          ]
        },
        {
          "output_type": "stream",
          "name": "stdout",
          "text": [
            "Warning: SAR image ROIs2017_winter_s1_22_p603.tif has 2 channels, but INPUT_NC is 3. Padding with zeros.\n",
            "Epoch [1/3], Step [232/1947]\n",
            "Loss_G: 4.4218 | Loss_G_GAN_A: 0.0206 | Loss_G_GAN_B: 0.4060\n",
            "Loss_cycle_SAR: 1.1330 | Loss_cycle_EO: 1.5535\n",
            "Loss_identity_A: 0.7496 | Loss_identity_B: 0.5591\n",
            "Loss_D_A: 0.4699 | Loss_D_B: 0.0924\n"
          ]
        },
        {
          "output_type": "stream",
          "name": "stderr",
          "text": [
            "Epoch 1/3:  12%|█▏        | 234/1947 [2:05:04<15:03:33, 31.65s/it]"
          ]
        },
        {
          "output_type": "stream",
          "name": "stdout",
          "text": [
            "Warning: SAR image ROIs2017_winter_s1_22_p519.tif has 2 channels, but INPUT_NC is 3. Padding with zeros.\n",
            "Epoch [1/3], Step [233/1947]\n",
            "Loss_G: 5.0564 | Loss_G_GAN_A: 0.1498 | Loss_G_GAN_B: 1.1639\n",
            "Loss_cycle_SAR: 1.3889 | Loss_cycle_EO: 1.5555\n",
            "Loss_identity_A: 0.1096 | Loss_identity_B: 0.6886\n",
            "Loss_D_A: 0.2771 | Loss_D_B: 0.0493\n"
          ]
        },
        {
          "output_type": "stream",
          "name": "stderr",
          "text": [
            "Epoch 1/3:  12%|█▏        | 235/1947 [2:05:35<15:04:51, 31.71s/it]"
          ]
        },
        {
          "output_type": "stream",
          "name": "stdout",
          "text": [
            "Warning: SAR image ROIs2017_winter_s1_22_p279.tif has 2 channels, but INPUT_NC is 3. Padding with zeros.\n",
            "Epoch [1/3], Step [234/1947]\n",
            "Loss_G: 5.2644 | Loss_G_GAN_A: 0.3332 | Loss_G_GAN_B: 0.9387\n",
            "Loss_cycle_SAR: 1.5390 | Loss_cycle_EO: 1.7111\n",
            "Loss_identity_A: 0.2057 | Loss_identity_B: 0.5366\n",
            "Loss_D_A: 0.2304 | Loss_D_B: 0.0811\n"
          ]
        },
        {
          "output_type": "stream",
          "name": "stderr",
          "text": [
            "Epoch 1/3:  12%|█▏        | 236/1947 [2:06:08<15:12:47, 32.01s/it]"
          ]
        },
        {
          "output_type": "stream",
          "name": "stdout",
          "text": [
            "Warning: SAR image ROIs2017_winter_s1_21_p639.tif has 2 channels, but INPUT_NC is 3. Padding with zeros.\n",
            "Epoch [1/3], Step [235/1947]\n",
            "Loss_G: 4.2707 | Loss_G_GAN_A: 0.4062 | Loss_G_GAN_B: 0.5445\n",
            "Loss_cycle_SAR: 1.1021 | Loss_cycle_EO: 1.0097\n",
            "Loss_identity_A: 0.7041 | Loss_identity_B: 0.5041\n",
            "Loss_D_A: 0.1925 | Loss_D_B: 0.0725\n"
          ]
        },
        {
          "output_type": "stream",
          "name": "stderr",
          "text": [
            "Epoch 1/3:  12%|█▏        | 237/1947 [2:06:40<15:12:04, 32.00s/it]"
          ]
        },
        {
          "output_type": "stream",
          "name": "stdout",
          "text": [
            "Warning: SAR image ROIs2017_winter_s1_22_p164.tif has 2 channels, but INPUT_NC is 3. Padding with zeros.\n",
            "Epoch [1/3], Step [236/1947]\n",
            "Loss_G: 3.8463 | Loss_G_GAN_A: 0.4510 | Loss_G_GAN_B: 0.5559\n",
            "Loss_cycle_SAR: 0.8776 | Loss_cycle_EO: 0.8569\n",
            "Loss_identity_A: 0.6793 | Loss_identity_B: 0.4256\n",
            "Loss_D_A: 0.1795 | Loss_D_B: 0.0646\n"
          ]
        },
        {
          "output_type": "stream",
          "name": "stderr",
          "text": [
            "Epoch 1/3:  12%|█▏        | 238/1947 [2:07:11<15:03:34, 31.72s/it]"
          ]
        },
        {
          "output_type": "stream",
          "name": "stdout",
          "text": [
            "Warning: SAR image ROIs2017_winter_s1_22_p661.tif has 2 channels, but INPUT_NC is 3. Padding with zeros.\n",
            "Epoch [1/3], Step [237/1947]\n",
            "Loss_G: 7.5407 | Loss_G_GAN_A: 0.5497 | Loss_G_GAN_B: 1.3100\n",
            "Loss_cycle_SAR: 1.7389 | Loss_cycle_EO: 1.9753\n",
            "Loss_identity_A: 1.0874 | Loss_identity_B: 0.8794\n",
            "Loss_D_A: 0.1031 | Loss_D_B: 0.1354\n"
          ]
        },
        {
          "output_type": "stream",
          "name": "stderr",
          "text": [
            "Epoch 1/3:  12%|█▏        | 239/1947 [2:07:42<14:58:35, 31.57s/it]"
          ]
        },
        {
          "output_type": "stream",
          "name": "stdout",
          "text": [
            "Warning: SAR image ROIs2017_winter_s1_21_p569.tif has 2 channels, but INPUT_NC is 3. Padding with zeros.\n",
            "Epoch [1/3], Step [238/1947]\n",
            "Loss_G: 5.1185 | Loss_G_GAN_A: 0.6355 | Loss_G_GAN_B: 0.3535\n",
            "Loss_cycle_SAR: 1.5792 | Loss_cycle_EO: 0.9444\n",
            "Loss_identity_A: 0.7393 | Loss_identity_B: 0.8665\n",
            "Loss_D_A: 0.0698 | Loss_D_B: 0.1244\n"
          ]
        },
        {
          "output_type": "stream",
          "name": "stderr",
          "text": [
            "Epoch 1/3:  12%|█▏        | 240/1947 [2:08:15<15:04:42, 31.80s/it]"
          ]
        },
        {
          "output_type": "stream",
          "name": "stdout",
          "text": [
            "Warning: SAR image ROIs2017_winter_s1_21_p512.tif has 2 channels, but INPUT_NC is 3. Padding with zeros.\n",
            "Epoch [1/3], Step [239/1947]\n",
            "Loss_G: 5.5594 | Loss_G_GAN_A: 0.6503 | Loss_G_GAN_B: 0.7178\n",
            "Loss_cycle_SAR: 1.0585 | Loss_cycle_EO: 2.0780\n",
            "Loss_identity_A: 0.5410 | Loss_identity_B: 0.5138\n",
            "Loss_D_A: 0.1860 | Loss_D_B: 0.0915\n"
          ]
        },
        {
          "output_type": "stream",
          "name": "stderr",
          "text": [
            "Epoch 1/3:  12%|█▏        | 241/1947 [2:08:50<15:34:04, 32.85s/it]"
          ]
        },
        {
          "output_type": "stream",
          "name": "stdout",
          "text": [
            "Warning: SAR image ROIs2017_winter_s1_21_p144.tif has 2 channels, but INPUT_NC is 3. Padding with zeros.\n",
            "Epoch [1/3], Step [240/1947]\n",
            "Loss_G: 6.7348 | Loss_G_GAN_A: 0.2345 | Loss_G_GAN_B: 1.7673\n",
            "Loss_cycle_SAR: 1.9816 | Loss_cycle_EO: 1.0478\n",
            "Loss_identity_A: 0.6575 | Loss_identity_B: 1.0461\n",
            "Loss_D_A: 0.1829 | Loss_D_B: 0.1442\n"
          ]
        },
        {
          "output_type": "stream",
          "name": "stderr",
          "text": [
            "Epoch 1/3:  12%|█▏        | 242/1947 [2:09:22<15:27:06, 32.63s/it]"
          ]
        },
        {
          "output_type": "stream",
          "name": "stdout",
          "text": [
            "Warning: SAR image ROIs2017_winter_s1_22_p766.tif has 2 channels, but INPUT_NC is 3. Padding with zeros.\n",
            "Epoch [1/3], Step [241/1947]\n",
            "Loss_G: 4.3738 | Loss_G_GAN_A: 0.5618 | Loss_G_GAN_B: 0.8873\n",
            "Loss_cycle_SAR: 1.0303 | Loss_cycle_EO: 1.1498\n",
            "Loss_identity_A: 0.1984 | Loss_identity_B: 0.5462\n",
            "Loss_D_A: 0.1362 | Loss_D_B: 0.0515\n"
          ]
        },
        {
          "output_type": "stream",
          "name": "stderr",
          "text": [
            "Epoch 1/3:  12%|█▏        | 243/1947 [2:09:54<15:23:56, 32.53s/it]"
          ]
        },
        {
          "output_type": "stream",
          "name": "stdout",
          "text": [
            "Warning: SAR image ROIs2017_winter_s1_22_p51.tif has 2 channels, but INPUT_NC is 3. Padding with zeros.\n",
            "Epoch [1/3], Step [242/1947]\n",
            "Loss_G: 6.0297 | Loss_G_GAN_A: 0.8975 | Loss_G_GAN_B: 0.7826\n",
            "Loss_cycle_SAR: 1.6383 | Loss_cycle_EO: 1.5636\n",
            "Loss_identity_A: 0.3576 | Loss_identity_B: 0.7901\n",
            "Loss_D_A: 0.0669 | Loss_D_B: 0.0248\n"
          ]
        },
        {
          "output_type": "stream",
          "name": "stderr",
          "text": [
            "Epoch 1/3:  13%|█▎        | 244/1947 [2:10:27<15:19:44, 32.40s/it]"
          ]
        },
        {
          "output_type": "stream",
          "name": "stdout",
          "text": [
            "Warning: SAR image ROIs2017_winter_s1_21_p298.tif has 2 channels, but INPUT_NC is 3. Padding with zeros.\n",
            "Epoch [1/3], Step [243/1947]\n",
            "Loss_G: 5.0230 | Loss_G_GAN_A: 0.9288 | Loss_G_GAN_B: 0.8934\n",
            "Loss_cycle_SAR: 1.6086 | Loss_cycle_EO: 0.5327\n",
            "Loss_identity_A: 0.2611 | Loss_identity_B: 0.7984\n",
            "Loss_D_A: 0.0218 | Loss_D_B: 0.0192\n"
          ]
        },
        {
          "output_type": "stream",
          "name": "stderr",
          "text": [
            "Epoch 1/3:  13%|█▎        | 245/1947 [2:10:58<15:12:29, 32.17s/it]"
          ]
        },
        {
          "output_type": "stream",
          "name": "stdout",
          "text": [
            "Warning: SAR image ROIs2017_winter_s1_21_p796.tif has 2 channels, but INPUT_NC is 3. Padding with zeros.\n",
            "Epoch [1/3], Step [244/1947]\n",
            "Loss_G: 6.9953 | Loss_G_GAN_A: 1.0302 | Loss_G_GAN_B: 0.6577\n",
            "Loss_cycle_SAR: 2.0006 | Loss_cycle_EO: 1.9104\n",
            "Loss_identity_A: 0.3941 | Loss_identity_B: 1.0022\n",
            "Loss_D_A: 0.1458 | Loss_D_B: 0.0330\n"
          ]
        },
        {
          "output_type": "stream",
          "name": "stderr",
          "text": [
            "Epoch 1/3:  13%|█▎        | 246/1947 [2:11:30<15:05:32, 31.94s/it]"
          ]
        },
        {
          "output_type": "stream",
          "name": "stdout",
          "text": [
            "Warning: SAR image ROIs2017_winter_s1_21_p149.tif has 2 channels, but INPUT_NC is 3. Padding with zeros.\n",
            "Epoch [1/3], Step [245/1947]\n",
            "Loss_G: 4.3335 | Loss_G_GAN_A: 0.0120 | Loss_G_GAN_B: 0.9704\n",
            "Loss_cycle_SAR: 1.2473 | Loss_cycle_EO: 1.3552\n",
            "Loss_identity_A: 0.1545 | Loss_identity_B: 0.5941\n",
            "Loss_D_A: 0.5992 | Loss_D_B: 0.0509\n"
          ]
        },
        {
          "output_type": "stream",
          "name": "stderr",
          "text": [
            "Epoch 1/3:  13%|█▎        | 247/1947 [2:12:01<14:58:22, 31.71s/it]"
          ]
        },
        {
          "output_type": "stream",
          "name": "stdout",
          "text": [
            "Warning: SAR image ROIs2017_winter_s1_22_p562.tif has 2 channels, but INPUT_NC is 3. Padding with zeros.\n",
            "Epoch [1/3], Step [246/1947]\n",
            "Loss_G: 3.5183 | Loss_G_GAN_A: 0.1400 | Loss_G_GAN_B: 0.5788\n",
            "Loss_cycle_SAR: 0.9395 | Loss_cycle_EO: 0.5809\n",
            "Loss_identity_A: 0.7810 | Loss_identity_B: 0.4981\n",
            "Loss_D_A: 0.3929 | Loss_D_B: 0.0880\n"
          ]
        },
        {
          "output_type": "stream",
          "name": "stderr",
          "text": [
            "Epoch 1/3:  13%|█▎        | 248/1947 [2:12:32<14:50:46, 31.46s/it]"
          ]
        },
        {
          "output_type": "stream",
          "name": "stdout",
          "text": [
            "Warning: SAR image ROIs2017_winter_s1_21_p635.tif has 2 channels, but INPUT_NC is 3. Padding with zeros.\n",
            "Epoch [1/3], Step [247/1947]\n",
            "Loss_G: 5.5869 | Loss_G_GAN_A: 0.2815 | Loss_G_GAN_B: 1.0861\n",
            "Loss_cycle_SAR: 1.3080 | Loss_cycle_EO: 1.2237\n",
            "Loss_identity_A: 0.9959 | Loss_identity_B: 0.6918\n",
            "Loss_D_A: 0.2103 | Loss_D_B: 0.0692\n"
          ]
        },
        {
          "output_type": "stream",
          "name": "stderr",
          "text": [
            "Epoch 1/3:  13%|█▎        | 249/1947 [2:13:03<14:51:57, 31.52s/it]"
          ]
        },
        {
          "output_type": "stream",
          "name": "stdout",
          "text": [
            "Warning: SAR image ROIs2017_winter_s1_8_p138.tif has 2 channels, but INPUT_NC is 3. Padding with zeros.\n",
            "Epoch [1/3], Step [248/1947]\n",
            "Loss_G: 4.0621 | Loss_G_GAN_A: 0.5702 | Loss_G_GAN_B: 0.8999\n",
            "Loss_cycle_SAR: 1.0699 | Loss_cycle_EO: 0.8187\n",
            "Loss_identity_A: 0.1524 | Loss_identity_B: 0.5510\n",
            "Loss_D_A: 0.2066 | Loss_D_B: 0.0306\n"
          ]
        },
        {
          "output_type": "stream",
          "name": "stderr",
          "text": [
            "Epoch 1/3:  13%|█▎        | 250/1947 [2:13:35<14:52:04, 31.54s/it]"
          ]
        },
        {
          "output_type": "stream",
          "name": "stdout",
          "text": [
            "Warning: SAR image ROIs2017_winter_s1_22_p671.tif has 2 channels, but INPUT_NC is 3. Padding with zeros.\n",
            "Epoch [1/3], Step [249/1947]\n",
            "Loss_G: 3.7718 | Loss_G_GAN_A: 0.4240 | Loss_G_GAN_B: 0.5042\n",
            "Loss_cycle_SAR: 1.2802 | Loss_cycle_EO: 0.5734\n",
            "Loss_identity_A: 0.3351 | Loss_identity_B: 0.6550\n",
            "Loss_D_A: 0.2154 | Loss_D_B: 0.0821\n"
          ]
        },
        {
          "output_type": "stream",
          "name": "stderr",
          "text": [
            "Epoch 1/3:  13%|█▎        | 251/1947 [2:14:07<14:55:25, 31.68s/it]"
          ]
        },
        {
          "output_type": "stream",
          "name": "stdout",
          "text": [
            "Warning: SAR image ROIs2017_winter_s1_8_p675.tif has 2 channels, but INPUT_NC is 3. Padding with zeros.\n",
            "Epoch [1/3], Step [250/1947]\n",
            "Loss_G: 5.2823 | Loss_G_GAN_A: 0.3190 | Loss_G_GAN_B: 0.6877\n",
            "Loss_cycle_SAR: 1.7042 | Loss_cycle_EO: 1.1704\n",
            "Loss_identity_A: 0.5534 | Loss_identity_B: 0.8476\n",
            "Loss_D_A: 0.1991 | Loss_D_B: 0.1159\n"
          ]
        },
        {
          "output_type": "stream",
          "name": "stderr",
          "text": [
            "Epoch 1/3:  13%|█▎        | 252/1947 [2:14:38<14:50:50, 31.53s/it]"
          ]
        },
        {
          "output_type": "stream",
          "name": "stdout",
          "text": [
            "Warning: SAR image ROIs2017_winter_s1_21_p181.tif has 2 channels, but INPUT_NC is 3. Padding with zeros.\n",
            "Epoch [1/3], Step [251/1947]\n",
            "Loss_G: 5.8538 | Loss_G_GAN_A: 0.4895 | Loss_G_GAN_B: 1.1789\n",
            "Loss_cycle_SAR: 1.1881 | Loss_cycle_EO: 1.9367\n",
            "Loss_identity_A: 0.3705 | Loss_identity_B: 0.6901\n",
            "Loss_D_A: 0.1285 | Loss_D_B: 0.0630\n"
          ]
        },
        {
          "output_type": "stream",
          "name": "stderr",
          "text": [
            "Epoch 1/3:  13%|█▎        | 253/1947 [2:15:09<14:47:48, 31.45s/it]"
          ]
        },
        {
          "output_type": "stream",
          "name": "stdout",
          "text": [
            "Warning: SAR image ROIs2017_winter_s1_8_p839.tif has 2 channels, but INPUT_NC is 3. Padding with zeros.\n",
            "Epoch [1/3], Step [252/1947]\n",
            "Loss_G: 4.8913 | Loss_G_GAN_A: 0.6691 | Loss_G_GAN_B: 0.3392\n",
            "Loss_cycle_SAR: 1.0014 | Loss_cycle_EO: 1.4267\n",
            "Loss_identity_A: 0.9496 | Loss_identity_B: 0.5054\n",
            "Loss_D_A: 0.0874 | Loss_D_B: 0.1155\n"
          ]
        },
        {
          "output_type": "stream",
          "name": "stderr",
          "text": [
            "Epoch 1/3:  13%|█▎        | 254/1947 [2:15:42<14:53:32, 31.67s/it]"
          ]
        },
        {
          "output_type": "stream",
          "name": "stdout",
          "text": [
            "Warning: SAR image ROIs2017_winter_s1_8_p51.tif has 2 channels, but INPUT_NC is 3. Padding with zeros.\n",
            "Epoch [1/3], Step [253/1947]\n",
            "Loss_G: 4.1670 | Loss_G_GAN_A: 0.8468 | Loss_G_GAN_B: 1.3594\n",
            "Loss_cycle_SAR: 0.8794 | Loss_cycle_EO: 0.3465\n",
            "Loss_identity_A: 0.2420 | Loss_identity_B: 0.4929\n",
            "Loss_D_A: 0.1427 | Loss_D_B: 0.0623\n"
          ]
        },
        {
          "output_type": "stream",
          "name": "stderr",
          "text": [
            "Epoch 1/3:  13%|█▎        | 255/1947 [2:16:13<14:53:44, 31.69s/it]"
          ]
        },
        {
          "output_type": "stream",
          "name": "stdout",
          "text": [
            "Warning: SAR image ROIs2017_winter_s1_21_p756.tif has 2 channels, but INPUT_NC is 3. Padding with zeros.\n",
            "Epoch [1/3], Step [254/1947]\n",
            "Loss_G: 3.5099 | Loss_G_GAN_A: 0.2270 | Loss_G_GAN_B: 0.8413\n",
            "Loss_cycle_SAR: 1.0437 | Loss_cycle_EO: 0.7086\n",
            "Loss_identity_A: 0.1682 | Loss_identity_B: 0.5210\n",
            "Loss_D_A: 0.1796 | Loss_D_B: 0.0347\n"
          ]
        },
        {
          "output_type": "stream",
          "name": "stderr",
          "text": [
            "Epoch 1/3:  13%|█▎        | 256/1947 [2:16:45<14:54:37, 31.74s/it]"
          ]
        },
        {
          "output_type": "stream",
          "name": "stdout",
          "text": [
            "Warning: SAR image ROIs2017_winter_s1_22_p481.tif has 2 channels, but INPUT_NC is 3. Padding with zeros.\n",
            "Epoch [1/3], Step [255/1947]\n",
            "Loss_G: 6.5635 | Loss_G_GAN_A: 1.0159 | Loss_G_GAN_B: 0.7940\n",
            "Loss_cycle_SAR: 1.4576 | Loss_cycle_EO: 1.6661\n",
            "Loss_identity_A: 0.9079 | Loss_identity_B: 0.7221\n",
            "Loss_D_A: 0.1538 | Loss_D_B: 0.0328\n"
          ]
        },
        {
          "output_type": "stream",
          "name": "stderr",
          "text": [
            "Epoch 1/3:  13%|█▎        | 257/1947 [2:17:17<14:50:55, 31.63s/it]"
          ]
        },
        {
          "output_type": "stream",
          "name": "stdout",
          "text": [
            "Warning: SAR image ROIs2017_winter_s1_8_p178.tif has 2 channels, but INPUT_NC is 3. Padding with zeros.\n",
            "Epoch [1/3], Step [256/1947]\n",
            "Loss_G: 3.5676 | Loss_G_GAN_A: 0.1013 | Loss_G_GAN_B: 0.6462\n",
            "Loss_cycle_SAR: 1.4536 | Loss_cycle_EO: 0.5454\n",
            "Loss_identity_A: 0.1441 | Loss_identity_B: 0.6772\n",
            "Loss_D_A: 0.2596 | Loss_D_B: 0.0343\n"
          ]
        },
        {
          "output_type": "stream",
          "name": "stderr",
          "text": [
            "Epoch 1/3:  13%|█▎        | 258/1947 [2:17:48<14:49:16, 31.59s/it]"
          ]
        },
        {
          "output_type": "stream",
          "name": "stdout",
          "text": [
            "Warning: SAR image ROIs2017_winter_s1_8_p228.tif has 2 channels, but INPUT_NC is 3. Padding with zeros.\n",
            "Epoch [1/3], Step [257/1947]\n",
            "Loss_G: 6.5874 | Loss_G_GAN_A: 1.2698 | Loss_G_GAN_B: 0.9608\n",
            "Loss_cycle_SAR: 2.4060 | Loss_cycle_EO: 0.2302\n",
            "Loss_identity_A: 0.5573 | Loss_identity_B: 1.1633\n",
            "Loss_D_A: 0.3290 | Loss_D_B: 0.0114\n"
          ]
        },
        {
          "output_type": "stream",
          "name": "stderr",
          "text": [
            "Epoch 1/3:  13%|█▎        | 259/1947 [2:18:21<15:02:00, 32.06s/it]"
          ]
        },
        {
          "output_type": "stream",
          "name": "stdout",
          "text": [
            "Warning: SAR image ROIs2017_winter_s1_21_p252.tif has 2 channels, but INPUT_NC is 3. Padding with zeros.\n",
            "Epoch [1/3], Step [258/1947]\n",
            "Loss_G: 2.5343 | Loss_G_GAN_A: 0.1113 | Loss_G_GAN_B: 0.7018\n",
            "Loss_cycle_SAR: 0.9243 | Loss_cycle_EO: 0.2143\n",
            "Loss_identity_A: 0.1411 | Loss_identity_B: 0.4415\n",
            "Loss_D_A: 0.2579 | Loss_D_B: 0.0284\n"
          ]
        },
        {
          "output_type": "stream",
          "name": "stderr",
          "text": [
            "Epoch 1/3:  13%|█▎        | 260/1947 [2:18:53<14:59:27, 31.99s/it]"
          ]
        },
        {
          "output_type": "stream",
          "name": "stdout",
          "text": [
            "Warning: SAR image ROIs2017_winter_s1_8_p104.tif has 2 channels, but INPUT_NC is 3. Padding with zeros.\n",
            "Epoch [1/3], Step [259/1947]\n",
            "Loss_G: 2.9589 | Loss_G_GAN_A: 0.1811 | Loss_G_GAN_B: 0.4658\n",
            "Loss_cycle_SAR: 0.9434 | Loss_cycle_EO: 0.2894\n",
            "Loss_identity_A: 0.6141 | Loss_identity_B: 0.4650\n",
            "Loss_D_A: 0.2326 | Loss_D_B: 0.0639\n"
          ]
        },
        {
          "output_type": "stream",
          "name": "stderr",
          "text": [
            "Epoch 1/3:  13%|█▎        | 261/1947 [2:19:25<14:56:50, 31.92s/it]"
          ]
        },
        {
          "output_type": "stream",
          "name": "stdout",
          "text": [
            "Warning: SAR image ROIs2017_winter_s1_8_p692.tif has 2 channels, but INPUT_NC is 3. Padding with zeros.\n",
            "Epoch [1/3], Step [260/1947]\n",
            "Loss_G: 6.4067 | Loss_G_GAN_A: 0.4572 | Loss_G_GAN_B: 1.4901\n",
            "Loss_cycle_SAR: 1.3907 | Loss_cycle_EO: 1.2531\n",
            "Loss_identity_A: 1.1266 | Loss_identity_B: 0.6890\n",
            "Loss_D_A: 0.0783 | Loss_D_B: 0.1111\n"
          ]
        },
        {
          "output_type": "stream",
          "name": "stderr",
          "text": [
            "Epoch 1/3:  13%|█▎        | 262/1947 [2:19:57<15:00:50, 32.08s/it]"
          ]
        },
        {
          "output_type": "stream",
          "name": "stdout",
          "text": [
            "Warning: SAR image ROIs2017_winter_s1_8_p829.tif has 2 channels, but INPUT_NC is 3. Padding with zeros.\n",
            "Epoch [1/3], Step [261/1947]\n",
            "Loss_G: 5.0365 | Loss_G_GAN_A: 0.8621 | Loss_G_GAN_B: 0.8752\n",
            "Loss_cycle_SAR: 1.1380 | Loss_cycle_EO: 1.2396\n",
            "Loss_identity_A: 0.3758 | Loss_identity_B: 0.5458\n",
            "Loss_D_A: 0.0484 | Loss_D_B: 0.0187\n"
          ]
        },
        {
          "output_type": "stream",
          "name": "stderr",
          "text": [
            "Epoch 1/3:  14%|█▎        | 263/1947 [2:20:30<15:02:30, 32.16s/it]"
          ]
        },
        {
          "output_type": "stream",
          "name": "stdout",
          "text": [
            "Warning: SAR image ROIs2017_winter_s1_22_p404.tif has 2 channels, but INPUT_NC is 3. Padding with zeros.\n",
            "Epoch [1/3], Step [262/1947]\n",
            "Loss_G: 5.5047 | Loss_G_GAN_A: 1.3213 | Loss_G_GAN_B: 0.5540\n",
            "Loss_cycle_SAR: 1.2708 | Loss_cycle_EO: 0.8259\n",
            "Loss_identity_A: 1.0366 | Loss_identity_B: 0.4961\n",
            "Loss_D_A: 0.0483 | Loss_D_B: 0.0476\n"
          ]
        },
        {
          "output_type": "stream",
          "name": "stderr",
          "text": [
            "Epoch 1/3:  14%|█▎        | 264/1947 [2:21:02<15:01:16, 32.13s/it]"
          ]
        },
        {
          "output_type": "stream",
          "name": "stdout",
          "text": [
            "Warning: SAR image ROIs2017_winter_s1_8_p124.tif has 2 channels, but INPUT_NC is 3. Padding with zeros.\n",
            "Epoch [1/3], Step [263/1947]\n",
            "Loss_G: 8.8621 | Loss_G_GAN_A: 0.8715 | Loss_G_GAN_B: 0.6202\n",
            "Loss_cycle_SAR: 2.3316 | Loss_cycle_EO: 3.3446\n",
            "Loss_identity_A: 0.4454 | Loss_identity_B: 1.2488\n",
            "Loss_D_A: 0.0457 | Loss_D_B: 0.0426\n"
          ]
        },
        {
          "output_type": "stream",
          "name": "stderr",
          "text": [
            "Epoch 1/3:  14%|█▎        | 265/1947 [2:21:32<14:50:13, 31.76s/it]"
          ]
        },
        {
          "output_type": "stream",
          "name": "stdout",
          "text": [
            "Warning: SAR image ROIs2017_winter_s1_21_p183.tif has 2 channels, but INPUT_NC is 3. Padding with zeros.\n",
            "Epoch [1/3], Step [264/1947]\n",
            "Loss_G: 4.1271 | Loss_G_GAN_A: 0.2234 | Loss_G_GAN_B: 1.5505\n",
            "Loss_cycle_SAR: 1.0422 | Loss_cycle_EO: 0.5650\n",
            "Loss_identity_A: 0.2297 | Loss_identity_B: 0.5164\n",
            "Loss_D_A: 0.1463 | Loss_D_B: 0.0997\n"
          ]
        },
        {
          "output_type": "stream",
          "name": "stderr",
          "text": [
            "Epoch 1/3:  14%|█▎        | 266/1947 [2:22:04<14:49:36, 31.75s/it]"
          ]
        },
        {
          "output_type": "stream",
          "name": "stdout",
          "text": [
            "Warning: SAR image ROIs2017_winter_s1_22_p597.tif has 2 channels, but INPUT_NC is 3. Padding with zeros.\n",
            "Epoch [1/3], Step [265/1947]\n",
            "Loss_G: 3.9284 | Loss_G_GAN_A: 0.9692 | Loss_G_GAN_B: 0.7019\n",
            "Loss_cycle_SAR: 1.1001 | Loss_cycle_EO: 0.3065\n",
            "Loss_identity_A: 0.3043 | Loss_identity_B: 0.5464\n",
            "Loss_D_A: 0.3653 | Loss_D_B: 0.0334\n"
          ]
        },
        {
          "output_type": "stream",
          "name": "stderr",
          "text": [
            "Epoch 1/3:  14%|█▎        | 267/1947 [2:22:35<14:41:57, 31.50s/it]"
          ]
        },
        {
          "output_type": "stream",
          "name": "stdout",
          "text": [
            "Warning: SAR image ROIs2017_winter_s1_21_p103.tif has 2 channels, but INPUT_NC is 3. Padding with zeros.\n",
            "Epoch [1/3], Step [266/1947]\n",
            "Loss_G: 5.7652 | Loss_G_GAN_A: 0.3564 | Loss_G_GAN_B: 0.6885\n",
            "Loss_cycle_SAR: 1.6346 | Loss_cycle_EO: 1.4220\n",
            "Loss_identity_A: 0.8677 | Loss_identity_B: 0.7959\n",
            "Loss_D_A: 0.1452 | Loss_D_B: 0.0327\n"
          ]
        },
        {
          "output_type": "stream",
          "name": "stderr",
          "text": [
            "Epoch 1/3:  14%|█▍        | 268/1947 [2:23:07<14:45:59, 31.66s/it]"
          ]
        },
        {
          "output_type": "stream",
          "name": "stdout",
          "text": [
            "Warning: SAR image ROIs2017_winter_s1_21_p394.tif has 2 channels, but INPUT_NC is 3. Padding with zeros.\n",
            "Epoch [1/3], Step [267/1947]\n",
            "Loss_G: 4.8374 | Loss_G_GAN_A: 0.2780 | Loss_G_GAN_B: 1.1333\n",
            "Loss_cycle_SAR: 1.2935 | Loss_cycle_EO: 1.2912\n",
            "Loss_identity_A: 0.1562 | Loss_identity_B: 0.6852\n",
            "Loss_D_A: 0.1560 | Loss_D_B: 0.0267\n"
          ]
        },
        {
          "output_type": "stream",
          "name": "stderr",
          "text": [
            "Epoch 1/3:  14%|█▍        | 269/1947 [2:23:41<15:02:07, 32.26s/it]"
          ]
        },
        {
          "output_type": "stream",
          "name": "stdout",
          "text": [
            "Warning: SAR image ROIs2017_winter_s1_22_p475.tif has 2 channels, but INPUT_NC is 3. Padding with zeros.\n",
            "Epoch [1/3], Step [268/1947]\n",
            "Loss_G: 4.4823 | Loss_G_GAN_A: 0.3409 | Loss_G_GAN_B: 0.8015\n",
            "Loss_cycle_SAR: 1.4264 | Loss_cycle_EO: 0.9650\n",
            "Loss_identity_A: 0.2823 | Loss_identity_B: 0.6661\n",
            "Loss_D_A: 0.0995 | Loss_D_B: 0.0227\n"
          ]
        },
        {
          "output_type": "stream",
          "name": "stderr",
          "text": [
            "Epoch 1/3:  14%|█▍        | 270/1947 [2:24:13<15:00:26, 32.22s/it]"
          ]
        },
        {
          "output_type": "stream",
          "name": "stdout",
          "text": [
            "Warning: SAR image ROIs2017_winter_s1_22_p211.tif has 2 channels, but INPUT_NC is 3. Padding with zeros.\n",
            "Epoch [1/3], Step [269/1947]\n",
            "Loss_G: 4.0977 | Loss_G_GAN_A: 0.9786 | Loss_G_GAN_B: 0.9693\n",
            "Loss_cycle_SAR: 1.0750 | Loss_cycle_EO: 0.2615\n",
            "Loss_identity_A: 0.2940 | Loss_identity_B: 0.5194\n",
            "Loss_D_A: 0.0874 | Loss_D_B: 0.0233\n"
          ]
        },
        {
          "output_type": "stream",
          "name": "stderr",
          "text": [
            "Epoch 1/3:  14%|█▍        | 271/1947 [2:24:44<14:50:29, 31.88s/it]"
          ]
        },
        {
          "output_type": "stream",
          "name": "stdout",
          "text": [
            "Warning: SAR image ROIs2017_winter_s1_8_p621.tif has 2 channels, but INPUT_NC is 3. Padding with zeros.\n",
            "Epoch [1/3], Step [270/1947]\n",
            "Loss_G: 4.6855 | Loss_G_GAN_A: 0.2898 | Loss_G_GAN_B: 0.9241\n",
            "Loss_cycle_SAR: 0.8604 | Loss_cycle_EO: 1.5492\n",
            "Loss_identity_A: 0.6418 | Loss_identity_B: 0.4202\n",
            "Loss_D_A: 0.1172 | Loss_D_B: 0.0284\n"
          ]
        },
        {
          "output_type": "stream",
          "name": "stderr",
          "text": [
            "Epoch 1/3:  14%|█▍        | 272/1947 [2:25:15<14:39:52, 31.52s/it]"
          ]
        },
        {
          "output_type": "stream",
          "name": "stdout",
          "text": [
            "Warning: SAR image ROIs2017_winter_s1_8_p745.tif has 2 channels, but INPUT_NC is 3. Padding with zeros.\n",
            "Epoch [1/3], Step [271/1947]\n",
            "Loss_G: 6.0707 | Loss_G_GAN_A: 1.6894 | Loss_G_GAN_B: 0.7596\n",
            "Loss_cycle_SAR: 1.6588 | Loss_cycle_EO: 0.6861\n",
            "Loss_identity_A: 0.4455 | Loss_identity_B: 0.8314\n",
            "Loss_D_A: 0.0729 | Loss_D_B: 0.0258\n"
          ]
        },
        {
          "output_type": "stream",
          "name": "stderr",
          "text": [
            "Epoch 1/3:  14%|█▍        | 273/1947 [2:25:47<14:43:57, 31.68s/it]"
          ]
        },
        {
          "output_type": "stream",
          "name": "stdout",
          "text": [
            "Warning: SAR image ROIs2017_winter_s1_8_p403.tif has 2 channels, but INPUT_NC is 3. Padding with zeros.\n",
            "Epoch [1/3], Step [272/1947]\n",
            "Loss_G: 5.1726 | Loss_G_GAN_A: 1.5191 | Loss_G_GAN_B: 1.3648\n",
            "Loss_cycle_SAR: 1.0044 | Loss_cycle_EO: 0.4641\n",
            "Loss_identity_A: 0.3490 | Loss_identity_B: 0.4713\n",
            "Loss_D_A: 0.1481 | Loss_D_B: 0.0264\n"
          ]
        },
        {
          "output_type": "stream",
          "name": "stderr",
          "text": [
            "Epoch 1/3:  14%|█▍        | 274/1947 [2:26:18<14:39:00, 31.52s/it]"
          ]
        },
        {
          "output_type": "stream",
          "name": "stdout",
          "text": [
            "Warning: SAR image ROIs2017_winter_s1_22_p173.tif has 2 channels, but INPUT_NC is 3. Padding with zeros.\n",
            "Epoch [1/3], Step [273/1947]\n",
            "Loss_G: 4.4097 | Loss_G_GAN_A: 0.2897 | Loss_G_GAN_B: 0.7882\n",
            "Loss_cycle_SAR: 1.1449 | Loss_cycle_EO: 1.2578\n",
            "Loss_identity_A: 0.3245 | Loss_identity_B: 0.6046\n",
            "Loss_D_A: 0.1472 | Loss_D_B: 0.0214\n"
          ]
        },
        {
          "output_type": "stream",
          "name": "stderr",
          "text": [
            "Epoch 1/3:  14%|█▍        | 275/1947 [2:26:49<14:34:22, 31.38s/it]"
          ]
        },
        {
          "output_type": "stream",
          "name": "stdout",
          "text": [
            "Warning: SAR image ROIs2017_winter_s1_22_p536.tif has 2 channels, but INPUT_NC is 3. Padding with zeros.\n",
            "Epoch [1/3], Step [274/1947]\n",
            "Loss_G: 5.0871 | Loss_G_GAN_A: 1.0253 | Loss_G_GAN_B: 0.5620\n",
            "Loss_cycle_SAR: 1.1664 | Loss_cycle_EO: 1.1572\n",
            "Loss_identity_A: 0.6014 | Loss_identity_B: 0.5747\n",
            "Loss_D_A: 0.0264 | Loss_D_B: 0.0459\n"
          ]
        },
        {
          "output_type": "stream",
          "name": "stderr",
          "text": [
            "Epoch 1/3:  14%|█▍        | 276/1947 [2:27:20<14:30:15, 31.25s/it]"
          ]
        },
        {
          "output_type": "stream",
          "name": "stdout",
          "text": [
            "Warning: SAR image ROIs2017_winter_s1_22_p510.tif has 2 channels, but INPUT_NC is 3. Padding with zeros.\n",
            "Epoch [1/3], Step [275/1947]\n",
            "Loss_G: 4.3020 | Loss_G_GAN_A: 0.6779 | Loss_G_GAN_B: 0.7624\n",
            "Loss_cycle_SAR: 0.9396 | Loss_cycle_EO: 1.0395\n",
            "Loss_identity_A: 0.4014 | Loss_identity_B: 0.4812\n",
            "Loss_D_A: 0.0404 | Loss_D_B: 0.0406\n"
          ]
        },
        {
          "output_type": "stream",
          "name": "stderr",
          "text": [
            "Epoch 1/3:  14%|█▍        | 277/1947 [2:27:51<14:29:02, 31.22s/it]"
          ]
        },
        {
          "output_type": "stream",
          "name": "stdout",
          "text": [
            "Warning: SAR image ROIs2017_winter_s1_8_p750.tif has 2 channels, but INPUT_NC is 3. Padding with zeros.\n",
            "Epoch [1/3], Step [276/1947]\n",
            "Loss_G: 4.6907 | Loss_G_GAN_A: 0.8557 | Loss_G_GAN_B: 1.5830\n",
            "Loss_cycle_SAR: 1.0265 | Loss_cycle_EO: 0.4153\n",
            "Loss_identity_A: 0.3141 | Loss_identity_B: 0.4962\n",
            "Loss_D_A: 0.0117 | Loss_D_B: 0.0838\n"
          ]
        },
        {
          "output_type": "stream",
          "name": "stderr",
          "text": [
            "Epoch 1/3:  14%|█▍        | 278/1947 [2:28:23<14:33:43, 31.41s/it]"
          ]
        },
        {
          "output_type": "stream",
          "name": "stdout",
          "text": [
            "Warning: SAR image ROIs2017_winter_s1_8_p36.tif has 2 channels, but INPUT_NC is 3. Padding with zeros.\n",
            "Epoch [1/3], Step [277/1947]\n",
            "Loss_G: 6.5990 | Loss_G_GAN_A: 1.0567 | Loss_G_GAN_B: 0.2131\n",
            "Loss_cycle_SAR: 2.2291 | Loss_cycle_EO: 1.7430\n",
            "Loss_identity_A: 0.2471 | Loss_identity_B: 1.1099\n",
            "Loss_D_A: 0.0148 | Loss_D_B: 0.1791\n"
          ]
        },
        {
          "output_type": "stream",
          "name": "stderr",
          "text": [
            "Epoch 1/3:  14%|█▍        | 279/1947 [2:28:56<14:50:23, 32.03s/it]"
          ]
        },
        {
          "output_type": "stream",
          "name": "stdout",
          "text": [
            "Warning: SAR image ROIs2017_winter_s1_21_p117.tif has 2 channels, but INPUT_NC is 3. Padding with zeros.\n",
            "Epoch [1/3], Step [278/1947]\n",
            "Loss_G: 7.6782 | Loss_G_GAN_A: 1.0002 | Loss_G_GAN_B: 1.1833\n",
            "Loss_cycle_SAR: 1.2499 | Loss_cycle_EO: 2.9348\n",
            "Loss_identity_A: 0.6917 | Loss_identity_B: 0.6184\n",
            "Loss_D_A: 0.1314 | Loss_D_B: 0.0539\n"
          ]
        },
        {
          "output_type": "stream",
          "name": "stderr",
          "text": [
            "Epoch 1/3:  14%|█▍        | 280/1947 [2:29:28<14:43:55, 31.82s/it]"
          ]
        },
        {
          "output_type": "stream",
          "name": "stdout",
          "text": [
            "Warning: SAR image ROIs2017_winter_s1_21_p829.tif has 2 channels, but INPUT_NC is 3. Padding with zeros.\n",
            "Epoch [1/3], Step [279/1947]\n",
            "Loss_G: 4.2445 | Loss_G_GAN_A: 0.0085 | Loss_G_GAN_B: 1.5074\n",
            "Loss_cycle_SAR: 1.0072 | Loss_cycle_EO: 1.0614\n",
            "Loss_identity_A: 0.1461 | Loss_identity_B: 0.5139\n",
            "Loss_D_A: 0.4590 | Loss_D_B: 0.0462\n"
          ]
        },
        {
          "output_type": "stream",
          "name": "stderr",
          "text": [
            "Epoch 1/3:  14%|█▍        | 281/1947 [2:30:00<14:45:10, 31.88s/it]"
          ]
        },
        {
          "output_type": "stream",
          "name": "stdout",
          "text": [
            "Warning: SAR image ROIs2017_winter_s1_22_p53.tif has 2 channels, but INPUT_NC is 3. Padding with zeros.\n",
            "Epoch [1/3], Step [280/1947]\n",
            "Loss_G: 3.7959 | Loss_G_GAN_A: 0.6314 | Loss_G_GAN_B: 0.9922\n",
            "Loss_cycle_SAR: 0.9710 | Loss_cycle_EO: 0.5941\n",
            "Loss_identity_A: 0.1420 | Loss_identity_B: 0.4653\n",
            "Loss_D_A: 0.0874 | Loss_D_B: 0.0316\n"
          ]
        },
        {
          "output_type": "stream",
          "name": "stderr",
          "text": [
            "Epoch 1/3:  14%|█▍        | 282/1947 [2:30:31<14:37:41, 31.63s/it]"
          ]
        },
        {
          "output_type": "stream",
          "name": "stdout",
          "text": [
            "Warning: SAR image ROIs2017_winter_s1_22_p83.tif has 2 channels, but INPUT_NC is 3. Padding with zeros.\n",
            "Epoch [1/3], Step [281/1947]\n",
            "Loss_G: 5.4681 | Loss_G_GAN_A: 1.2187 | Loss_G_GAN_B: 0.9791\n",
            "Loss_cycle_SAR: 1.0078 | Loss_cycle_EO: 1.4731\n",
            "Loss_identity_A: 0.3138 | Loss_identity_B: 0.4756\n",
            "Loss_D_A: 0.2261 | Loss_D_B: 0.0121\n"
          ]
        },
        {
          "output_type": "stream",
          "name": "stderr",
          "text": [
            "Epoch 1/3:  15%|█▍        | 283/1947 [2:31:03<14:45:00, 31.91s/it]"
          ]
        },
        {
          "output_type": "stream",
          "name": "stdout",
          "text": [
            "Warning: SAR image ROIs2017_winter_s1_21_p44.tif has 2 channels, but INPUT_NC is 3. Padding with zeros.\n",
            "Epoch [1/3], Step [282/1947]\n",
            "Loss_G: 5.3236 | Loss_G_GAN_A: 0.4783 | Loss_G_GAN_B: 0.8400\n",
            "Loss_cycle_SAR: 1.7779 | Loss_cycle_EO: 1.1081\n",
            "Loss_identity_A: 0.2199 | Loss_identity_B: 0.8995\n",
            "Loss_D_A: 0.1351 | Loss_D_B: 0.0393\n"
          ]
        },
        {
          "output_type": "stream",
          "name": "stderr",
          "text": [
            "Epoch 1/3:  15%|█▍        | 284/1947 [2:31:35<14:44:46, 31.92s/it]"
          ]
        },
        {
          "output_type": "stream",
          "name": "stdout",
          "text": [
            "Warning: SAR image ROIs2017_winter_s1_22_p714.tif has 2 channels, but INPUT_NC is 3. Padding with zeros.\n",
            "Epoch [1/3], Step [283/1947]\n",
            "Loss_G: 3.7080 | Loss_G_GAN_A: 0.4225 | Loss_G_GAN_B: 0.6546\n",
            "Loss_cycle_SAR: 1.1722 | Loss_cycle_EO: 0.3605\n",
            "Loss_identity_A: 0.5094 | Loss_identity_B: 0.5888\n",
            "Loss_D_A: 0.0766 | Loss_D_B: 0.0473\n"
          ]
        },
        {
          "output_type": "stream",
          "name": "stderr",
          "text": [
            "Epoch 1/3:  15%|█▍        | 285/1947 [2:32:07<14:38:10, 31.70s/it]"
          ]
        },
        {
          "output_type": "stream",
          "name": "stdout",
          "text": [
            "Warning: SAR image ROIs2017_winter_s1_8_p538.tif has 2 channels, but INPUT_NC is 3. Padding with zeros.\n",
            "Epoch [1/3], Step [284/1947]\n",
            "Loss_G: 4.2832 | Loss_G_GAN_A: 1.1359 | Loss_G_GAN_B: 0.9205\n",
            "Loss_cycle_SAR: 1.0813 | Loss_cycle_EO: 0.3966\n",
            "Loss_identity_A: 0.2489 | Loss_identity_B: 0.5000\n",
            "Loss_D_A: 0.0406 | Loss_D_B: 0.0999\n"
          ]
        },
        {
          "output_type": "stream",
          "name": "stderr",
          "text": [
            "Epoch 1/3:  15%|█▍        | 286/1947 [2:32:39<14:40:04, 31.79s/it]"
          ]
        },
        {
          "output_type": "stream",
          "name": "stdout",
          "text": [
            "Warning: SAR image ROIs2017_winter_s1_8_p372.tif has 2 channels, but INPUT_NC is 3. Padding with zeros.\n",
            "Epoch [1/3], Step [285/1947]\n",
            "Loss_G: 5.7553 | Loss_G_GAN_A: 1.2868 | Loss_G_GAN_B: 0.7593\n",
            "Loss_cycle_SAR: 1.0226 | Loss_cycle_EO: 1.6181\n",
            "Loss_identity_A: 0.5853 | Loss_identity_B: 0.4833\n",
            "Loss_D_A: 0.1109 | Loss_D_B: 0.0524\n"
          ]
        },
        {
          "output_type": "stream",
          "name": "stderr",
          "text": [
            "Epoch 1/3:  15%|█▍        | 287/1947 [2:33:10<14:39:07, 31.78s/it]"
          ]
        },
        {
          "output_type": "stream",
          "name": "stdout",
          "text": [
            "Warning: SAR image ROIs2017_winter_s1_8_p774.tif has 2 channels, but INPUT_NC is 3. Padding with zeros.\n",
            "Epoch [1/3], Step [286/1947]\n",
            "Loss_G: 4.9972 | Loss_G_GAN_A: 0.2099 | Loss_G_GAN_B: 0.7893\n",
            "Loss_cycle_SAR: 1.0918 | Loss_cycle_EO: 1.4083\n",
            "Loss_identity_A: 0.9739 | Loss_identity_B: 0.5242\n",
            "Loss_D_A: 0.1623 | Loss_D_B: 0.0270\n"
          ]
        },
        {
          "output_type": "stream",
          "name": "stderr",
          "text": [
            "Epoch 1/3:  15%|█▍        | 288/1947 [2:33:43<14:49:29, 32.17s/it]"
          ]
        },
        {
          "output_type": "stream",
          "name": "stdout",
          "text": [
            "Warning: SAR image ROIs2017_winter_s1_22_p397.tif has 2 channels, but INPUT_NC is 3. Padding with zeros.\n",
            "Epoch [1/3], Step [287/1947]\n",
            "Loss_G: 5.7305 | Loss_G_GAN_A: 0.7566 | Loss_G_GAN_B: 1.3741\n",
            "Loss_cycle_SAR: 1.3133 | Loss_cycle_EO: 1.1689\n",
            "Loss_identity_A: 0.4500 | Loss_identity_B: 0.6675\n",
            "Loss_D_A: 0.0149 | Loss_D_B: 0.0375\n"
          ]
        },
        {
          "output_type": "stream",
          "name": "stderr",
          "text": [
            "Epoch 1/3:  15%|█▍        | 289/1947 [2:34:15<14:48:05, 32.14s/it]"
          ]
        },
        {
          "output_type": "stream",
          "name": "stdout",
          "text": [
            "Warning: SAR image ROIs2017_winter_s1_21_p441.tif has 2 channels, but INPUT_NC is 3. Padding with zeros.\n",
            "Epoch [1/3], Step [288/1947]\n",
            "Loss_G: 6.2837 | Loss_G_GAN_A: 1.0222 | Loss_G_GAN_B: 0.6960\n",
            "Loss_cycle_SAR: 1.5885 | Loss_cycle_EO: 1.5311\n",
            "Loss_identity_A: 0.6033 | Loss_identity_B: 0.8426\n",
            "Loss_D_A: 0.0144 | Loss_D_B: 0.0353\n"
          ]
        },
        {
          "output_type": "stream",
          "name": "stderr",
          "text": [
            "Epoch 1/3:  15%|█▍        | 290/1947 [2:34:47<14:41:53, 31.93s/it]"
          ]
        },
        {
          "output_type": "stream",
          "name": "stdout",
          "text": [
            "Warning: SAR image ROIs2017_winter_s1_8_p769.tif has 2 channels, but INPUT_NC is 3. Padding with zeros.\n",
            "Epoch [1/3], Step [289/1947]\n",
            "Loss_G: 5.3995 | Loss_G_GAN_A: 1.5836 | Loss_G_GAN_B: 0.8108\n",
            "Loss_cycle_SAR: 1.4318 | Loss_cycle_EO: 0.6866\n",
            "Loss_identity_A: 0.2072 | Loss_identity_B: 0.6795\n",
            "Loss_D_A: 0.0470 | Loss_D_B: 0.1771\n"
          ]
        }
      ],
      "source": [
        "if __name__ == '__main__':\n",
        "    train_cyclegan()\n"
      ]
    },
    {
      "cell_type": "code",
      "execution_count": null,
      "metadata": {
        "id": "nDz7M1qBxiXt"
      },
      "outputs": [],
      "source": [
        "\n"
      ]
    },
    {
      "cell_type": "code",
      "execution_count": null,
      "metadata": {
        "id": "WVWcdbsUpzcG"
      },
      "outputs": [],
      "source": []
    }
  ],
  "metadata": {
    "accelerator": "GPU",
    "colab": {
      "gpuType": "T4",
      "provenance": [],
      "mount_file_id": "1atBwz4DUxQaR3-9DfpXynSAOtv27iQLp",
      "authorship_tag": "ABX9TyPuxrH2ty8gZP8dpRvcSjMw",
      "include_colab_link": true
    },
    "kernelspec": {
      "display_name": "Python 3",
      "name": "python3"
    },
    "language_info": {
      "name": "python"
    }
  },
  "nbformat": 4,
  "nbformat_minor": 0
}