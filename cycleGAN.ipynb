{
  "nbformat": 4,
  "nbformat_minor": 0,
  "metadata": {
    "colab": {
      "provenance": [],
      "mount_file_id": "1atBwz4DUxQaR3-9DfpXynSAOtv27iQLp",
      "authorship_tag": "ABX9TyMy0YXYg+h7v2Tx0XuURDZF",
      "include_colab_link": true
    },
    "kernelspec": {
      "name": "python3",
      "display_name": "Python 3"
    },
    "language_info": {
      "name": "python"
    }
  },
  "cells": [
    {
      "cell_type": "markdown",
      "metadata": {
        "id": "view-in-github",
        "colab_type": "text"
      },
      "source": [
        "<a href=\"https://colab.research.google.com/github/Disha-Sikka/SAR-to-EO-CycleGAN/blob/main/cycleGAN.ipynb\" target=\"_parent\"><img src=\"https://colab.research.google.com/assets/colab-badge.svg\" alt=\"Open In Colab\"/></a>"
      ]
    },
    {
      "cell_type": "code",
      "execution_count": null,
      "metadata": {
        "colab": {
          "base_uri": "https://localhost:8080/"
        },
        "id": "5O0WzZ17LDUv",
        "outputId": "d990827b-ed75-403b-855f-2b2cc8dbaea4"
      },
      "outputs": [
        {
          "output_type": "stream",
          "name": "stdout",
          "text": [
            "Drive already mounted at /content/drive; to attempt to forcibly remount, call drive.mount(\"/content/drive\", force_remount=True).\n"
          ]
        }
      ],
      "source": [
        "from google.colab import drive\n",
        "drive.mount('/content/drive')\n"
      ]
    },
    {
      "cell_type": "markdown",
      "source": [
        "# Copying Extracted files in Colab's Local Disk"
      ],
      "metadata": {
        "id": "acjJOSnyex6Q"
      }
    },
    {
      "cell_type": "code",
      "source": [
        "import shutil\n",
        "import os\n",
        "\n",
        "# store location of files in drive. So, that we can copy them\n",
        "drive_path_s1 = '/content/drive/MyDrive/CycleGAN/winter_s1'\n",
        "drive_path_s2 = '/content/drive/MyDrive/CycleGAN/winter_s2'\n",
        "\n",
        "# store location of colab's paths. Where you want to copy files\n",
        "colab_path_s1 = '/content/ROIs2017_winter_s1.tar.gz'\n",
        "colab_path_s2 = '/content/ROIs2017_winter_s2.tar.gz'\n",
        "\n",
        "print(\"Copying ROIs2017_winter_s1.tar.gz from Drive to Colab local disk...\")\n",
        "if os.path.exists(drive_path_s1):\n",
        "    shutil.copytree(drive_path_s1, colab_path_s1) # copytree --> is used to copy a folder while copy is used to cop a zip file\n",
        "    print(\"S1 file copied.\")\n",
        "else:\n",
        "    print(\"Wrong Path\")\n",
        "\n",
        "print(\"Copying ROIs2017_winter_s2.tar.gz from Drive to Colab local disk...\")\n",
        "if os.path.exists(drive_path_s2):\n",
        "    shutil.copytree(drive_path_s2, colab_path_s2)\n",
        "    print(\"S2 file copied.\")\n",
        "else:\n",
        "    print(\"Wrong Path\")\n",
        "\n",
        "print(\"Copying complete.\")"
      ],
      "metadata": {
        "id": "q1CywYH9ahp-",
        "colab": {
          "base_uri": "https://localhost:8080/"
        },
        "outputId": "10cf97db-8ee5-4731-d4f9-1de559e723c3"
      },
      "execution_count": 1,
      "outputs": [
        {
          "output_type": "stream",
          "name": "stdout",
          "text": [
            "Copying ROIs2017_winter_s1.tar.gz from Drive to Colab local disk...\n",
            "S1 file copied.\n",
            "Copying ROIs2017_winter_s2.tar.gz from Drive to Colab local disk...\n",
            "S2 file copied.\n",
            "Copying complete.\n"
          ]
        }
      ]
    }
  ]
}